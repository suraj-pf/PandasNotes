{
  "cells": [
    {
      "cell_type": "code",
      "execution_count": 48,
      "metadata": {
        "id": "FuP2atHNtHbr"
      },
      "outputs": [],
      "source": [
        "import numpy as np\n",
        "import pandas as pd"
      ]
    },
    {
      "cell_type": "markdown",
      "metadata": {
        "id": "GEXZCSwWthTK"
      },
      "source": [
        "### Timestamp Object\n",
        "\n",
        "Time stamps reference particular moments in time (e.g., Oct 24th, 2022 at 7:00pm)"
      ]
    },
    {
      "cell_type": "markdown",
      "metadata": {
        "id": "XH2gU7GZvKB6"
      },
      "source": [
        "### Creating Timestamp objects"
      ]
    },
    {
      "cell_type": "code",
      "execution_count": 49,
      "metadata": {
        "colab": {
          "base_uri": "https://localhost:8080/"
        },
        "id": "Y52x2MS-0ct7",
        "outputId": "8e118ff3-ec81-4ee7-9a40-08d1a6e453ad"
      },
      "outputs": [],
      "source": [
        "# creating a timestamp\n",
        "a = pd.Timestamp('2024/7/7')"
      ]
    },
    {
      "cell_type": "code",
      "execution_count": 50,
      "metadata": {},
      "outputs": [
        {
          "data": {
            "text/plain": [
              "pandas._libs.tslibs.timestamps.Timestamp"
            ]
          },
          "execution_count": 50,
          "metadata": {},
          "output_type": "execute_result"
        }
      ],
      "source": [
        "type(a)"
      ]
    },
    {
      "cell_type": "code",
      "execution_count": 51,
      "metadata": {
        "colab": {
          "base_uri": "https://localhost:8080/"
        },
        "id": "bj-V1BMotPLC",
        "outputId": "ac31013f-a5d2-47e2-eb32-feffa4620793"
      },
      "outputs": [
        {
          "data": {
            "text/plain": [
              "Timestamp('2023-01-05 00:00:00')"
            ]
          },
          "execution_count": 51,
          "metadata": {},
          "output_type": "execute_result"
        }
      ],
      "source": [
        "# variations\n",
        "pd.Timestamp('2023-1-5')\n",
        "pd.Timestamp('2023, 1, 5') #spcae is necessary"
      ]
    },
    {
      "cell_type": "code",
      "execution_count": 52,
      "metadata": {
        "colab": {
          "base_uri": "https://localhost:8080/"
        },
        "id": "mB-UXNVD0jyl",
        "outputId": "b087253e-70f2-4ce7-817f-17124fab9512"
      },
      "outputs": [
        {
          "data": {
            "text/plain": [
              "Timestamp('2024-01-01 00:00:00')"
            ]
          },
          "execution_count": 52,
          "metadata": {},
          "output_type": "execute_result"
        }
      ],
      "source": [
        "# only year\n",
        "pd.Timestamp('2024')"
      ]
    },
    {
      "cell_type": "code",
      "execution_count": 53,
      "metadata": {
        "colab": {
          "base_uri": "https://localhost:8080/"
        },
        "id": "iY1GA2Eb0osz",
        "outputId": "96cdbd12-a5f9-4494-fa2c-5b0440fb53ff"
      },
      "outputs": [
        {
          "data": {
            "text/plain": [
              "Timestamp('2023-07-10 13:55:00')"
            ]
          },
          "execution_count": 53,
          "metadata": {},
          "output_type": "execute_result"
        }
      ],
      "source": [
        "# using text\n",
        "pd.Timestamp('10 july 2023 1:55 PM')"
      ]
    },
    {
      "cell_type": "code",
      "execution_count": 54,
      "metadata": {},
      "outputs": [],
      "source": [
        "# AM and PM"
      ]
    },
    {
      "cell_type": "code",
      "execution_count": 55,
      "metadata": {
        "colab": {
          "base_uri": "https://localhost:8080/",
          "height": 295
        },
        "id": "X9kcHRAq0uGf",
        "outputId": "b071370b-da0f-49d2-a5c2-dd9ee66d621f"
      },
      "outputs": [
        {
          "data": {
            "text/plain": [
              "Timestamp('2023-01-05 09:21:00')"
            ]
          },
          "execution_count": 55,
          "metadata": {},
          "output_type": "execute_result"
        }
      ],
      "source": [
        "# providing time also\n",
        "pd.Timestamp('5th January 2023 9:21AM')\n",
        "# pd.Timestamp('2023/1/5/9/21')"
      ]
    },
    {
      "cell_type": "code",
      "execution_count": 56,
      "metadata": {
        "colab": {
          "base_uri": "https://localhost:8080/"
        },
        "id": "Y18HScxQ0yRT",
        "outputId": "800cb9f7-8774-4213-8f5f-6c203dbec3f3"
      },
      "outputs": [
        {
          "data": {
            "text/plain": [
              "Timestamp('2024-07-08 13:01:00')"
            ]
          },
          "execution_count": 56,
          "metadata": {},
          "output_type": "execute_result"
        }
      ],
      "source": [
        "# using datetime.datetime object\n",
        "import datetime as dt\n",
        "\n",
        "x = pd.Timestamp(dt.datetime(2024,7,8,13,1))\n",
        "x"
      ]
    },
    {
      "cell_type": "code",
      "execution_count": 57,
      "metadata": {
        "colab": {
          "base_uri": "https://localhost:8080/"
        },
        "id": "oY00r9U71OK4",
        "outputId": "d95471a1-1004-4ef3-db80-954f91cdc641"
      },
      "outputs": [
        {
          "data": {
            "text/plain": [
              "0"
            ]
          },
          "execution_count": 57,
          "metadata": {},
          "output_type": "execute_result"
        }
      ],
      "source": [
        "# fetching attributes\n",
        "x.year\n",
        "x.month\n",
        "x.day\n",
        "x.hour\n",
        "x.minute\n",
        "x.second"
      ]
    },
    {
      "cell_type": "code",
      "execution_count": 58,
      "metadata": {
        "id": "fVzCjSjJAZBE"
      },
      "outputs": [],
      "source": [
        "# why separate objects to handle data and time when python already has datetime functionality?"
      ]
    },
    {
      "cell_type": "markdown",
      "metadata": {
        "id": "97HDE2UJXyoT"
      },
      "source": [
        "- syntax wise datetime is very convenient\n",
        "- But the performance takes a hit while working with huge data. List vs Numpy Array\n",
        "- The weaknesses of Python's datetime format inspired the NumPy team to add a set of native time series data type to NumPy.\n",
        "- The datetime64 dtype encodes dates as 64-bit integers, and thus allows arrays of dates to be represented very compactly."
      ]
    },
    {
      "cell_type": "code",
      "execution_count": 59,
      "metadata": {
        "colab": {
          "base_uri": "https://localhost:8080/"
        },
        "id": "MkuVP85DZyp0",
        "outputId": "2356e543-75d3-45c7-d8fe-cdb877400a6c"
      },
      "outputs": [
        {
          "data": {
            "text/plain": [
              "array('2015-07-04', dtype='datetime64[D]')"
            ]
          },
          "execution_count": 59,
          "metadata": {},
          "output_type": "execute_result"
        }
      ],
      "source": [
        "import numpy as np\n",
        "date = np.array('2015-07-04', dtype=np.datetime64)\n",
        "date"
      ]
    },
    {
      "cell_type": "code",
      "execution_count": 60,
      "metadata": {
        "colab": {
          "base_uri": "https://localhost:8080/"
        },
        "id": "Ak5u64W6aBCS",
        "outputId": "4e2d8f11-b0c9-415e-966b-82a3770e1f5e"
      },
      "outputs": [
        {
          "data": {
            "text/plain": [
              "array(['2015-07-04', '2015-07-05', '2015-07-06', '2015-07-07',\n",
              "       '2015-07-08', '2015-07-09', '2015-07-10', '2015-07-11',\n",
              "       '2015-07-12', '2015-07-13', '2015-07-14', '2015-07-15'],\n",
              "      dtype='datetime64[D]')"
            ]
          },
          "execution_count": 60,
          "metadata": {},
          "output_type": "execute_result"
        }
      ],
      "source": [
        "date + np.arange(12)"
      ]
    },
    {
      "cell_type": "markdown",
      "metadata": {
        "id": "qyORT7KHZ29h"
      },
      "source": [
        "- Because of the uniform type in NumPy datetime64 arrays, this type of operation can be accomplished much more quickly than if we were working directly with Python's datetime objects, especially as arrays get large\n",
        "\n",
        "- Pandas Timestamp object combines the ease-of-use of python datetime with the efficient storage and vectorized interface of numpy.datetime64\n",
        "\n",
        "- From a group of these Timestamp objects, Pandas can construct a DatetimeIndex that can be used to index data in a Series or DataFrame"
      ]
    },
    {
      "cell_type": "markdown",
      "metadata": {
        "id": "eQQXAaHDxP8n"
      },
      "source": [
        "### DatetimeIndex Object\n",
        "\n",
        "A collection of pandas timestamp"
      ]
    },
    {
      "cell_type": "code",
      "execution_count": 61,
      "metadata": {
        "colab": {
          "base_uri": "https://localhost:8080/"
        },
        "id": "3nI4CFQaxx84",
        "outputId": "a71b1a99-d611-4a2b-b86d-52bc649b411c"
      },
      "outputs": [
        {
          "data": {
            "text/plain": [
              "DatetimeIndex(['2023-01-01', '2022-01-01', '2021-01-01'], dtype='datetime64[ns]', freq=None)"
            ]
          },
          "execution_count": 61,
          "metadata": {},
          "output_type": "execute_result"
        }
      ],
      "source": [
        "# from strings\n",
        "pd.DatetimeIndex(['2023/1/1','2022/1/1','2021/1/1'])"
      ]
    },
    {
      "cell_type": "code",
      "execution_count": 62,
      "metadata": {},
      "outputs": [
        {
          "data": {
            "text/plain": [
              "Timestamp('2023-01-01 00:00:00')"
            ]
          },
          "execution_count": 62,
          "metadata": {},
          "output_type": "execute_result"
        }
      ],
      "source": [
        "pd.DatetimeIndex(['2023/1/1','2022/1/1','2021/1/1'])[0]"
      ]
    },
    {
      "cell_type": "code",
      "execution_count": 63,
      "metadata": {
        "colab": {
          "base_uri": "https://localhost:8080/"
        },
        "id": "prE2fraR1l3F",
        "outputId": "eb310ee6-6bc9-4f6a-d9b4-d080cbd8e235"
      },
      "outputs": [
        {
          "data": {
            "text/plain": [
              "DatetimeIndex(['2021-07-08', '2021-04-08', '2021-01-09'], dtype='datetime64[ns]', freq=None)"
            ]
          },
          "execution_count": 63,
          "metadata": {},
          "output_type": "execute_result"
        }
      ],
      "source": [
        "# using python datetime object\n",
        "pd.DatetimeIndex([dt.date(2021,7,8),dt.date(2021,4,8),dt.date(2021,1,9)])"
      ]
    },
    {
      "cell_type": "code",
      "execution_count": 64,
      "metadata": {},
      "outputs": [
        {
          "data": {
            "text/plain": [
              "DatetimeIndex(['2021-07-08', '2021-04-08', '2021-01-09'], dtype='datetime64[ns]', freq=None)"
            ]
          },
          "execution_count": 64,
          "metadata": {},
          "output_type": "execute_result"
        }
      ],
      "source": [
        "# using python datetime object\n",
        "pd.DatetimeIndex([pd.Timestamp(2021,7,8),pd.Timestamp(2021,4,8),pd.Timestamp(2021,1,9)])"
      ]
    },
    {
      "cell_type": "code",
      "execution_count": 65,
      "metadata": {
        "id": "KwFtOizE1qAT"
      },
      "outputs": [],
      "source": [
        "# using pd.timestamps\n",
        "dt_index = pd.DatetimeIndex([pd.Timestamp(2023,1,1),pd.Timestamp(2022,1,1),pd.Timestamp(2021,1,1)])"
      ]
    },
    {
      "cell_type": "code",
      "execution_count": 66,
      "metadata": {
        "colab": {
          "base_uri": "https://localhost:8080/"
        },
        "id": "f8FOZZ1z1tCL",
        "outputId": "a881eebb-1a0c-4f49-87c5-c87a0613f6b0"
      },
      "outputs": [
        {
          "data": {
            "text/plain": [
              "2023-01-01    1\n",
              "2022-01-01    2\n",
              "2021-01-01    3\n",
              "dtype: int64"
            ]
          },
          "execution_count": 66,
          "metadata": {},
          "output_type": "execute_result"
        }
      ],
      "source": [
        "# using datatimeindex as series index\n",
        "pd.Series([1,2,3],index=dt_index)"
      ]
    },
    {
      "cell_type": "markdown",
      "metadata": {
        "id": "qxnmC74IxyjI"
      },
      "source": [
        "### date_range function\n",
        "\n"
      ]
    },
    {
      "cell_type": "code",
      "execution_count": 67,
      "metadata": {
        "colab": {
          "base_uri": "https://localhost:8080/"
        },
        "id": "tzDg9BOjx1is",
        "outputId": "953e6978-5779-43fe-a446-f849da41ad46"
      },
      "outputs": [
        {
          "data": {
            "text/plain": [
              "DatetimeIndex(['2023-01-05', '2023-01-08', '2023-01-11', '2023-01-14',\n",
              "               '2023-01-17', '2023-01-20', '2023-01-23', '2023-01-26',\n",
              "               '2023-01-29', '2023-02-01', '2023-02-04', '2023-02-07',\n",
              "               '2023-02-10', '2023-02-13', '2023-02-16', '2023-02-19',\n",
              "               '2023-02-22', '2023-02-25', '2023-02-28'],\n",
              "              dtype='datetime64[ns]', freq='3D')"
            ]
          },
          "execution_count": 67,
          "metadata": {},
          "output_type": "execute_result"
        }
      ],
      "source": [
        "# generate daily dates in a given range\n",
        "pd.date_range(start='2023/1/5',end='2023/2/28',freq='3D')"
      ]
    },
    {
      "cell_type": "code",
      "execution_count": 68,
      "metadata": {
        "id": "-5VkFuUr36bU"
      },
      "outputs": [
        {
          "data": {
            "text/plain": [
              "DatetimeIndex(['2023-01-05', '2023-01-08', '2023-01-11', '2023-01-14',\n",
              "               '2023-01-17', '2023-01-20', '2023-01-23', '2023-01-26',\n",
              "               '2023-01-29', '2023-02-01', '2023-02-04', '2023-02-07',\n",
              "               '2023-02-10', '2023-02-13', '2023-02-16', '2023-02-19',\n",
              "               '2023-02-22', '2023-02-25', '2023-02-28'],\n",
              "              dtype='datetime64[ns]', freq='3D')"
            ]
          },
          "execution_count": 68,
          "metadata": {},
          "output_type": "execute_result"
        }
      ],
      "source": [
        "# alternate days in a given range\n",
        "pd.date_range(start='2023/1/5',end='2023/2/28',freq='3D')"
      ]
    },
    {
      "cell_type": "code",
      "execution_count": 69,
      "metadata": {
        "colab": {
          "base_uri": "https://localhost:8080/"
        },
        "id": "4m_PcUOe39xy",
        "outputId": "3c005aea-baca-4ee6-fe9b-90e59151d151"
      },
      "outputs": [
        {
          "data": {
            "text/plain": [
              "DatetimeIndex(['2023-01-05', '2023-01-06', '2023-01-09', '2023-01-10',\n",
              "               '2023-01-11', '2023-01-12', '2023-01-13', '2023-01-16',\n",
              "               '2023-01-17', '2023-01-18', '2023-01-19', '2023-01-20',\n",
              "               '2023-01-23', '2023-01-24', '2023-01-25', '2023-01-26',\n",
              "               '2023-01-27', '2023-01-30', '2023-01-31', '2023-02-01',\n",
              "               '2023-02-02', '2023-02-03', '2023-02-06', '2023-02-07',\n",
              "               '2023-02-08', '2023-02-09', '2023-02-10', '2023-02-13',\n",
              "               '2023-02-14', '2023-02-15', '2023-02-16', '2023-02-17',\n",
              "               '2023-02-20', '2023-02-21', '2023-02-22', '2023-02-23',\n",
              "               '2023-02-24', '2023-02-27', '2023-02-28'],\n",
              "              dtype='datetime64[ns]', freq='B')"
            ]
          },
          "execution_count": 69,
          "metadata": {},
          "output_type": "execute_result"
        }
      ],
      "source": [
        "# B -> business days\n",
        "pd.date_range(start='2023/1/5',end='2023/2/28',freq='B')"
      ]
    },
    {
      "cell_type": "code",
      "execution_count": 70,
      "metadata": {
        "colab": {
          "base_uri": "https://localhost:8080/"
        },
        "id": "QqrrfRvC4QmV",
        "outputId": "aa7fd7dd-3610-45dc-c1e6-76dc06d37004"
      },
      "outputs": [
        {
          "data": {
            "text/plain": [
              "DatetimeIndex(['2023-01-05', '2023-01-12', '2023-01-19', '2023-01-26',\n",
              "               '2023-02-02', '2023-02-09', '2023-02-16', '2023-02-23'],\n",
              "              dtype='datetime64[ns]', freq='W-THU')"
            ]
          },
          "execution_count": 70,
          "metadata": {},
          "output_type": "execute_result"
        }
      ],
      "source": [
        "# W -> one week per day\n",
        "pd.date_range(start='2023/1/5',end='2023/2/28',freq='W-THU')"
      ]
    },
    {
      "cell_type": "code",
      "execution_count": 71,
      "metadata": {
        "colab": {
          "base_uri": "https://localhost:8080/"
        },
        "id": "95b_S-rY4Zt-",
        "outputId": "b6d23cfb-e065-4736-e246-569789b1f8bd"
      },
      "outputs": [
        {
          "name": "stderr",
          "output_type": "stream",
          "text": [
            "C:\\Users\\nikit\\AppData\\Local\\Temp\\ipykernel_15512\\987353597.py:2: FutureWarning: 'H' is deprecated and will be removed in a future version, please use 'h' instead.\n",
            "  pd.date_range(start='2023/1/5',end='2023/2/28',freq='6H')\n"
          ]
        },
        {
          "data": {
            "text/plain": [
              "DatetimeIndex(['2023-01-05 00:00:00', '2023-01-05 06:00:00',\n",
              "               '2023-01-05 12:00:00', '2023-01-05 18:00:00',\n",
              "               '2023-01-06 00:00:00', '2023-01-06 06:00:00',\n",
              "               '2023-01-06 12:00:00', '2023-01-06 18:00:00',\n",
              "               '2023-01-07 00:00:00', '2023-01-07 06:00:00',\n",
              "               ...\n",
              "               '2023-02-25 18:00:00', '2023-02-26 00:00:00',\n",
              "               '2023-02-26 06:00:00', '2023-02-26 12:00:00',\n",
              "               '2023-02-26 18:00:00', '2023-02-27 00:00:00',\n",
              "               '2023-02-27 06:00:00', '2023-02-27 12:00:00',\n",
              "               '2023-02-27 18:00:00', '2023-02-28 00:00:00'],\n",
              "              dtype='datetime64[ns]', length=217, freq='6h')"
            ]
          },
          "execution_count": 71,
          "metadata": {},
          "output_type": "execute_result"
        }
      ],
      "source": [
        "# H -> Hourly data(factor)\n",
        "pd.date_range(start='2023/1/5',end='2023/2/28',freq='6H')"
      ]
    },
    {
      "cell_type": "code",
      "execution_count": 72,
      "metadata": {
        "colab": {
          "base_uri": "https://localhost:8080/"
        },
        "id": "T4TgV2Mn4oNg",
        "outputId": "2df63168-dfff-4ee1-87ba-6e6bf2365292"
      },
      "outputs": [
        {
          "name": "stderr",
          "output_type": "stream",
          "text": [
            "C:\\Users\\nikit\\AppData\\Local\\Temp\\ipykernel_15512\\1126803610.py:2: FutureWarning: 'M' is deprecated and will be removed in a future version, please use 'ME' instead.\n",
            "  pd.date_range(start='2023/1/5',end='2023/2/28',freq='M')\n"
          ]
        },
        {
          "data": {
            "text/plain": [
              "DatetimeIndex(['2023-01-31', '2023-02-28'], dtype='datetime64[ns]', freq='ME')"
            ]
          },
          "execution_count": 72,
          "metadata": {},
          "output_type": "execute_result"
        }
      ],
      "source": [
        "# M -> Month end\n",
        "pd.date_range(start='2023/1/5',end='2023/2/28',freq='M')"
      ]
    },
    {
      "cell_type": "code",
      "execution_count": 73,
      "metadata": {
        "colab": {
          "base_uri": "https://localhost:8080/"
        },
        "id": "biLXdwmM4xFI",
        "outputId": "6158d2a8-488d-4c29-9b14-70220ce1d720"
      },
      "outputs": [
        {
          "data": {
            "text/plain": [
              "DatetimeIndex(['2023-02-01'], dtype='datetime64[ns]', freq='MS')"
            ]
          },
          "execution_count": 73,
          "metadata": {},
          "output_type": "execute_result"
        }
      ],
      "source": [
        "# MS -> Month start\n",
        "pd.date_range(start='2023/1/5',end='2023/2/28',freq='MS')"
      ]
    },
    {
      "cell_type": "code",
      "execution_count": 74,
      "metadata": {
        "colab": {
          "base_uri": "https://localhost:8080/"
        },
        "id": "-OpW9ydF4-_f",
        "outputId": "d17fd89e-bee8-4733-b285-98d801a6bd33"
      },
      "outputs": [
        {
          "name": "stderr",
          "output_type": "stream",
          "text": [
            "C:\\Users\\nikit\\AppData\\Local\\Temp\\ipykernel_15512\\2121269259.py:2: FutureWarning: 'A' is deprecated and will be removed in a future version, please use 'YE' instead.\n",
            "  pd.date_range(start='2023/1/5',end='2030/2/28',freq='A')\n"
          ]
        },
        {
          "data": {
            "text/plain": [
              "DatetimeIndex(['2023-12-31', '2024-12-31', '2025-12-31', '2026-12-31',\n",
              "               '2027-12-31', '2028-12-31', '2029-12-31'],\n",
              "              dtype='datetime64[ns]', freq='YE-DEC')"
            ]
          },
          "execution_count": 74,
          "metadata": {},
          "output_type": "execute_result"
        }
      ],
      "source": [
        "# A -> Year end\n",
        "pd.date_range(start='2023/1/5',end='2030/2/28',freq='A')"
      ]
    },
    {
      "cell_type": "code",
      "execution_count": 75,
      "metadata": {
        "colab": {
          "base_uri": "https://localhost:8080/"
        },
        "id": "zUz1UWoQ5CQD",
        "outputId": "86860c7f-db85-4c2a-db68-28204a23d8d9"
      },
      "outputs": [
        {
          "name": "stderr",
          "output_type": "stream",
          "text": [
            "C:\\Users\\nikit\\AppData\\Local\\Temp\\ipykernel_15512\\1478210292.py:2: FutureWarning: 'M' is deprecated and will be removed in a future version, please use 'ME' instead.\n",
            "  pd.date_range(start='2023/1/5',periods=25,freq='M')\n"
          ]
        },
        {
          "data": {
            "text/plain": [
              "DatetimeIndex(['2023-01-31', '2023-02-28', '2023-03-31', '2023-04-30',\n",
              "               '2023-05-31', '2023-06-30', '2023-07-31', '2023-08-31',\n",
              "               '2023-09-30', '2023-10-31', '2023-11-30', '2023-12-31',\n",
              "               '2024-01-31', '2024-02-29', '2024-03-31', '2024-04-30',\n",
              "               '2024-05-31', '2024-06-30', '2024-07-31', '2024-08-31',\n",
              "               '2024-09-30', '2024-10-31', '2024-11-30', '2024-12-31',\n",
              "               '2025-01-31'],\n",
              "              dtype='datetime64[ns]', freq='ME')"
            ]
          },
          "execution_count": 75,
          "metadata": {},
          "output_type": "execute_result"
        }
      ],
      "source": [
        "# using periods(number of results)\n",
        "pd.date_range(start='2023/1/5',periods=25,freq='M')"
      ]
    },
    {
      "cell_type": "markdown",
      "metadata": {
        "id": "gzxkbZjUx3Hd"
      },
      "source": [
        "### to_datetime function\n",
        "\n",
        "converts an existing objects to pandas timestamp/datetimeindex object"
      ]
    },
    {
      "cell_type": "code",
      "execution_count": 79,
      "metadata": {
        "colab": {
          "base_uri": "https://localhost:8080/"
        },
        "id": "d4smd0-fD1Hw",
        "outputId": "af657c92-004c-4ca2-d800-da112122db93"
      },
      "outputs": [
        {
          "data": {
            "text/plain": [
              "0      Sunday\n",
              "1    Saturday\n",
              "2      Friday\n",
              "dtype: object"
            ]
          },
          "execution_count": 79,
          "metadata": {},
          "output_type": "execute_result"
        }
      ],
      "source": [
        "# simple series example\n",
        "\n",
        "s = pd.Series(['2023/1/1','2022/1/1','2021/1/1'])\n",
        "pd.to_datetime(s).dt.day_name()"
      ]
    },
    {
      "cell_type": "code",
      "execution_count": 80,
      "metadata": {
        "colab": {
          "base_uri": "https://localhost:8080/"
        },
        "id": "eMQPrIPHD3aO",
        "outputId": "7744ab7e-16aa-4d42-f18a-2863c7a33448"
      },
      "outputs": [
        {
          "data": {
            "text/plain": [
              "0    January\n",
              "1    January\n",
              "2        NaN\n",
              "dtype: object"
            ]
          },
          "execution_count": 80,
          "metadata": {},
          "output_type": "execute_result"
        }
      ],
      "source": [
        "# with errors\n",
        "s = pd.Series(['2023/1/1','2022/1/1','2021/130/1'])\n",
        "pd.to_datetime(s,errors='coerce').dt.month_name()"
      ]
    },
    {
      "cell_type": "code",
      "execution_count": 81,
      "metadata": {
        "colab": {
          "base_uri": "https://localhost:8080/"
        },
        "id": "yCCP7dyEx2WO",
        "outputId": "5f85bb01-1c1b-4df9-8353-240c2cda6e00"
      },
      "outputs": [
        {
          "data": {
            "text/plain": [
              "(277, 11)"
            ]
          },
          "execution_count": 81,
          "metadata": {},
          "output_type": "execute_result"
        }
      ],
      "source": [
        "df = pd.read_csv('expense_data.csv')\n",
        "df.shape"
      ]
    },
    {
      "cell_type": "code",
      "execution_count": null,
      "metadata": {
        "colab": {
          "base_uri": "https://localhost:8080/",
          "height": 206
        },
        "id": "4wkwLHyn-F5T",
        "outputId": "b02ba229-3078-4516-fa14-05ed612addfb"
      },
      "outputs": [
        {
          "data": {
            "text/html": [
              "\n",
              "  <div id=\"df-e472b796-0e1d-4d04-b34f-2a6d2446a518\">\n",
              "    <div class=\"colab-df-container\">\n",
              "      <div>\n",
              "<style scoped>\n",
              "    .dataframe tbody tr th:only-of-type {\n",
              "        vertical-align: middle;\n",
              "    }\n",
              "\n",
              "    .dataframe tbody tr th {\n",
              "        vertical-align: top;\n",
              "    }\n",
              "\n",
              "    .dataframe thead th {\n",
              "        text-align: right;\n",
              "    }\n",
              "</style>\n",
              "<table border=\"1\" class=\"dataframe\">\n",
              "  <thead>\n",
              "    <tr style=\"text-align: right;\">\n",
              "      <th></th>\n",
              "      <th>Date</th>\n",
              "      <th>Account</th>\n",
              "      <th>Category</th>\n",
              "      <th>Subcategory</th>\n",
              "      <th>Note</th>\n",
              "      <th>INR</th>\n",
              "      <th>Income/Expense</th>\n",
              "      <th>Note.1</th>\n",
              "      <th>Amount</th>\n",
              "      <th>Currency</th>\n",
              "      <th>Account.1</th>\n",
              "    </tr>\n",
              "  </thead>\n",
              "  <tbody>\n",
              "    <tr>\n",
              "      <th>0</th>\n",
              "      <td>3/2/2022 10:11</td>\n",
              "      <td>CUB - online payment</td>\n",
              "      <td>Food</td>\n",
              "      <td>NaN</td>\n",
              "      <td>Brownie</td>\n",
              "      <td>50.0</td>\n",
              "      <td>Expense</td>\n",
              "      <td>NaN</td>\n",
              "      <td>50.0</td>\n",
              "      <td>INR</td>\n",
              "      <td>50.0</td>\n",
              "    </tr>\n",
              "    <tr>\n",
              "      <th>1</th>\n",
              "      <td>3/2/2022 10:11</td>\n",
              "      <td>CUB - online payment</td>\n",
              "      <td>Other</td>\n",
              "      <td>NaN</td>\n",
              "      <td>To lended people</td>\n",
              "      <td>300.0</td>\n",
              "      <td>Expense</td>\n",
              "      <td>NaN</td>\n",
              "      <td>300.0</td>\n",
              "      <td>INR</td>\n",
              "      <td>300.0</td>\n",
              "    </tr>\n",
              "    <tr>\n",
              "      <th>2</th>\n",
              "      <td>3/1/2022 19:50</td>\n",
              "      <td>CUB - online payment</td>\n",
              "      <td>Food</td>\n",
              "      <td>NaN</td>\n",
              "      <td>Dinner</td>\n",
              "      <td>78.0</td>\n",
              "      <td>Expense</td>\n",
              "      <td>NaN</td>\n",
              "      <td>78.0</td>\n",
              "      <td>INR</td>\n",
              "      <td>78.0</td>\n",
              "    </tr>\n",
              "    <tr>\n",
              "      <th>3</th>\n",
              "      <td>3/1/2022 18:56</td>\n",
              "      <td>CUB - online payment</td>\n",
              "      <td>Transportation</td>\n",
              "      <td>NaN</td>\n",
              "      <td>Metro</td>\n",
              "      <td>30.0</td>\n",
              "      <td>Expense</td>\n",
              "      <td>NaN</td>\n",
              "      <td>30.0</td>\n",
              "      <td>INR</td>\n",
              "      <td>30.0</td>\n",
              "    </tr>\n",
              "    <tr>\n",
              "      <th>4</th>\n",
              "      <td>3/1/2022 18:22</td>\n",
              "      <td>CUB - online payment</td>\n",
              "      <td>Food</td>\n",
              "      <td>NaN</td>\n",
              "      <td>Snacks</td>\n",
              "      <td>67.0</td>\n",
              "      <td>Expense</td>\n",
              "      <td>NaN</td>\n",
              "      <td>67.0</td>\n",
              "      <td>INR</td>\n",
              "      <td>67.0</td>\n",
              "    </tr>\n",
              "  </tbody>\n",
              "</table>\n",
              "</div>\n",
              "      <button class=\"colab-df-convert\" onclick=\"convertToInteractive('df-e472b796-0e1d-4d04-b34f-2a6d2446a518')\"\n",
              "              title=\"Convert this dataframe to an interactive table.\"\n",
              "              style=\"display:none;\">\n",
              "        \n",
              "  <svg xmlns=\"http://www.w3.org/2000/svg\" height=\"24px\"viewBox=\"0 0 24 24\"\n",
              "       width=\"24px\">\n",
              "    <path d=\"M0 0h24v24H0V0z\" fill=\"none\"/>\n",
              "    <path d=\"M18.56 5.44l.94 2.06.94-2.06 2.06-.94-2.06-.94-.94-2.06-.94 2.06-2.06.94zm-11 1L8.5 8.5l.94-2.06 2.06-.94-2.06-.94L8.5 2.5l-.94 2.06-2.06.94zm10 10l.94 2.06.94-2.06 2.06-.94-2.06-.94-.94-2.06-.94 2.06-2.06.94z\"/><path d=\"M17.41 7.96l-1.37-1.37c-.4-.4-.92-.59-1.43-.59-.52 0-1.04.2-1.43.59L10.3 9.45l-7.72 7.72c-.78.78-.78 2.05 0 2.83L4 21.41c.39.39.9.59 1.41.59.51 0 1.02-.2 1.41-.59l7.78-7.78 2.81-2.81c.8-.78.8-2.07 0-2.86zM5.41 20L4 18.59l7.72-7.72 1.47 1.35L5.41 20z\"/>\n",
              "  </svg>\n",
              "      </button>\n",
              "      \n",
              "  <style>\n",
              "    .colab-df-container {\n",
              "      display:flex;\n",
              "      flex-wrap:wrap;\n",
              "      gap: 12px;\n",
              "    }\n",
              "\n",
              "    .colab-df-convert {\n",
              "      background-color: #E8F0FE;\n",
              "      border: none;\n",
              "      border-radius: 50%;\n",
              "      cursor: pointer;\n",
              "      display: none;\n",
              "      fill: #1967D2;\n",
              "      height: 32px;\n",
              "      padding: 0 0 0 0;\n",
              "      width: 32px;\n",
              "    }\n",
              "\n",
              "    .colab-df-convert:hover {\n",
              "      background-color: #E2EBFA;\n",
              "      box-shadow: 0px 1px 2px rgba(60, 64, 67, 0.3), 0px 1px 3px 1px rgba(60, 64, 67, 0.15);\n",
              "      fill: #174EA6;\n",
              "    }\n",
              "\n",
              "    [theme=dark] .colab-df-convert {\n",
              "      background-color: #3B4455;\n",
              "      fill: #D2E3FC;\n",
              "    }\n",
              "\n",
              "    [theme=dark] .colab-df-convert:hover {\n",
              "      background-color: #434B5C;\n",
              "      box-shadow: 0px 1px 3px 1px rgba(0, 0, 0, 0.15);\n",
              "      filter: drop-shadow(0px 1px 2px rgba(0, 0, 0, 0.3));\n",
              "      fill: #FFFFFF;\n",
              "    }\n",
              "  </style>\n",
              "\n",
              "      <script>\n",
              "        const buttonEl =\n",
              "          document.querySelector('#df-e472b796-0e1d-4d04-b34f-2a6d2446a518 button.colab-df-convert');\n",
              "        buttonEl.style.display =\n",
              "          google.colab.kernel.accessAllowed ? 'block' : 'none';\n",
              "\n",
              "        async function convertToInteractive(key) {\n",
              "          const element = document.querySelector('#df-e472b796-0e1d-4d04-b34f-2a6d2446a518');\n",
              "          const dataTable =\n",
              "            await google.colab.kernel.invokeFunction('convertToInteractive',\n",
              "                                                     [key], {});\n",
              "          if (!dataTable) return;\n",
              "\n",
              "          const docLinkHtml = 'Like what you see? Visit the ' +\n",
              "            '<a target=\"_blank\" href=https://colab.research.google.com/notebooks/data_table.ipynb>data table notebook</a>'\n",
              "            + ' to learn more about interactive tables.';\n",
              "          element.innerHTML = '';\n",
              "          dataTable['output_type'] = 'display_data';\n",
              "          await google.colab.output.renderOutput(dataTable, element);\n",
              "          const docLink = document.createElement('div');\n",
              "          docLink.innerHTML = docLinkHtml;\n",
              "          element.appendChild(docLink);\n",
              "        }\n",
              "      </script>\n",
              "    </div>\n",
              "  </div>\n",
              "  "
            ],
            "text/plain": [
              "             Date               Account        Category  Subcategory  \\\n",
              "0  3/2/2022 10:11  CUB - online payment            Food          NaN   \n",
              "1  3/2/2022 10:11  CUB - online payment           Other          NaN   \n",
              "2  3/1/2022 19:50  CUB - online payment            Food          NaN   \n",
              "3  3/1/2022 18:56  CUB - online payment  Transportation          NaN   \n",
              "4  3/1/2022 18:22  CUB - online payment            Food          NaN   \n",
              "\n",
              "               Note    INR Income/Expense  Note.1  Amount Currency  Account.1  \n",
              "0           Brownie   50.0        Expense     NaN    50.0      INR       50.0  \n",
              "1  To lended people  300.0        Expense     NaN   300.0      INR      300.0  \n",
              "2            Dinner   78.0        Expense     NaN    78.0      INR       78.0  \n",
              "3             Metro   30.0        Expense     NaN    30.0      INR       30.0  \n",
              "4            Snacks   67.0        Expense     NaN    67.0      INR       67.0  "
            ]
          },
          "execution_count": 8,
          "metadata": {},
          "output_type": "execute_result"
        }
      ],
      "source": [
        "df.head()"
      ]
    },
    {
      "cell_type": "code",
      "execution_count": 83,
      "metadata": {},
      "outputs": [
        {
          "name": "stdout",
          "output_type": "stream",
          "text": [
            "<class 'pandas.core.series.Series'>\n",
            "RangeIndex: 277 entries, 0 to 276\n",
            "Series name: Date\n",
            "Non-Null Count  Dtype \n",
            "--------------  ----- \n",
            "277 non-null    object\n",
            "dtypes: object(1)\n",
            "memory usage: 2.3+ KB\n"
          ]
        }
      ],
      "source": [
        "df['Date'].info()"
      ]
    },
    {
      "cell_type": "code",
      "execution_count": 84,
      "metadata": {
        "id": "-RyeFdJful1r"
      },
      "outputs": [],
      "source": [
        "df['Date'] = pd.to_datetime(df['Date'])"
      ]
    },
    {
      "cell_type": "code",
      "execution_count": 86,
      "metadata": {},
      "outputs": [
        {
          "data": {
            "text/html": [
              "<div>\n",
              "<style scoped>\n",
              "    .dataframe tbody tr th:only-of-type {\n",
              "        vertical-align: middle;\n",
              "    }\n",
              "\n",
              "    .dataframe tbody tr th {\n",
              "        vertical-align: top;\n",
              "    }\n",
              "\n",
              "    .dataframe thead th {\n",
              "        text-align: right;\n",
              "    }\n",
              "</style>\n",
              "<table border=\"1\" class=\"dataframe\">\n",
              "  <thead>\n",
              "    <tr style=\"text-align: right;\">\n",
              "      <th></th>\n",
              "      <th>Date</th>\n",
              "      <th>Account</th>\n",
              "      <th>Category</th>\n",
              "      <th>Subcategory</th>\n",
              "      <th>Note</th>\n",
              "      <th>INR</th>\n",
              "      <th>Income/Expense</th>\n",
              "      <th>Note.1</th>\n",
              "      <th>Amount</th>\n",
              "      <th>Currency</th>\n",
              "      <th>Account.1</th>\n",
              "    </tr>\n",
              "  </thead>\n",
              "  <tbody>\n",
              "    <tr>\n",
              "      <th>0</th>\n",
              "      <td>2022-03-02 10:11:00</td>\n",
              "      <td>CUB - online payment</td>\n",
              "      <td>Food</td>\n",
              "      <td>NaN</td>\n",
              "      <td>Brownie</td>\n",
              "      <td>50.0</td>\n",
              "      <td>Expense</td>\n",
              "      <td>NaN</td>\n",
              "      <td>50.0</td>\n",
              "      <td>INR</td>\n",
              "      <td>50.0</td>\n",
              "    </tr>\n",
              "    <tr>\n",
              "      <th>1</th>\n",
              "      <td>2022-03-02 10:11:00</td>\n",
              "      <td>CUB - online payment</td>\n",
              "      <td>Other</td>\n",
              "      <td>NaN</td>\n",
              "      <td>To lended people</td>\n",
              "      <td>300.0</td>\n",
              "      <td>Expense</td>\n",
              "      <td>NaN</td>\n",
              "      <td>300.0</td>\n",
              "      <td>INR</td>\n",
              "      <td>300.0</td>\n",
              "    </tr>\n",
              "    <tr>\n",
              "      <th>2</th>\n",
              "      <td>2022-03-01 19:50:00</td>\n",
              "      <td>CUB - online payment</td>\n",
              "      <td>Food</td>\n",
              "      <td>NaN</td>\n",
              "      <td>Dinner</td>\n",
              "      <td>78.0</td>\n",
              "      <td>Expense</td>\n",
              "      <td>NaN</td>\n",
              "      <td>78.0</td>\n",
              "      <td>INR</td>\n",
              "      <td>78.0</td>\n",
              "    </tr>\n",
              "    <tr>\n",
              "      <th>3</th>\n",
              "      <td>2022-03-01 18:56:00</td>\n",
              "      <td>CUB - online payment</td>\n",
              "      <td>Transportation</td>\n",
              "      <td>NaN</td>\n",
              "      <td>Metro</td>\n",
              "      <td>30.0</td>\n",
              "      <td>Expense</td>\n",
              "      <td>NaN</td>\n",
              "      <td>30.0</td>\n",
              "      <td>INR</td>\n",
              "      <td>30.0</td>\n",
              "    </tr>\n",
              "    <tr>\n",
              "      <th>4</th>\n",
              "      <td>2022-03-01 18:22:00</td>\n",
              "      <td>CUB - online payment</td>\n",
              "      <td>Food</td>\n",
              "      <td>NaN</td>\n",
              "      <td>Snacks</td>\n",
              "      <td>67.0</td>\n",
              "      <td>Expense</td>\n",
              "      <td>NaN</td>\n",
              "      <td>67.0</td>\n",
              "      <td>INR</td>\n",
              "      <td>67.0</td>\n",
              "    </tr>\n",
              "    <tr>\n",
              "      <th>...</th>\n",
              "      <td>...</td>\n",
              "      <td>...</td>\n",
              "      <td>...</td>\n",
              "      <td>...</td>\n",
              "      <td>...</td>\n",
              "      <td>...</td>\n",
              "      <td>...</td>\n",
              "      <td>...</td>\n",
              "      <td>...</td>\n",
              "      <td>...</td>\n",
              "      <td>...</td>\n",
              "    </tr>\n",
              "    <tr>\n",
              "      <th>272</th>\n",
              "      <td>2021-11-22 14:16:00</td>\n",
              "      <td>CUB - online payment</td>\n",
              "      <td>Food</td>\n",
              "      <td>NaN</td>\n",
              "      <td>Dinner</td>\n",
              "      <td>90.0</td>\n",
              "      <td>Expense</td>\n",
              "      <td>NaN</td>\n",
              "      <td>90.0</td>\n",
              "      <td>INR</td>\n",
              "      <td>90.0</td>\n",
              "    </tr>\n",
              "    <tr>\n",
              "      <th>273</th>\n",
              "      <td>2021-11-22 14:16:00</td>\n",
              "      <td>CUB - online payment</td>\n",
              "      <td>Food</td>\n",
              "      <td>NaN</td>\n",
              "      <td>Lunch with company</td>\n",
              "      <td>97.0</td>\n",
              "      <td>Expense</td>\n",
              "      <td>NaN</td>\n",
              "      <td>97.0</td>\n",
              "      <td>INR</td>\n",
              "      <td>97.0</td>\n",
              "    </tr>\n",
              "    <tr>\n",
              "      <th>274</th>\n",
              "      <td>2021-11-21 17:07:00</td>\n",
              "      <td>CUB - online payment</td>\n",
              "      <td>Transportation</td>\n",
              "      <td>NaN</td>\n",
              "      <td>Rapido</td>\n",
              "      <td>130.0</td>\n",
              "      <td>Expense</td>\n",
              "      <td>NaN</td>\n",
              "      <td>130.0</td>\n",
              "      <td>INR</td>\n",
              "      <td>130.0</td>\n",
              "    </tr>\n",
              "    <tr>\n",
              "      <th>275</th>\n",
              "      <td>2021-11-21 15:50:00</td>\n",
              "      <td>CUB - online payment</td>\n",
              "      <td>Food</td>\n",
              "      <td>NaN</td>\n",
              "      <td>Lunch</td>\n",
              "      <td>875.0</td>\n",
              "      <td>Expense</td>\n",
              "      <td>NaN</td>\n",
              "      <td>875.0</td>\n",
              "      <td>INR</td>\n",
              "      <td>875.0</td>\n",
              "    </tr>\n",
              "    <tr>\n",
              "      <th>276</th>\n",
              "      <td>2021-11-21 13:30:00</td>\n",
              "      <td>CUB - online payment</td>\n",
              "      <td>Other</td>\n",
              "      <td>NaN</td>\n",
              "      <td>Got from gobi</td>\n",
              "      <td>2000.0</td>\n",
              "      <td>Income</td>\n",
              "      <td>NaN</td>\n",
              "      <td>2000.0</td>\n",
              "      <td>INR</td>\n",
              "      <td>2000.0</td>\n",
              "    </tr>\n",
              "  </tbody>\n",
              "</table>\n",
              "<p>277 rows × 11 columns</p>\n",
              "</div>"
            ],
            "text/plain": [
              "                   Date               Account        Category  Subcategory  \\\n",
              "0   2022-03-02 10:11:00  CUB - online payment            Food          NaN   \n",
              "1   2022-03-02 10:11:00  CUB - online payment           Other          NaN   \n",
              "2   2022-03-01 19:50:00  CUB - online payment            Food          NaN   \n",
              "3   2022-03-01 18:56:00  CUB - online payment  Transportation          NaN   \n",
              "4   2022-03-01 18:22:00  CUB - online payment            Food          NaN   \n",
              "..                  ...                   ...             ...          ...   \n",
              "272 2021-11-22 14:16:00  CUB - online payment            Food          NaN   \n",
              "273 2021-11-22 14:16:00  CUB - online payment            Food          NaN   \n",
              "274 2021-11-21 17:07:00  CUB - online payment  Transportation          NaN   \n",
              "275 2021-11-21 15:50:00  CUB - online payment            Food          NaN   \n",
              "276 2021-11-21 13:30:00  CUB - online payment           Other          NaN   \n",
              "\n",
              "                   Note     INR Income/Expense  Note.1  Amount Currency  \\\n",
              "0               Brownie    50.0        Expense     NaN    50.0      INR   \n",
              "1      To lended people   300.0        Expense     NaN   300.0      INR   \n",
              "2                Dinner    78.0        Expense     NaN    78.0      INR   \n",
              "3                 Metro    30.0        Expense     NaN    30.0      INR   \n",
              "4                Snacks    67.0        Expense     NaN    67.0      INR   \n",
              "..                  ...     ...            ...     ...     ...      ...   \n",
              "272              Dinner    90.0        Expense     NaN    90.0      INR   \n",
              "273  Lunch with company    97.0        Expense     NaN    97.0      INR   \n",
              "274              Rapido   130.0        Expense     NaN   130.0      INR   \n",
              "275               Lunch   875.0        Expense     NaN   875.0      INR   \n",
              "276       Got from gobi  2000.0         Income     NaN  2000.0      INR   \n",
              "\n",
              "     Account.1  \n",
              "0         50.0  \n",
              "1        300.0  \n",
              "2         78.0  \n",
              "3         30.0  \n",
              "4         67.0  \n",
              "..         ...  \n",
              "272       90.0  \n",
              "273       97.0  \n",
              "274      130.0  \n",
              "275      875.0  \n",
              "276     2000.0  \n",
              "\n",
              "[277 rows x 11 columns]"
            ]
          },
          "execution_count": 86,
          "metadata": {},
          "output_type": "execute_result"
        }
      ],
      "source": [
        "df"
      ]
    },
    {
      "cell_type": "code",
      "execution_count": 85,
      "metadata": {
        "colab": {
          "base_uri": "https://localhost:8080/"
        },
        "id": "LUeZsnxmu2OL",
        "outputId": "f05b21f5-ad0b-4fc7-a88a-b057dbce73ea"
      },
      "outputs": [
        {
          "name": "stdout",
          "output_type": "stream",
          "text": [
            "<class 'pandas.core.frame.DataFrame'>\n",
            "RangeIndex: 277 entries, 0 to 276\n",
            "Data columns (total 11 columns):\n",
            " #   Column          Non-Null Count  Dtype         \n",
            "---  ------          --------------  -----         \n",
            " 0   Date            277 non-null    datetime64[ns]\n",
            " 1   Account         277 non-null    object        \n",
            " 2   Category        277 non-null    object        \n",
            " 3   Subcategory     0 non-null      float64       \n",
            " 4   Note            273 non-null    object        \n",
            " 5   INR             277 non-null    float64       \n",
            " 6   Income/Expense  277 non-null    object        \n",
            " 7   Note.1          0 non-null      float64       \n",
            " 8   Amount          277 non-null    float64       \n",
            " 9   Currency        277 non-null    object        \n",
            " 10  Account.1       277 non-null    float64       \n",
            "dtypes: datetime64[ns](1), float64(5), object(5)\n",
            "memory usage: 23.9+ KB\n"
          ]
        }
      ],
      "source": [
        "df.info()"
      ]
    },
    {
      "cell_type": "markdown",
      "metadata": {
        "id": "Y3yo25n0x6dn"
      },
      "source": [
        "### dt accessor\n",
        "\n",
        "Accessor object for datetimelike properties of the Series values."
      ]
    },
    {
      "cell_type": "code",
      "execution_count": 88,
      "metadata": {},
      "outputs": [
        {
          "data": {
            "text/plain": [
              "0         March\n",
              "1         March\n",
              "2         March\n",
              "3         March\n",
              "4         March\n",
              "         ...   \n",
              "272    November\n",
              "273    November\n",
              "274    November\n",
              "275    November\n",
              "276    November\n",
              "Name: Date, Length: 277, dtype: object"
            ]
          },
          "execution_count": 88,
          "metadata": {},
          "output_type": "execute_result"
        }
      ],
      "source": [
        "df['Date'].dt.month_name()"
      ]
    },
    {
      "cell_type": "code",
      "execution_count": 89,
      "metadata": {
        "colab": {
          "base_uri": "https://localhost:8080/"
        },
        "id": "rIJ6Yvmjx7xw",
        "outputId": "8c25fcc2-7e4c-4799-eac6-122770dfd8c6"
      },
      "outputs": [
        {
          "data": {
            "text/plain": [
              "0      False\n",
              "1      False\n",
              "2      False\n",
              "3      False\n",
              "4      False\n",
              "       ...  \n",
              "272    False\n",
              "273    False\n",
              "274    False\n",
              "275    False\n",
              "276    False\n",
              "Name: Date, Length: 277, dtype: bool"
            ]
          },
          "execution_count": 89,
          "metadata": {},
          "output_type": "execute_result"
        }
      ],
      "source": [
        "df['Date'].dt.is_quarter_start"
      ]
    },
    {
      "cell_type": "code",
      "execution_count": 91,
      "metadata": {
        "colab": {
          "base_uri": "https://localhost:8080/",
          "height": 282
        },
        "id": "b1X1vV3h-klR",
        "outputId": "df91822d-85db-4b92-9d6e-1dd854b93986"
      },
      "outputs": [
        {
          "data": {
            "text/plain": [
              "[<matplotlib.lines.Line2D at 0x226fd9bb7d0>]"
            ]
          },
          "execution_count": 91,
          "metadata": {},
          "output_type": "execute_result"
        },
        {
          "data": {
            "image/png": "[encoded data removed]",
            "text/plain": [
              "<Figure size 640x480 with 1 Axes>"
            ]
          },
          "metadata": {},
          "output_type": "display_data"
        }
      ],
      "source": [
        "# plot graph\n",
        "import matplotlib.pyplot as plt\n",
        "plt.plot(df['Date'],df['INR'])"
      ]
    },
    {
      "cell_type": "code",
      "execution_count": 100,
      "metadata": {},
      "outputs": [],
      "source": [
        "df['Day_name'] = df['Date'].dt.day_name()"
      ]
    },
    {
      "cell_type": "code",
      "execution_count": 101,
      "metadata": {},
      "outputs": [
        {
          "data": {
            "text/html": [
              "<div>\n",
              "<style scoped>\n",
              "    .dataframe tbody tr th:only-of-type {\n",
              "        vertical-align: middle;\n",
              "    }\n",
              "\n",
              "    .dataframe tbody tr th {\n",
              "        vertical-align: top;\n",
              "    }\n",
              "\n",
              "    .dataframe thead th {\n",
              "        text-align: right;\n",
              "    }\n",
              "</style>\n",
              "<table border=\"1\" class=\"dataframe\">\n",
              "  <thead>\n",
              "    <tr style=\"text-align: right;\">\n",
              "      <th></th>\n",
              "      <th>Date</th>\n",
              "      <th>Account</th>\n",
              "      <th>Category</th>\n",
              "      <th>Subcategory</th>\n",
              "      <th>Note</th>\n",
              "      <th>INR</th>\n",
              "      <th>Income/Expense</th>\n",
              "      <th>Note.1</th>\n",
              "      <th>Amount</th>\n",
              "      <th>Currency</th>\n",
              "      <th>Account.1</th>\n",
              "      <th>Day_name</th>\n",
              "    </tr>\n",
              "  </thead>\n",
              "  <tbody>\n",
              "    <tr>\n",
              "      <th>0</th>\n",
              "      <td>2022-03-02 10:11:00</td>\n",
              "      <td>CUB - online payment</td>\n",
              "      <td>Food</td>\n",
              "      <td>NaN</td>\n",
              "      <td>Brownie</td>\n",
              "      <td>50.0</td>\n",
              "      <td>Expense</td>\n",
              "      <td>NaN</td>\n",
              "      <td>50.0</td>\n",
              "      <td>INR</td>\n",
              "      <td>50.0</td>\n",
              "      <td>Wednesday</td>\n",
              "    </tr>\n",
              "    <tr>\n",
              "      <th>1</th>\n",
              "      <td>2022-03-02 10:11:00</td>\n",
              "      <td>CUB - online payment</td>\n",
              "      <td>Other</td>\n",
              "      <td>NaN</td>\n",
              "      <td>To lended people</td>\n",
              "      <td>300.0</td>\n",
              "      <td>Expense</td>\n",
              "      <td>NaN</td>\n",
              "      <td>300.0</td>\n",
              "      <td>INR</td>\n",
              "      <td>300.0</td>\n",
              "      <td>Wednesday</td>\n",
              "    </tr>\n",
              "    <tr>\n",
              "      <th>2</th>\n",
              "      <td>2022-03-01 19:50:00</td>\n",
              "      <td>CUB - online payment</td>\n",
              "      <td>Food</td>\n",
              "      <td>NaN</td>\n",
              "      <td>Dinner</td>\n",
              "      <td>78.0</td>\n",
              "      <td>Expense</td>\n",
              "      <td>NaN</td>\n",
              "      <td>78.0</td>\n",
              "      <td>INR</td>\n",
              "      <td>78.0</td>\n",
              "      <td>Tuesday</td>\n",
              "    </tr>\n",
              "    <tr>\n",
              "      <th>3</th>\n",
              "      <td>2022-03-01 18:56:00</td>\n",
              "      <td>CUB - online payment</td>\n",
              "      <td>Transportation</td>\n",
              "      <td>NaN</td>\n",
              "      <td>Metro</td>\n",
              "      <td>30.0</td>\n",
              "      <td>Expense</td>\n",
              "      <td>NaN</td>\n",
              "      <td>30.0</td>\n",
              "      <td>INR</td>\n",
              "      <td>30.0</td>\n",
              "      <td>Tuesday</td>\n",
              "    </tr>\n",
              "    <tr>\n",
              "      <th>4</th>\n",
              "      <td>2022-03-01 18:22:00</td>\n",
              "      <td>CUB - online payment</td>\n",
              "      <td>Food</td>\n",
              "      <td>NaN</td>\n",
              "      <td>Snacks</td>\n",
              "      <td>67.0</td>\n",
              "      <td>Expense</td>\n",
              "      <td>NaN</td>\n",
              "      <td>67.0</td>\n",
              "      <td>INR</td>\n",
              "      <td>67.0</td>\n",
              "      <td>Tuesday</td>\n",
              "    </tr>\n",
              "    <tr>\n",
              "      <th>...</th>\n",
              "      <td>...</td>\n",
              "      <td>...</td>\n",
              "      <td>...</td>\n",
              "      <td>...</td>\n",
              "      <td>...</td>\n",
              "      <td>...</td>\n",
              "      <td>...</td>\n",
              "      <td>...</td>\n",
              "      <td>...</td>\n",
              "      <td>...</td>\n",
              "      <td>...</td>\n",
              "      <td>...</td>\n",
              "    </tr>\n",
              "    <tr>\n",
              "      <th>272</th>\n",
              "      <td>2021-11-22 14:16:00</td>\n",
              "      <td>CUB - online payment</td>\n",
              "      <td>Food</td>\n",
              "      <td>NaN</td>\n",
              "      <td>Dinner</td>\n",
              "      <td>90.0</td>\n",
              "      <td>Expense</td>\n",
              "      <td>NaN</td>\n",
              "      <td>90.0</td>\n",
              "      <td>INR</td>\n",
              "      <td>90.0</td>\n",
              "      <td>Monday</td>\n",
              "    </tr>\n",
              "    <tr>\n",
              "      <th>273</th>\n",
              "      <td>2021-11-22 14:16:00</td>\n",
              "      <td>CUB - online payment</td>\n",
              "      <td>Food</td>\n",
              "      <td>NaN</td>\n",
              "      <td>Lunch with company</td>\n",
              "      <td>97.0</td>\n",
              "      <td>Expense</td>\n",
              "      <td>NaN</td>\n",
              "      <td>97.0</td>\n",
              "      <td>INR</td>\n",
              "      <td>97.0</td>\n",
              "      <td>Monday</td>\n",
              "    </tr>\n",
              "    <tr>\n",
              "      <th>274</th>\n",
              "      <td>2021-11-21 17:07:00</td>\n",
              "      <td>CUB - online payment</td>\n",
              "      <td>Transportation</td>\n",
              "      <td>NaN</td>\n",
              "      <td>Rapido</td>\n",
              "      <td>130.0</td>\n",
              "      <td>Expense</td>\n",
              "      <td>NaN</td>\n",
              "      <td>130.0</td>\n",
              "      <td>INR</td>\n",
              "      <td>130.0</td>\n",
              "      <td>Sunday</td>\n",
              "    </tr>\n",
              "    <tr>\n",
              "      <th>275</th>\n",
              "      <td>2021-11-21 15:50:00</td>\n",
              "      <td>CUB - online payment</td>\n",
              "      <td>Food</td>\n",
              "      <td>NaN</td>\n",
              "      <td>Lunch</td>\n",
              "      <td>875.0</td>\n",
              "      <td>Expense</td>\n",
              "      <td>NaN</td>\n",
              "      <td>875.0</td>\n",
              "      <td>INR</td>\n",
              "      <td>875.0</td>\n",
              "      <td>Sunday</td>\n",
              "    </tr>\n",
              "    <tr>\n",
              "      <th>276</th>\n",
              "      <td>2021-11-21 13:30:00</td>\n",
              "      <td>CUB - online payment</td>\n",
              "      <td>Other</td>\n",
              "      <td>NaN</td>\n",
              "      <td>Got from gobi</td>\n",
              "      <td>2000.0</td>\n",
              "      <td>Income</td>\n",
              "      <td>NaN</td>\n",
              "      <td>2000.0</td>\n",
              "      <td>INR</td>\n",
              "      <td>2000.0</td>\n",
              "      <td>Sunday</td>\n",
              "    </tr>\n",
              "  </tbody>\n",
              "</table>\n",
              "<p>277 rows × 12 columns</p>\n",
              "</div>"
            ],
            "text/plain": [
              "                   Date               Account        Category  Subcategory  \\\n",
              "0   2022-03-02 10:11:00  CUB - online payment            Food          NaN   \n",
              "1   2022-03-02 10:11:00  CUB - online payment           Other          NaN   \n",
              "2   2022-03-01 19:50:00  CUB - online payment            Food          NaN   \n",
              "3   2022-03-01 18:56:00  CUB - online payment  Transportation          NaN   \n",
              "4   2022-03-01 18:22:00  CUB - online payment            Food          NaN   \n",
              "..                  ...                   ...             ...          ...   \n",
              "272 2021-11-22 14:16:00  CUB - online payment            Food          NaN   \n",
              "273 2021-11-22 14:16:00  CUB - online payment            Food          NaN   \n",
              "274 2021-11-21 17:07:00  CUB - online payment  Transportation          NaN   \n",
              "275 2021-11-21 15:50:00  CUB - online payment            Food          NaN   \n",
              "276 2021-11-21 13:30:00  CUB - online payment           Other          NaN   \n",
              "\n",
              "                   Note     INR Income/Expense  Note.1  Amount Currency  \\\n",
              "0               Brownie    50.0        Expense     NaN    50.0      INR   \n",
              "1      To lended people   300.0        Expense     NaN   300.0      INR   \n",
              "2                Dinner    78.0        Expense     NaN    78.0      INR   \n",
              "3                 Metro    30.0        Expense     NaN    30.0      INR   \n",
              "4                Snacks    67.0        Expense     NaN    67.0      INR   \n",
              "..                  ...     ...            ...     ...     ...      ...   \n",
              "272              Dinner    90.0        Expense     NaN    90.0      INR   \n",
              "273  Lunch with company    97.0        Expense     NaN    97.0      INR   \n",
              "274              Rapido   130.0        Expense     NaN   130.0      INR   \n",
              "275               Lunch   875.0        Expense     NaN   875.0      INR   \n",
              "276       Got from gobi  2000.0         Income     NaN  2000.0      INR   \n",
              "\n",
              "     Account.1   Day_name  \n",
              "0         50.0  Wednesday  \n",
              "1        300.0  Wednesday  \n",
              "2         78.0    Tuesday  \n",
              "3         30.0    Tuesday  \n",
              "4         67.0    Tuesday  \n",
              "..         ...        ...  \n",
              "272       90.0     Monday  \n",
              "273       97.0     Monday  \n",
              "274      130.0     Sunday  \n",
              "275      875.0     Sunday  \n",
              "276     2000.0     Sunday  \n",
              "\n",
              "[277 rows x 12 columns]"
            ]
          },
          "execution_count": 101,
          "metadata": {},
          "output_type": "execute_result"
        }
      ],
      "source": [
        "df"
      ]
    },
    {
      "cell_type": "code",
      "execution_count": 109,
      "metadata": {},
      "outputs": [
        {
          "data": {
            "text/plain": [
              "<Axes: xlabel='Day_name'>"
            ]
          },
          "execution_count": 109,
          "metadata": {},
          "output_type": "execute_result"
        },
        {
          "data": {
            "image/png": "[encoded data removed]",
            "text/plain": [
              "<Figure size 640x480 with 1 Axes>"
            ]
          },
          "metadata": {},
          "output_type": "display_data"
        }
      ],
      "source": [
        "# day name wise bar chart/month wise bar chart\n",
        "df.groupby('Day_name')['INR'].sum().plot()"
      ]
    },
    {
      "cell_type": "code",
      "execution_count": null,
      "metadata": {
        "colab": {
          "base_uri": "https://localhost:8080/",
          "height": 337
        },
        "id": "7dhq_RFuvirp",
        "outputId": "8c701d91-9847-4bf9-9506-2a568a4b775d"
      },
      "outputs": [
        {
          "data": {
            "text/html": [
              "\n",
              "  <div id=\"df-53d582fe-71bb-494c-a056-ce26674aaf89\">\n",
              "    <div class=\"colab-df-container\">\n",
              "      <div>\n",
              "<style scoped>\n",
              "    .dataframe tbody tr th:only-of-type {\n",
              "        vertical-align: middle;\n",
              "    }\n",
              "\n",
              "    .dataframe tbody tr th {\n",
              "        vertical-align: top;\n",
              "    }\n",
              "\n",
              "    .dataframe thead th {\n",
              "        text-align: right;\n",
              "    }\n",
              "</style>\n",
              "<table border=\"1\" class=\"dataframe\">\n",
              "  <thead>\n",
              "    <tr style=\"text-align: right;\">\n",
              "      <th></th>\n",
              "      <th>Date</th>\n",
              "      <th>Account</th>\n",
              "      <th>Category</th>\n",
              "      <th>Subcategory</th>\n",
              "      <th>Note</th>\n",
              "      <th>INR</th>\n",
              "      <th>Income/Expense</th>\n",
              "      <th>Note.1</th>\n",
              "      <th>Amount</th>\n",
              "      <th>Currency</th>\n",
              "      <th>Account.1</th>\n",
              "      <th>day_name</th>\n",
              "    </tr>\n",
              "  </thead>\n",
              "  <tbody>\n",
              "    <tr>\n",
              "      <th>0</th>\n",
              "      <td>2022-03-02 10:11:00</td>\n",
              "      <td>CUB - online payment</td>\n",
              "      <td>Food</td>\n",
              "      <td>NaN</td>\n",
              "      <td>Brownie</td>\n",
              "      <td>50.0</td>\n",
              "      <td>Expense</td>\n",
              "      <td>NaN</td>\n",
              "      <td>50.0</td>\n",
              "      <td>INR</td>\n",
              "      <td>50.0</td>\n",
              "      <td>Wednesday</td>\n",
              "    </tr>\n",
              "    <tr>\n",
              "      <th>1</th>\n",
              "      <td>2022-03-02 10:11:00</td>\n",
              "      <td>CUB - online payment</td>\n",
              "      <td>Other</td>\n",
              "      <td>NaN</td>\n",
              "      <td>To lended people</td>\n",
              "      <td>300.0</td>\n",
              "      <td>Expense</td>\n",
              "      <td>NaN</td>\n",
              "      <td>300.0</td>\n",
              "      <td>INR</td>\n",
              "      <td>300.0</td>\n",
              "      <td>Wednesday</td>\n",
              "    </tr>\n",
              "    <tr>\n",
              "      <th>2</th>\n",
              "      <td>2022-03-01 19:50:00</td>\n",
              "      <td>CUB - online payment</td>\n",
              "      <td>Food</td>\n",
              "      <td>NaN</td>\n",
              "      <td>Dinner</td>\n",
              "      <td>78.0</td>\n",
              "      <td>Expense</td>\n",
              "      <td>NaN</td>\n",
              "      <td>78.0</td>\n",
              "      <td>INR</td>\n",
              "      <td>78.0</td>\n",
              "      <td>Tuesday</td>\n",
              "    </tr>\n",
              "    <tr>\n",
              "      <th>3</th>\n",
              "      <td>2022-03-01 18:56:00</td>\n",
              "      <td>CUB - online payment</td>\n",
              "      <td>Transportation</td>\n",
              "      <td>NaN</td>\n",
              "      <td>Metro</td>\n",
              "      <td>30.0</td>\n",
              "      <td>Expense</td>\n",
              "      <td>NaN</td>\n",
              "      <td>30.0</td>\n",
              "      <td>INR</td>\n",
              "      <td>30.0</td>\n",
              "      <td>Tuesday</td>\n",
              "    </tr>\n",
              "    <tr>\n",
              "      <th>4</th>\n",
              "      <td>2022-03-01 18:22:00</td>\n",
              "      <td>CUB - online payment</td>\n",
              "      <td>Food</td>\n",
              "      <td>NaN</td>\n",
              "      <td>Snacks</td>\n",
              "      <td>67.0</td>\n",
              "      <td>Expense</td>\n",
              "      <td>NaN</td>\n",
              "      <td>67.0</td>\n",
              "      <td>INR</td>\n",
              "      <td>67.0</td>\n",
              "      <td>Tuesday</td>\n",
              "    </tr>\n",
              "  </tbody>\n",
              "</table>\n",
              "</div>\n",
              "      <button class=\"colab-df-convert\" onclick=\"convertToInteractive('df-53d582fe-71bb-494c-a056-ce26674aaf89')\"\n",
              "              title=\"Convert this dataframe to an interactive table.\"\n",
              "              style=\"display:none;\">\n",
              "        \n",
              "  <svg xmlns=\"http://www.w3.org/2000/svg\" height=\"24px\"viewBox=\"0 0 24 24\"\n",
              "       width=\"24px\">\n",
              "    <path d=\"M0 0h24v24H0V0z\" fill=\"none\"/>\n",
              "    <path d=\"M18.56 5.44l.94 2.06.94-2.06 2.06-.94-2.06-.94-.94-2.06-.94 2.06-2.06.94zm-11 1L8.5 8.5l.94-2.06 2.06-.94-2.06-.94L8.5 2.5l-.94 2.06-2.06.94zm10 10l.94 2.06.94-2.06 2.06-.94-2.06-.94-.94-2.06-.94 2.06-2.06.94z\"/><path d=\"M17.41 7.96l-1.37-1.37c-.4-.4-.92-.59-1.43-.59-.52 0-1.04.2-1.43.59L10.3 9.45l-7.72 7.72c-.78.78-.78 2.05 0 2.83L4 21.41c.39.39.9.59 1.41.59.51 0 1.02-.2 1.41-.59l7.78-7.78 2.81-2.81c.8-.78.8-2.07 0-2.86zM5.41 20L4 18.59l7.72-7.72 1.47 1.35L5.41 20z\"/>\n",
              "  </svg>\n",
              "      </button>\n",
              "      \n",
              "  <style>\n",
              "    .colab-df-container {\n",
              "      display:flex;\n",
              "      flex-wrap:wrap;\n",
              "      gap: 12px;\n",
              "    }\n",
              "\n",
              "    .colab-df-convert {\n",
              "      background-color: #E8F0FE;\n",
              "      border: none;\n",
              "      border-radius: 50%;\n",
              "      cursor: pointer;\n",
              "      display: none;\n",
              "      fill: #1967D2;\n",
              "      height: 32px;\n",
              "      padding: 0 0 0 0;\n",
              "      width: 32px;\n",
              "    }\n",
              "\n",
              "    .colab-df-convert:hover {\n",
              "      background-color: #E2EBFA;\n",
              "      box-shadow: 0px 1px 2px rgba(60, 64, 67, 0.3), 0px 1px 3px 1px rgba(60, 64, 67, 0.15);\n",
              "      fill: #174EA6;\n",
              "    }\n",
              "\n",
              "    [theme=dark] .colab-df-convert {\n",
              "      background-color: #3B4455;\n",
              "      fill: #D2E3FC;\n",
              "    }\n",
              "\n",
              "    [theme=dark] .colab-df-convert:hover {\n",
              "      background-color: #434B5C;\n",
              "      box-shadow: 0px 1px 3px 1px rgba(0, 0, 0, 0.15);\n",
              "      filter: drop-shadow(0px 1px 2px rgba(0, 0, 0, 0.3));\n",
              "      fill: #FFFFFF;\n",
              "    }\n",
              "  </style>\n",
              "\n",
              "      <script>\n",
              "        const buttonEl =\n",
              "          document.querySelector('#df-53d582fe-71bb-494c-a056-ce26674aaf89 button.colab-df-convert');\n",
              "        buttonEl.style.display =\n",
              "          google.colab.kernel.accessAllowed ? 'block' : 'none';\n",
              "\n",
              "        async function convertToInteractive(key) {\n",
              "          const element = document.querySelector('#df-53d582fe-71bb-494c-a056-ce26674aaf89');\n",
              "          const dataTable =\n",
              "            await google.colab.kernel.invokeFunction('convertToInteractive',\n",
              "                                                     [key], {});\n",
              "          if (!dataTable) return;\n",
              "\n",
              "          const docLinkHtml = 'Like what you see? Visit the ' +\n",
              "            '<a target=\"_blank\" href=https://colab.research.google.com/notebooks/data_table.ipynb>data table notebook</a>'\n",
              "            + ' to learn more about interactive tables.';\n",
              "          element.innerHTML = '';\n",
              "          dataTable['output_type'] = 'display_data';\n",
              "          await google.colab.output.renderOutput(dataTable, element);\n",
              "          const docLink = document.createElement('div');\n",
              "          docLink.innerHTML = docLinkHtml;\n",
              "          element.appendChild(docLink);\n",
              "        }\n",
              "      </script>\n",
              "    </div>\n",
              "  </div>\n",
              "  "
            ],
            "text/plain": [
              "                 Date               Account        Category  Subcategory  \\\n",
              "0 2022-03-02 10:11:00  CUB - online payment            Food          NaN   \n",
              "1 2022-03-02 10:11:00  CUB - online payment           Other          NaN   \n",
              "2 2022-03-01 19:50:00  CUB - online payment            Food          NaN   \n",
              "3 2022-03-01 18:56:00  CUB - online payment  Transportation          NaN   \n",
              "4 2022-03-01 18:22:00  CUB - online payment            Food          NaN   \n",
              "\n",
              "               Note    INR Income/Expense  Note.1  Amount Currency  Account.1  \\\n",
              "0           Brownie   50.0        Expense     NaN    50.0      INR       50.0   \n",
              "1  To lended people  300.0        Expense     NaN   300.0      INR      300.0   \n",
              "2            Dinner   78.0        Expense     NaN    78.0      INR       78.0   \n",
              "3             Metro   30.0        Expense     NaN    30.0      INR       30.0   \n",
              "4            Snacks   67.0        Expense     NaN    67.0      INR       67.0   \n",
              "\n",
              "    day_name  \n",
              "0  Wednesday  \n",
              "1  Wednesday  \n",
              "2    Tuesday  \n",
              "3    Tuesday  \n",
              "4    Tuesday  "
            ]
          },
          "execution_count": 87,
          "metadata": {},
          "output_type": "execute_result"
        }
      ],
      "source": [
        "df.head()"
      ]
    },
    {
      "cell_type": "code",
      "execution_count": 107,
      "metadata": {
        "colab": {
          "base_uri": "https://localhost:8080/",
          "height": 348
        },
        "id": "z2PcN0iovnDb",
        "outputId": "80cd6a9c-531e-4adf-b822-03b437cdf625"
      },
      "outputs": [
        {
          "data": {
            "text/plain": [
              "<Axes: xlabel='Day_name'>"
            ]
          },
          "execution_count": 107,
          "metadata": {},
          "output_type": "execute_result"
        },
        {
          "data": {
            "image/png": "[encoded data removed]",
            "text/plain": [
              "<Figure size 640x480 with 1 Axes>"
            ]
          },
          "metadata": {},
          "output_type": "display_data"
        }
      ],
      "source": [
        "df.groupby('Day_name')['INR'].mean().plot(kind='bar')"
      ]
    },
    {
      "cell_type": "code",
      "execution_count": 110,
      "metadata": {
        "id": "ArhXjWUlvtdi"
      },
      "outputs": [],
      "source": [
        "df['month_name'] = df['Date'].dt.month_name()"
      ]
    },
    {
      "cell_type": "code",
      "execution_count": 111,
      "metadata": {
        "colab": {
          "base_uri": "https://localhost:8080/",
          "height": 424
        },
        "id": "SPesh2cHv8p3",
        "outputId": "d9b5957c-bf2f-4993-fc58-419877c8b702"
      },
      "outputs": [
        {
          "data": {
            "text/html": [
              "<div>\n",
              "<style scoped>\n",
              "    .dataframe tbody tr th:only-of-type {\n",
              "        vertical-align: middle;\n",
              "    }\n",
              "\n",
              "    .dataframe tbody tr th {\n",
              "        vertical-align: top;\n",
              "    }\n",
              "\n",
              "    .dataframe thead th {\n",
              "        text-align: right;\n",
              "    }\n",
              "</style>\n",
              "<table border=\"1\" class=\"dataframe\">\n",
              "  <thead>\n",
              "    <tr style=\"text-align: right;\">\n",
              "      <th></th>\n",
              "      <th>Date</th>\n",
              "      <th>Account</th>\n",
              "      <th>Category</th>\n",
              "      <th>Subcategory</th>\n",
              "      <th>Note</th>\n",
              "      <th>INR</th>\n",
              "      <th>Income/Expense</th>\n",
              "      <th>Note.1</th>\n",
              "      <th>Amount</th>\n",
              "      <th>Currency</th>\n",
              "      <th>Account.1</th>\n",
              "      <th>Day_name</th>\n",
              "      <th>month_name</th>\n",
              "    </tr>\n",
              "  </thead>\n",
              "  <tbody>\n",
              "    <tr>\n",
              "      <th>0</th>\n",
              "      <td>2022-03-02 10:11:00</td>\n",
              "      <td>CUB - online payment</td>\n",
              "      <td>Food</td>\n",
              "      <td>NaN</td>\n",
              "      <td>Brownie</td>\n",
              "      <td>50.0</td>\n",
              "      <td>Expense</td>\n",
              "      <td>NaN</td>\n",
              "      <td>50.0</td>\n",
              "      <td>INR</td>\n",
              "      <td>50.0</td>\n",
              "      <td>Wednesday</td>\n",
              "      <td>March</td>\n",
              "    </tr>\n",
              "    <tr>\n",
              "      <th>1</th>\n",
              "      <td>2022-03-02 10:11:00</td>\n",
              "      <td>CUB - online payment</td>\n",
              "      <td>Other</td>\n",
              "      <td>NaN</td>\n",
              "      <td>To lended people</td>\n",
              "      <td>300.0</td>\n",
              "      <td>Expense</td>\n",
              "      <td>NaN</td>\n",
              "      <td>300.0</td>\n",
              "      <td>INR</td>\n",
              "      <td>300.0</td>\n",
              "      <td>Wednesday</td>\n",
              "      <td>March</td>\n",
              "    </tr>\n",
              "    <tr>\n",
              "      <th>2</th>\n",
              "      <td>2022-03-01 19:50:00</td>\n",
              "      <td>CUB - online payment</td>\n",
              "      <td>Food</td>\n",
              "      <td>NaN</td>\n",
              "      <td>Dinner</td>\n",
              "      <td>78.0</td>\n",
              "      <td>Expense</td>\n",
              "      <td>NaN</td>\n",
              "      <td>78.0</td>\n",
              "      <td>INR</td>\n",
              "      <td>78.0</td>\n",
              "      <td>Tuesday</td>\n",
              "      <td>March</td>\n",
              "    </tr>\n",
              "    <tr>\n",
              "      <th>3</th>\n",
              "      <td>2022-03-01 18:56:00</td>\n",
              "      <td>CUB - online payment</td>\n",
              "      <td>Transportation</td>\n",
              "      <td>NaN</td>\n",
              "      <td>Metro</td>\n",
              "      <td>30.0</td>\n",
              "      <td>Expense</td>\n",
              "      <td>NaN</td>\n",
              "      <td>30.0</td>\n",
              "      <td>INR</td>\n",
              "      <td>30.0</td>\n",
              "      <td>Tuesday</td>\n",
              "      <td>March</td>\n",
              "    </tr>\n",
              "    <tr>\n",
              "      <th>4</th>\n",
              "      <td>2022-03-01 18:22:00</td>\n",
              "      <td>CUB - online payment</td>\n",
              "      <td>Food</td>\n",
              "      <td>NaN</td>\n",
              "      <td>Snacks</td>\n",
              "      <td>67.0</td>\n",
              "      <td>Expense</td>\n",
              "      <td>NaN</td>\n",
              "      <td>67.0</td>\n",
              "      <td>INR</td>\n",
              "      <td>67.0</td>\n",
              "      <td>Tuesday</td>\n",
              "      <td>March</td>\n",
              "    </tr>\n",
              "  </tbody>\n",
              "</table>\n",
              "</div>"
            ],
            "text/plain": [
              "                 Date               Account        Category  Subcategory  \\\n",
              "0 2022-03-02 10:11:00  CUB - online payment            Food          NaN   \n",
              "1 2022-03-02 10:11:00  CUB - online payment           Other          NaN   \n",
              "2 2022-03-01 19:50:00  CUB - online payment            Food          NaN   \n",
              "3 2022-03-01 18:56:00  CUB - online payment  Transportation          NaN   \n",
              "4 2022-03-01 18:22:00  CUB - online payment            Food          NaN   \n",
              "\n",
              "               Note    INR Income/Expense  Note.1  Amount Currency  Account.1  \\\n",
              "0           Brownie   50.0        Expense     NaN    50.0      INR       50.0   \n",
              "1  To lended people  300.0        Expense     NaN   300.0      INR      300.0   \n",
              "2            Dinner   78.0        Expense     NaN    78.0      INR       78.0   \n",
              "3             Metro   30.0        Expense     NaN    30.0      INR       30.0   \n",
              "4            Snacks   67.0        Expense     NaN    67.0      INR       67.0   \n",
              "\n",
              "    Day_name month_name  \n",
              "0  Wednesday      March  \n",
              "1  Wednesday      March  \n",
              "2    Tuesday      March  \n",
              "3    Tuesday      March  \n",
              "4    Tuesday      March  "
            ]
          },
          "execution_count": 111,
          "metadata": {},
          "output_type": "execute_result"
        }
      ],
      "source": [
        "df.head()"
      ]
    },
    {
      "cell_type": "code",
      "execution_count": 112,
      "metadata": {
        "colab": {
          "base_uri": "https://localhost:8080/",
          "height": 339
        },
        "id": "sJWkzRWfv9nW",
        "outputId": "f95bd264-34d7-4882-9a21-3140b3c36732"
      },
      "outputs": [
        {
          "data": {
            "text/plain": [
              "<Axes: xlabel='month_name'>"
            ]
          },
          "execution_count": 112,
          "metadata": {},
          "output_type": "execute_result"
        },
        {
          "data": {
            "image/png": "[encoded data removed]",
            "text/plain": [
              "<Figure size 640x480 with 1 Axes>"
            ]
          },
          "metadata": {},
          "output_type": "display_data"
        }
      ],
      "source": [
        "df.groupby('month_name')['INR'].sum().plot(kind='bar')"
      ]
    },
    {
      "cell_type": "code",
      "execution_count": 118,
      "metadata": {
        "colab": {
          "base_uri": "https://localhost:8080/",
          "height": 622
        },
        "id": "pnlcKZAWwBWv",
        "outputId": "e186ec9b-f9da-49a2-dd65-5dda0ca22f31"
      },
      "outputs": [
        {
          "data": {
            "text/plain": [
              "<Axes: >"
            ]
          },
          "execution_count": 118,
          "metadata": {},
          "output_type": "execute_result"
        },
        {
          "data": {
            "image/png": "[encoded data removed]",
            "text/plain": [
              "<Figure size 640x480 with 1 Axes>"
            ]
          },
          "metadata": {},
          "output_type": "display_data"
        }
      ],
      "source": [
        "df[df['Date'].dt.is_month_end].plot()"
      ]
    },
    {
      "cell_type": "code",
      "execution_count": 115,
      "metadata": {
        "id": "QJfMv1ipwT05"
      },
      "outputs": [
        {
          "data": {
            "text/html": [
              "<div>\n",
              "<style scoped>\n",
              "    .dataframe tbody tr th:only-of-type {\n",
              "        vertical-align: middle;\n",
              "    }\n",
              "\n",
              "    .dataframe tbody tr th {\n",
              "        vertical-align: top;\n",
              "    }\n",
              "\n",
              "    .dataframe thead th {\n",
              "        text-align: right;\n",
              "    }\n",
              "</style>\n",
              "<table border=\"1\" class=\"dataframe\">\n",
              "  <thead>\n",
              "    <tr style=\"text-align: right;\">\n",
              "      <th></th>\n",
              "      <th>Date</th>\n",
              "      <th>Account</th>\n",
              "      <th>Category</th>\n",
              "      <th>Subcategory</th>\n",
              "      <th>Note</th>\n",
              "      <th>INR</th>\n",
              "      <th>Income/Expense</th>\n",
              "      <th>Note.1</th>\n",
              "      <th>Amount</th>\n",
              "      <th>Currency</th>\n",
              "      <th>Account.1</th>\n",
              "      <th>Day_name</th>\n",
              "      <th>month_name</th>\n",
              "      <th>Month_end</th>\n",
              "    </tr>\n",
              "  </thead>\n",
              "  <tbody>\n",
              "    <tr>\n",
              "      <th>0</th>\n",
              "      <td>2022-03-02 10:11:00</td>\n",
              "      <td>CUB - online payment</td>\n",
              "      <td>Food</td>\n",
              "      <td>NaN</td>\n",
              "      <td>Brownie</td>\n",
              "      <td>50.0</td>\n",
              "      <td>Expense</td>\n",
              "      <td>NaN</td>\n",
              "      <td>50.0</td>\n",
              "      <td>INR</td>\n",
              "      <td>50.0</td>\n",
              "      <td>Wednesday</td>\n",
              "      <td>March</td>\n",
              "      <td>False</td>\n",
              "    </tr>\n",
              "    <tr>\n",
              "      <th>1</th>\n",
              "      <td>2022-03-02 10:11:00</td>\n",
              "      <td>CUB - online payment</td>\n",
              "      <td>Other</td>\n",
              "      <td>NaN</td>\n",
              "      <td>To lended people</td>\n",
              "      <td>300.0</td>\n",
              "      <td>Expense</td>\n",
              "      <td>NaN</td>\n",
              "      <td>300.0</td>\n",
              "      <td>INR</td>\n",
              "      <td>300.0</td>\n",
              "      <td>Wednesday</td>\n",
              "      <td>March</td>\n",
              "      <td>False</td>\n",
              "    </tr>\n",
              "    <tr>\n",
              "      <th>2</th>\n",
              "      <td>2022-03-01 19:50:00</td>\n",
              "      <td>CUB - online payment</td>\n",
              "      <td>Food</td>\n",
              "      <td>NaN</td>\n",
              "      <td>Dinner</td>\n",
              "      <td>78.0</td>\n",
              "      <td>Expense</td>\n",
              "      <td>NaN</td>\n",
              "      <td>78.0</td>\n",
              "      <td>INR</td>\n",
              "      <td>78.0</td>\n",
              "      <td>Tuesday</td>\n",
              "      <td>March</td>\n",
              "      <td>False</td>\n",
              "    </tr>\n",
              "    <tr>\n",
              "      <th>3</th>\n",
              "      <td>2022-03-01 18:56:00</td>\n",
              "      <td>CUB - online payment</td>\n",
              "      <td>Transportation</td>\n",
              "      <td>NaN</td>\n",
              "      <td>Metro</td>\n",
              "      <td>30.0</td>\n",
              "      <td>Expense</td>\n",
              "      <td>NaN</td>\n",
              "      <td>30.0</td>\n",
              "      <td>INR</td>\n",
              "      <td>30.0</td>\n",
              "      <td>Tuesday</td>\n",
              "      <td>March</td>\n",
              "      <td>False</td>\n",
              "    </tr>\n",
              "    <tr>\n",
              "      <th>4</th>\n",
              "      <td>2022-03-01 18:22:00</td>\n",
              "      <td>CUB - online payment</td>\n",
              "      <td>Food</td>\n",
              "      <td>NaN</td>\n",
              "      <td>Snacks</td>\n",
              "      <td>67.0</td>\n",
              "      <td>Expense</td>\n",
              "      <td>NaN</td>\n",
              "      <td>67.0</td>\n",
              "      <td>INR</td>\n",
              "      <td>67.0</td>\n",
              "      <td>Tuesday</td>\n",
              "      <td>March</td>\n",
              "      <td>False</td>\n",
              "    </tr>\n",
              "  </tbody>\n",
              "</table>\n",
              "</div>"
            ],
            "text/plain": [
              "                 Date               Account        Category  Subcategory  \\\n",
              "0 2022-03-02 10:11:00  CUB - online payment            Food          NaN   \n",
              "1 2022-03-02 10:11:00  CUB - online payment           Other          NaN   \n",
              "2 2022-03-01 19:50:00  CUB - online payment            Food          NaN   \n",
              "3 2022-03-01 18:56:00  CUB - online payment  Transportation          NaN   \n",
              "4 2022-03-01 18:22:00  CUB - online payment            Food          NaN   \n",
              "\n",
              "               Note    INR Income/Expense  Note.1  Amount Currency  Account.1  \\\n",
              "0           Brownie   50.0        Expense     NaN    50.0      INR       50.0   \n",
              "1  To lended people  300.0        Expense     NaN   300.0      INR      300.0   \n",
              "2            Dinner   78.0        Expense     NaN    78.0      INR       78.0   \n",
              "3             Metro   30.0        Expense     NaN    30.0      INR       30.0   \n",
              "4            Snacks   67.0        Expense     NaN    67.0      INR       67.0   \n",
              "\n",
              "    Day_name month_name  Month_end  \n",
              "0  Wednesday      March      False  \n",
              "1  Wednesday      March      False  \n",
              "2    Tuesday      March      False  \n",
              "3    Tuesday      March      False  \n",
              "4    Tuesday      March      False  "
            ]
          },
          "execution_count": 115,
          "metadata": {},
          "output_type": "execute_result"
        }
      ],
      "source": [
        "df.head()"
      ]
    }
  ],
  "metadata": {
    "colab": {
      "provenance": []
    },
    "kernelspec": {
      "display_name": "Python 3",
      "name": "python3"
    },
    "language_info": {
      "codemirror_mode": {
        "name": "ipython",
        "version": 3
      },
      "file_extension": ".py",
      "mimetype": "text/x-python",
      "name": "python",
      "nbconvert_exporter": "python",
      "pygments_lexer": "ipython3",
      "version": "3.12.1"
    }
  },
  "nbformat": 4,
  "nbformat_minor": 0
}
