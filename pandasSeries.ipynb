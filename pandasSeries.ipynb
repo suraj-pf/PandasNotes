{
  "cells": [
    {
      "cell_type": "markdown",
      "metadata": {
        "id": "Nkgl3LZGP0XZ"
      },
      "source": [
        "### What is Pandas\n",
        "\n",
        "Pandas is a fast, powerful, flexible and easy to use open source data analysis and manipulation tool,\n",
        "built on top of the Python programming language.\n",
        "\n",
        "https://pandas.pydata.org/about/index.html"
      ]
    },
    {
      "cell_type": "markdown",
      "metadata": {
        "id": "3QmWVpYGRw59"
      },
      "source": [
        "### Pandas Series\n",
        "\n",
        "A Pandas Series is like a column in a table. It is a 1-D array holding data of any type."
      ]
    },
    {
      "cell_type": "markdown",
      "metadata": {
        "id": "3hwTOkrbPMjE"
      },
      "source": [
        "### Importing Pandas"
      ]
    },
    {
      "cell_type": "code",
      "execution_count": 36,
      "metadata": {
        "id": "QWWCrofyPM7J"
      },
      "outputs": [],
      "source": [
        "import numpy as np\n",
        "import pandas as pd"
      ]
    },
    {
      "cell_type": "markdown",
      "metadata": {
        "id": "uU-Ms_To_FG1"
      },
      "source": [
        "### Series from lists"
      ]
    },
    {
      "cell_type": "code",
      "execution_count": 37,
      "metadata": {
        "colab": {
          "base_uri": "https://localhost:8080/"
        },
        "id": "KYk9Gta7_G38",
        "outputId": "45f1b6c8-44ec-4081-d59e-d7139682da3e"
      },
      "outputs": [
        {
          "data": {
            "text/plain": [
              "0       India\n",
              "1    Pakistan\n",
              "2         USA\n",
              "3       Nepal\n",
              "4    Srilanka\n",
              "dtype: object"
            ]
          },
          "execution_count": 37,
          "metadata": {},
          "output_type": "execute_result"
        }
      ],
      "source": [
        "# string\n",
        "country = ['India','Pakistan','USA','Nepal','Srilanka']\n",
        "\n",
        "pd.Series(country)"
      ]
    },
    {
      "cell_type": "code",
      "execution_count": 38,
      "metadata": {
        "id": "h_Wgimpg_Idl"
      },
      "outputs": [
        {
          "data": {
            "text/plain": [
              "0     13\n",
              "1     24\n",
              "2     56\n",
              "3     78\n",
              "4    100\n",
              "dtype: int64"
            ]
          },
          "execution_count": 38,
          "metadata": {},
          "output_type": "execute_result"
        }
      ],
      "source": [
        "# integers\n",
        "runs = [13,24,56,78,100]\n",
        "\n",
        "pd.Series(runs)\n",
        "# pd.Series(runs,country)"
      ]
    },
    {
      "cell_type": "code",
      "execution_count": 39,
      "metadata": {
        "colab": {
          "base_uri": "https://localhost:8080/"
        },
        "id": "CJgHbnepH_EX",
        "outputId": "b1de62df-903c-4e66-d67b-976425039f17"
      },
      "outputs": [
        {
          "data": {
            "text/plain": [
              "maths       67\n",
              "english     57\n",
              "science     89\n",
              "hindi      100\n",
              "dtype: int64"
            ]
          },
          "execution_count": 39,
          "metadata": {},
          "output_type": "execute_result"
        }
      ],
      "source": [
        "# custom index\n",
        "marks = [67,57,89,100]\n",
        "subjects = ['maths','english','science','hindi']\n",
        "\n",
        "pd.Series(marks,index=subjects)"
      ]
    },
    {
      "cell_type": "code",
      "execution_count": 40,
      "metadata": {
        "colab": {
          "base_uri": "https://localhost:8080/"
        },
        "id": "zcjykyJVKgWs",
        "outputId": "26c2aee7-42c8-4aa2-a854-e436cfbb24b9"
      },
      "outputs": [
        {
          "data": {
            "text/plain": [
              "maths       67\n",
              "english     57\n",
              "science     89\n",
              "hindi      100\n",
              "Name: Nitish ke marks, dtype: int64"
            ]
          },
          "execution_count": 40,
          "metadata": {},
          "output_type": "execute_result"
        }
      ],
      "source": [
        "# setting a name\n",
        "marks = pd.Series(marks,index=subjects,name='Nitish ke marks')\n",
        "marks"
      ]
    },
    {
      "cell_type": "code",
      "execution_count": 41,
      "metadata": {},
      "outputs": [
        {
          "data": {
            "text/plain": [
              "India        13\n",
              "Pakistan     24\n",
              "USA          56\n",
              "Nepal        78\n",
              "Srilanka    100\n",
              "Name: runs against country, dtype: int64"
            ]
          },
          "execution_count": 41,
          "metadata": {},
          "output_type": "execute_result"
        }
      ],
      "source": [
        "vk = pd.Series(runs,index=country,name=\"runs against country\")\n",
        "vk"
      ]
    },
    {
      "cell_type": "markdown",
      "metadata": {
        "id": "gw4NHrWf_Km3"
      },
      "source": [
        "### Series from dict"
      ]
    },
    {
      "cell_type": "code",
      "execution_count": 42,
      "metadata": {
        "colab": {
          "base_uri": "https://localhost:8080/"
        },
        "id": "Sz9B_oPy_RMX",
        "outputId": "d03fa978-2e6b-4098-af75-a7471deaf464"
      },
      "outputs": [
        {
          "data": {
            "text/plain": [
              "maths       67\n",
              "english     57\n",
              "science     89\n",
              "hindi      100\n",
              "Name: report sample, dtype: int64"
            ]
          },
          "execution_count": 42,
          "metadata": {},
          "output_type": "execute_result"
        }
      ],
      "source": [
        "marks = {\n",
        "    'maths':67,\n",
        "    'english':57,\n",
        "    'science':89,\n",
        "    'hindi':100\n",
        "}\n",
        "\n",
        "marks_series = pd.Series(marks,name='report sample')\n",
        "marks_series"
      ]
    },
    {
      "cell_type": "code",
      "execution_count": 43,
      "metadata": {},
      "outputs": [
        {
          "data": {
            "text/plain": [
              "Sri lanka       98\n",
              "England         56\n",
              "South Africa    75\n",
              "new Zenland     50\n",
              "Name: runs of vk against teams, dtype: int64"
            ]
          },
          "execution_count": 43,
          "metadata": {},
          "output_type": "execute_result"
        }
      ],
      "source": [
        "runs = {\n",
        "    'Sri lanka' : 98,\n",
        "    'England' : 56,\n",
        "    'South Africa' : 75,\n",
        "    'new Zenland' : 50,\n",
        "}\n",
        "\n",
        "runs_series = pd.Series(runs,name=\"runs of vk against teams\")\n",
        "runs_series"
      ]
    },
    {
      "cell_type": "markdown",
      "metadata": {
        "id": "MDSIDfei_Szi"
      },
      "source": [
        "### Series Attributes"
      ]
    },
    {
      "cell_type": "code",
      "execution_count": 44,
      "metadata": {},
      "outputs": [
        {
          "data": {
            "text/plain": [
              "4"
            ]
          },
          "execution_count": 44,
          "metadata": {},
          "output_type": "execute_result"
        }
      ],
      "source": [
        "# size\n",
        "marks_series.size"
      ]
    },
    {
      "cell_type": "code",
      "execution_count": 45,
      "metadata": {},
      "outputs": [
        {
          "data": {
            "text/plain": [
              "dtype('int64')"
            ]
          },
          "execution_count": 45,
          "metadata": {},
          "output_type": "execute_result"
        }
      ],
      "source": [
        "# dtype\n",
        "marks_series.dtype"
      ]
    },
    {
      "cell_type": "code",
      "execution_count": 46,
      "metadata": {},
      "outputs": [
        {
          "data": {
            "text/plain": [
              "'report sample'"
            ]
          },
          "execution_count": 46,
          "metadata": {},
          "output_type": "execute_result"
        }
      ],
      "source": [
        "# name\n",
        "marks_series.name"
      ]
    },
    {
      "cell_type": "code",
      "execution_count": 47,
      "metadata": {},
      "outputs": [
        {
          "data": {
            "text/plain": [
              "'fake report'"
            ]
          },
          "execution_count": 47,
          "metadata": {},
          "output_type": "execute_result"
        }
      ],
      "source": [
        "# we can change the name using name feature \n",
        "# name\n",
        "marks_series.name='fake report'\n",
        "marks_series.name"
      ]
    },
    {
      "cell_type": "code",
      "execution_count": 48,
      "metadata": {},
      "outputs": [
        {
          "data": {
            "text/plain": [
              "True"
            ]
          },
          "execution_count": 48,
          "metadata": {},
          "output_type": "execute_result"
        }
      ],
      "source": [
        "# is_unique\n",
        "# checks all items are unique\n",
        "marks_series.is_unique"
      ]
    },
    {
      "cell_type": "code",
      "execution_count": 49,
      "metadata": {},
      "outputs": [
        {
          "data": {
            "text/plain": [
              "False"
            ]
          },
          "execution_count": 49,
          "metadata": {},
          "output_type": "execute_result"
        }
      ],
      "source": [
        "pd.Series([1,1,1,2,2,3,4,6,5]).is_unique"
      ]
    },
    {
      "cell_type": "code",
      "execution_count": 50,
      "metadata": {},
      "outputs": [
        {
          "data": {
            "text/plain": [
              "Index(['maths', 'english', 'science', 'hindi'], dtype='object')"
            ]
          },
          "execution_count": 50,
          "metadata": {},
          "output_type": "execute_result"
        }
      ],
      "source": [
        "# index\n",
        "marks_series.index"
      ]
    },
    {
      "cell_type": "code",
      "execution_count": 51,
      "metadata": {},
      "outputs": [
        {
          "data": {
            "text/plain": [
              "Index(['Sri lanka', 'England', 'South Africa', 'new Zenland'], dtype='object')"
            ]
          },
          "execution_count": 51,
          "metadata": {},
          "output_type": "execute_result"
        }
      ],
      "source": [
        "runs_series.index"
      ]
    },
    {
      "cell_type": "code",
      "execution_count": 52,
      "metadata": {},
      "outputs": [],
      "source": [
        "runs = [13,24,56,78,100]\n",
        "\n",
        "runs = pd.Series(runs)"
      ]
    },
    {
      "cell_type": "code",
      "execution_count": 53,
      "metadata": {},
      "outputs": [
        {
          "data": {
            "text/plain": [
              "RangeIndex(start=0, stop=5, step=1)"
            ]
          },
          "execution_count": 53,
          "metadata": {},
          "output_type": "execute_result"
        }
      ],
      "source": [
        "runs.index"
      ]
    },
    {
      "cell_type": "code",
      "execution_count": 54,
      "metadata": {},
      "outputs": [
        {
          "data": {
            "text/plain": [
              "array([ 67,  57,  89, 100], dtype=int64)"
            ]
          },
          "execution_count": 54,
          "metadata": {},
          "output_type": "execute_result"
        }
      ],
      "source": [
        "# values\n",
        "# gets only the values\n",
        "\n",
        "marks_series.values"
      ]
    },
    {
      "cell_type": "markdown",
      "metadata": {
        "id": "UCP7I0t_KMID"
      },
      "source": [
        "### Series using read_csv"
      ]
    },
    {
      "cell_type": "code",
      "execution_count": 55,
      "metadata": {},
      "outputs": [
        {
          "data": {
            "text/plain": [
              "method"
            ]
          },
          "execution_count": 55,
          "metadata": {},
          "output_type": "execute_result"
        }
      ],
      "source": [
        "subs = pd.read_csv(\"subs.csv\").squeeze\n",
        "type(subs)"
      ]
    },
    {
      "cell_type": "code",
      "execution_count": 56,
      "metadata": {},
      "outputs": [
        {
          "data": {
            "text/plain": [
              "method"
            ]
          },
          "execution_count": 56,
          "metadata": {},
          "output_type": "execute_result"
        }
      ],
      "source": [
        "type(subs)"
      ]
    },
    {
      "cell_type": "code",
      "execution_count": 57,
      "metadata": {},
      "outputs": [
        {
          "data": {
            "text/plain": [
              "pandas.core.frame.DataFrame"
            ]
          },
          "execution_count": 57,
          "metadata": {},
          "output_type": "execute_result"
        }
      ],
      "source": [
        "type(pd.read_csv('subs.csv'))\n",
        "# type(pd.read_csv('subs.csv'))"
      ]
    },
    {
      "cell_type": "code",
      "execution_count": 65,
      "metadata": {
        "colab": {
          "base_uri": "https://localhost:8080/"
        },
        "id": "v34r_I_82dwZ",
        "outputId": "ab5f9a30-d9f1-4532-fbc8-a8b792107b80"
      },
      "outputs": [],
      "source": [
        "vk = pd.read_csv('kohli_ipl.csv',index_col='match_no').squeeze"
      ]
    },
    {
      "cell_type": "code",
      "execution_count": 69,
      "metadata": {},
      "outputs": [
        {
          "data": {
            "text/html": [
              "<div>\n",
              "<style scoped>\n",
              "    .dataframe tbody tr th:only-of-type {\n",
              "        vertical-align: middle;\n",
              "    }\n",
              "\n",
              "    .dataframe tbody tr th {\n",
              "        vertical-align: top;\n",
              "    }\n",
              "\n",
              "    .dataframe thead th {\n",
              "        text-align: right;\n",
              "    }\n",
              "</style>\n",
              "<table border=\"1\" class=\"dataframe\">\n",
              "  <thead>\n",
              "    <tr style=\"text-align: right;\">\n",
              "      <th></th>\n",
              "      <th>lead</th>\n",
              "    </tr>\n",
              "    <tr>\n",
              "      <th>movie</th>\n",
              "      <th></th>\n",
              "    </tr>\n",
              "  </thead>\n",
              "  <tbody>\n",
              "    <tr>\n",
              "      <th>Uri: The Surgical Strike</th>\n",
              "      <td>Vicky Kaushal</td>\n",
              "    </tr>\n",
              "    <tr>\n",
              "      <th>Battalion 609</th>\n",
              "      <td>Vicky Ahuja</td>\n",
              "    </tr>\n",
              "    <tr>\n",
              "      <th>The Accidental Prime Minister (film)</th>\n",
              "      <td>Anupam Kher</td>\n",
              "    </tr>\n",
              "    <tr>\n",
              "      <th>Why Cheat India</th>\n",
              "      <td>Emraan Hashmi</td>\n",
              "    </tr>\n",
              "    <tr>\n",
              "      <th>Evening Shadows</th>\n",
              "      <td>Mona Ambegaonkar</td>\n",
              "    </tr>\n",
              "    <tr>\n",
              "      <th>...</th>\n",
              "      <td>...</td>\n",
              "    </tr>\n",
              "    <tr>\n",
              "      <th>Hum Tumhare Hain Sanam</th>\n",
              "      <td>Shah Rukh Khan</td>\n",
              "    </tr>\n",
              "    <tr>\n",
              "      <th>Aankhen (2002 film)</th>\n",
              "      <td>Amitabh Bachchan</td>\n",
              "    </tr>\n",
              "    <tr>\n",
              "      <th>Saathiya (film)</th>\n",
              "      <td>Vivek Oberoi</td>\n",
              "    </tr>\n",
              "    <tr>\n",
              "      <th>Company (film)</th>\n",
              "      <td>Ajay Devgn</td>\n",
              "    </tr>\n",
              "    <tr>\n",
              "      <th>Awara Paagal Deewana</th>\n",
              "      <td>Akshay Kumar</td>\n",
              "    </tr>\n",
              "  </tbody>\n",
              "</table>\n",
              "<p>1500 rows × 1 columns</p>\n",
              "</div>"
            ],
            "text/plain": [
              "                                                  lead\n",
              "movie                                                 \n",
              "Uri: The Surgical Strike                 Vicky Kaushal\n",
              "Battalion 609                              Vicky Ahuja\n",
              "The Accidental Prime Minister (film)       Anupam Kher\n",
              "Why Cheat India                          Emraan Hashmi\n",
              "Evening Shadows                       Mona Ambegaonkar\n",
              "...                                                ...\n",
              "Hum Tumhare Hain Sanam                  Shah Rukh Khan\n",
              "Aankhen (2002 film)                   Amitabh Bachchan\n",
              "Saathiya (film)                           Vivek Oberoi\n",
              "Company (film)                              Ajay Devgn\n",
              "Awara Paagal Deewana                      Akshay Kumar\n",
              "\n",
              "[1500 rows x 1 columns]"
            ]
          },
          "execution_count": 69,
          "metadata": {},
          "output_type": "execute_result"
        }
      ],
      "source": [
        "pd.read_csv('bollywood.csv',index_col='movie')"
      ]
    },
    {
      "cell_type": "markdown",
      "metadata": {
        "id": "taKAApMTLJkG"
      },
      "source": [
        "### Series methods"
      ]
    },
    {
      "cell_type": "code",
      "execution_count": 70,
      "metadata": {
        "colab": {
          "base_uri": "https://localhost:8080/"
        },
        "id": "Lt-l4sM_LLsH",
        "outputId": "ce63f92e-7d0c-46b1-f64c-92afa28cd1c3"
      },
      "outputs": [
        {
          "ename": "AttributeError",
          "evalue": "'function' object has no attribute 'head'",
          "output_type": "error",
          "traceback": [
            "\u001b[1;31m---------------------------------------------------------------------------\u001b[0m",
            "\u001b[1;31mAttributeError\u001b[0m                            Traceback (most recent call last)",
            "Cell \u001b[1;32mIn[70], line 2\u001b[0m\n\u001b[0;32m      1\u001b[0m \u001b[38;5;66;03m# head and tail\u001b[39;00m\n\u001b[1;32m----> 2\u001b[0m \u001b[43msubs\u001b[49m\u001b[38;5;241;43m.\u001b[39;49m\u001b[43mhead\u001b[49m()\n",
            "\u001b[1;31mAttributeError\u001b[0m: 'function' object has no attribute 'head'"
          ]
        }
      ],
      "source": []
    },
    {
      "cell_type": "code",
      "execution_count": 76,
      "metadata": {},
      "outputs": [
        {
          "name": "stdout",
          "output_type": "stream",
          "text": [
            "id\n",
            "1    100\n",
            "2    200\n",
            "3    300\n",
            "4    400\n",
            "5    500\n",
            "Name: value, dtype: int64\n"
          ]
        }
      ],
      "source": [
        "import pandas as pd\n",
        "\n",
        "# Load the CSV file into a DataFrame\n",
        "df = pd.read_csv('samp.csv', index_col='id')\n",
        "\n",
        "# Convert a column of the DataFrame to a Series\n",
        "series = df['value']\n",
        "\n",
        "print(series)\n"
      ]
    },
    {
      "cell_type": "code",
      "execution_count": 78,
      "metadata": {},
      "outputs": [
        {
          "data": {
            "text/plain": [
              "pandas.core.series.Series"
            ]
          },
          "execution_count": 78,
          "metadata": {},
          "output_type": "execute_result"
        }
      ],
      "source": [
        "type(series)"
      ]
    },
    {
      "cell_type": "code",
      "execution_count": 79,
      "metadata": {
        "colab": {
          "base_uri": "https://localhost:8080/"
        },
        "id": "dvZrPaR-DiKT",
        "outputId": "88925c9f-a86a-4fd7-aec8-fcb8dfc9ad45"
      },
      "outputs": [
        {
          "data": {
            "text/plain": [
              "id\n",
              "1    100\n",
              "2    200\n",
              "3    300\n",
              "Name: value, dtype: int64"
            ]
          },
          "execution_count": 79,
          "metadata": {},
          "output_type": "execute_result"
        }
      ],
      "source": [
        "series.head(3)"
      ]
    },
    {
      "cell_type": "code",
      "execution_count": 80,
      "metadata": {
        "colab": {
          "base_uri": "https://localhost:8080/"
        },
        "id": "S5St_OwODto7",
        "outputId": "1748a142-3854-4f8f-c7ec-54c0268859e8"
      },
      "outputs": [
        {
          "data": {
            "text/plain": [
              "id\n",
              "1    100\n",
              "2    200\n",
              "3    300\n",
              "4    400\n",
              "5    500\n",
              "Name: value, dtype: int64"
            ]
          },
          "execution_count": 80,
          "metadata": {},
          "output_type": "execute_result"
        }
      ],
      "source": [
        "series.tail(10)"
      ]
    },
    {
      "cell_type": "code",
      "execution_count": 84,
      "metadata": {
        "colab": {
          "base_uri": "https://localhost:8080/"
        },
        "id": "COKh4XYBLqT3",
        "outputId": "7294bf7c-0f1d-46c6-885a-7b993f2a9551"
      },
      "outputs": [
        {
          "data": {
            "text/plain": [
              "id\n",
              "3    300\n",
              "5    500\n",
              "Name: value, dtype: int64"
            ]
          },
          "execution_count": 84,
          "metadata": {},
          "output_type": "execute_result"
        }
      ],
      "source": [
        "# sample\n",
        "series.sample(2)"
      ]
    },
    {
      "cell_type": "code",
      "execution_count": 85,
      "metadata": {
        "colab": {
          "base_uri": "https://localhost:8080/"
        },
        "id": "t3m4wTw6N-v0",
        "outputId": "cdae4a99-143d-487d-836c-948ffd6dd67a"
      },
      "outputs": [
        {
          "data": {
            "text/plain": [
              "value\n",
              "100    1\n",
              "200    1\n",
              "300    1\n",
              "400    1\n",
              "500    1\n",
              "Name: count, dtype: int64"
            ]
          },
          "execution_count": 85,
          "metadata": {},
          "output_type": "execute_result"
        }
      ],
      "source": [
        "# value_counts -> series\n",
        "series.value_counts()"
      ]
    },
    {
      "cell_type": "code",
      "execution_count": 98,
      "metadata": {},
      "outputs": [
        {
          "data": {
            "text/plain": [
              "value\n",
              "300    1\n",
              "200    1\n",
              "100    1\n",
              "Name: count, dtype: int64"
            ]
          },
          "execution_count": 98,
          "metadata": {},
          "output_type": "execute_result"
        }
      ],
      "source": [
        "# sort index\n",
        "series.sort_index( ascending= False).tail(3).value_counts()"
      ]
    },
    {
      "cell_type": "code",
      "execution_count": 93,
      "metadata": {},
      "outputs": [
        {
          "data": {
            "text/plain": [
              "id\n",
              "5    500\n",
              "4    400\n",
              "3    300\n",
              "2    200\n",
              "1    100\n",
              "Name: value, dtype: int64"
            ]
          },
          "execution_count": 93,
          "metadata": {},
          "output_type": "execute_result"
        }
      ],
      "source": [
        "# sort values\n",
        "series.sort_values(ascending=False)"
      ]
    },
    {
      "cell_type": "code",
      "execution_count": 86,
      "metadata": {
        "colab": {
          "base_uri": "https://localhost:8080/"
        },
        "id": "vzMt0ZOPMgpO",
        "outputId": "17bd1ba3-ad6b-46cb-b6f8-1fac73474e74"
      },
      "outputs": [
        {
          "data": {
            "text/plain": [
              "500"
            ]
          },
          "execution_count": 86,
          "metadata": {},
          "output_type": "execute_result"
        }
      ],
      "source": [
        "# sort_values -> inplace\n",
        "series.sort_values(ascending=False).head(1).values[0]"
      ]
    },
    {
      "cell_type": "code",
      "execution_count": 100,
      "metadata": {
        "colab": {
          "base_uri": "https://localhost:8080/"
        },
        "id": "5Psr0lEwGE2i",
        "outputId": "537ab14a-c922-4eeb-a8c7-ee7c057e1e11"
      },
      "outputs": [
        {
          "data": {
            "text/plain": [
              "array([200, 100], dtype=int64)"
            ]
          },
          "execution_count": 100,
          "metadata": {},
          "output_type": "execute_result"
        }
      ],
      "source": [
        "series.sort_values(ascending=False).tail(2).values"
      ]
    },
    {
      "cell_type": "code",
      "execution_count": 105,
      "metadata": {
        "id": "Z0t20LmCNZVi"
      },
      "outputs": [],
      "source": [
        "# sort_index -> inplace -> movies\n",
        "v = series.copy()\n",
        "v.sort_index(inplace=True)"
      ]
    },
    {
      "cell_type": "code",
      "execution_count": 106,
      "metadata": {},
      "outputs": [
        {
          "data": {
            "text/plain": [
              "id\n",
              "1    100\n",
              "2    200\n",
              "3    300\n",
              "4    400\n",
              "5    500\n",
              "Name: value, dtype: int64"
            ]
          },
          "execution_count": 106,
          "metadata": {},
          "output_type": "execute_result"
        }
      ],
      "source": [
        "v"
      ]
    },
    {
      "cell_type": "code",
      "execution_count": 109,
      "metadata": {
        "id": "XwHA77x2GJtb"
      },
      "outputs": [],
      "source": [
        "v.sort_values(ascending=False,inplace=True)"
      ]
    },
    {
      "cell_type": "code",
      "execution_count": 110,
      "metadata": {
        "colab": {
          "base_uri": "https://localhost:8080/"
        },
        "id": "44qVilrDGWCK",
        "outputId": "98dc5995-4849-4450-c089-06558ac4f48d"
      },
      "outputs": [
        {
          "data": {
            "text/plain": [
              "id\n",
              "5    500\n",
              "4    400\n",
              "3    300\n",
              "2    200\n",
              "1    100\n",
              "Name: value, dtype: int64"
            ]
          },
          "execution_count": 110,
          "metadata": {},
          "output_type": "execute_result"
        }
      ],
      "source": [
        "v"
      ]
    },
    {
      "cell_type": "markdown",
      "metadata": {
        "id": "58RZWU44Tj_U"
      },
      "source": [
        "### Series Maths Methods"
      ]
    },
    {
      "cell_type": "code",
      "execution_count": 112,
      "metadata": {},
      "outputs": [],
      "source": [
        "data = pd.read_csv('kohli_ipl.csv',index_col='match_no')\n",
        "\n",
        "vk = data['runs']"
      ]
    },
    {
      "cell_type": "code",
      "execution_count": 113,
      "metadata": {},
      "outputs": [
        {
          "data": {
            "text/plain": [
              "match_no\n",
              "1       1\n",
              "2      23\n",
              "3      13\n",
              "4      12\n",
              "5       1\n",
              "       ..\n",
              "211     0\n",
              "212    20\n",
              "213    73\n",
              "214    25\n",
              "215     7\n",
              "Name: runs, Length: 215, dtype: int64"
            ]
          },
          "execution_count": 113,
          "metadata": {},
          "output_type": "execute_result"
        }
      ],
      "source": [
        "vk"
      ]
    },
    {
      "cell_type": "code",
      "execution_count": 114,
      "metadata": {
        "colab": {
          "base_uri": "https://localhost:8080/"
        },
        "id": "6GzHd8BPToFa",
        "outputId": "c2aa9e18-2ec0-49c5-ab62-61928d1068e3"
      },
      "outputs": [
        {
          "data": {
            "text/plain": [
              "215"
            ]
          },
          "execution_count": 114,
          "metadata": {},
          "output_type": "execute_result"
        }
      ],
      "source": [
        "# count\n",
        "vk.count()"
      ]
    },
    {
      "cell_type": "code",
      "execution_count": 120,
      "metadata": {},
      "outputs": [
        {
          "data": {
            "text/plain": [
              "0       48\n",
              "1       57\n",
              "2       40\n",
              "3       43\n",
              "4       44\n",
              "      ... \n",
              "360    231\n",
              "361    226\n",
              "362    155\n",
              "363    144\n",
              "364    172\n",
              "Name: Subscribers gained, Length: 365, dtype: int64"
            ]
          },
          "execution_count": 120,
          "metadata": {},
          "output_type": "execute_result"
        }
      ],
      "source": [
        "data = pd.read_csv('subs.csv')\n",
        "\n",
        "subs = data['Subscribers gained']\n",
        "subs"
      ]
    },
    {
      "cell_type": "code",
      "execution_count": 119,
      "metadata": {},
      "outputs": [
        {
          "data": {
            "text/plain": [
              "pandas.core.series.Series"
            ]
          },
          "execution_count": 119,
          "metadata": {},
          "output_type": "execute_result"
        }
      ],
      "source": [
        "type(subs)"
      ]
    },
    {
      "cell_type": "code",
      "execution_count": 130,
      "metadata": {},
      "outputs": [
        {
          "data": {
            "text/plain": [
              "movie\n",
              "Uri: The Surgical Strike                   Vicky Kaushal\n",
              "Battalion 609                                Vicky Ahuja\n",
              "The Accidental Prime Minister (film)         Anupam Kher\n",
              "Why Cheat India                            Emraan Hashmi\n",
              "Evening Shadows                         Mona Ambegaonkar\n",
              "                                              ...       \n",
              "Hum Tumhare Hain Sanam                    Shah Rukh Khan\n",
              "Aankhen (2002 film)                     Amitabh Bachchan\n",
              "Saathiya (film)                             Vivek Oberoi\n",
              "Company (film)                                Ajay Devgn\n",
              "Awara Paagal Deewana                        Akshay Kumar\n",
              "Name: lead, Length: 1500, dtype: object"
            ]
          },
          "execution_count": 130,
          "metadata": {},
          "output_type": "execute_result"
        }
      ],
      "source": [
        "data = pd.read_csv('bollywood.csv',index_col=\"movie\")\n",
        "\n",
        "movie = data['lead']\n",
        "movie"
      ]
    },
    {
      "cell_type": "code",
      "execution_count": 121,
      "metadata": {
        "colab": {
          "base_uri": "https://localhost:8080/"
        },
        "id": "QAUr7vxtTrAU",
        "outputId": "b63afaa2-bf2f-409b-bd54-db2865c9d4fa"
      },
      "outputs": [
        {
          "data": {
            "text/plain": [
              "49510"
            ]
          },
          "execution_count": 121,
          "metadata": {},
          "output_type": "execute_result"
        }
      ],
      "source": [
        "# sum -> product\n",
        "subs.sum()"
      ]
    },
    {
      "cell_type": "code",
      "execution_count": 123,
      "metadata": {},
      "outputs": [
        {
          "data": {
            "text/plain": [
              "0"
            ]
          },
          "execution_count": 123,
          "metadata": {},
          "output_type": "execute_result"
        }
      ],
      "source": [
        "subs.prod()"
      ]
    },
    {
      "cell_type": "code",
      "execution_count": 133,
      "metadata": {
        "colab": {
          "base_uri": "https://localhost:8080/"
        },
        "id": "q1pRRhmdTrM0",
        "outputId": "7b4c758a-12b6-452a-bc22-d2c1a9a8ce46"
      },
      "outputs": [
        {
          "name": "stdout",
          "output_type": "stream",
          "text": [
            "135.64383561643837\n",
            "24.0\n",
            "0    Akshay Kumar\n",
            "Name: lead, dtype: object\n",
            "62.6750230372527\n",
            "688.0024777222343\n"
          ]
        }
      ],
      "source": [
        "# mean -> median -> mode -> std -> var\n",
        "print(subs.mean())\n",
        "print(vk.median())\n",
        "print(movie.mode())\n",
        "print(subs.std())\n",
        "print(vk.var())\n"
      ]
    },
    {
      "cell_type": "code",
      "execution_count": 135,
      "metadata": {},
      "outputs": [
        {
          "data": {
            "text/plain": [
              "33"
            ]
          },
          "execution_count": 135,
          "metadata": {},
          "output_type": "execute_result"
        }
      ],
      "source": [
        "subs.min()"
      ]
    },
    {
      "cell_type": "code",
      "execution_count": 134,
      "metadata": {
        "colab": {
          "base_uri": "https://localhost:8080/"
        },
        "id": "L64dQIXJTrXF",
        "outputId": "54e6f3fa-e75f-4382-8c02-d9ba8466285a"
      },
      "outputs": [
        {
          "data": {
            "text/plain": [
              "396"
            ]
          },
          "execution_count": 134,
          "metadata": {},
          "output_type": "execute_result"
        }
      ],
      "source": [
        "# min/max\n",
        "subs.max()"
      ]
    },
    {
      "cell_type": "code",
      "execution_count": 137,
      "metadata": {
        "colab": {
          "base_uri": "https://localhost:8080/"
        },
        "id": "SAvniKCuUB_J",
        "outputId": "c7f46902-52e5-4c1e-d0ac-bbe31850d37e"
      },
      "outputs": [
        {
          "data": {
            "text/plain": [
              "count    215.000000\n",
              "mean      30.855814\n",
              "std       26.229801\n",
              "min        0.000000\n",
              "25%        9.000000\n",
              "50%       24.000000\n",
              "75%       48.000000\n",
              "max      113.000000\n",
              "Name: runs, dtype: float64"
            ]
          },
          "execution_count": 137,
          "metadata": {},
          "output_type": "execute_result"
        }
      ],
      "source": [
        "# describe\n",
        "vk.describe()"
      ]
    },
    {
      "cell_type": "markdown",
      "metadata": {
        "id": "Cz12N8YKP-h8"
      },
      "source": [
        "### Series Indexing"
      ]
    },
    {
      "cell_type": "code",
      "execution_count": 138,
      "metadata": {
        "colab": {
          "base_uri": "https://localhost:8080/"
        },
        "id": "VXMiwNgAQA4V",
        "outputId": "2dc567ed-8548-4a68-df9e-91a0842bced4"
      },
      "outputs": [
        {
          "data": {
            "text/plain": [
              "0    12\n",
              "1    13\n",
              "2    14\n",
              "3    35\n",
              "4    46\n",
              "5    57\n",
              "6    58\n",
              "7    79\n",
              "8     9\n",
              "dtype: int64"
            ]
          },
          "execution_count": 138,
          "metadata": {},
          "output_type": "execute_result"
        }
      ],
      "source": [
        "# integer indexing\n",
        "x = pd.Series([12,13,14,35,46,57,58,79,9])\n",
        "x"
      ]
    },
    {
      "cell_type": "code",
      "execution_count": null,
      "metadata": {},
      "outputs": [],
      "source": [
        "# negative indexing\n",
        "x[-1]\n",
        "# it will throw an error"
      ]
    },
    {
      "cell_type": "code",
      "execution_count": 143,
      "metadata": {
        "colab": {
          "base_uri": "https://localhost:8080/"
        },
        "id": "9BKWa4-fKugd",
        "outputId": "3d9fbab1-9295-4307-be08-e9574d3d267d"
      },
      "outputs": [
        {
          "data": {
            "text/plain": [
              "movie\n",
              "Uri: The Surgical Strike                   Vicky Kaushal\n",
              "Battalion 609                                Vicky Ahuja\n",
              "The Accidental Prime Minister (film)         Anupam Kher\n",
              "Why Cheat India                            Emraan Hashmi\n",
              "Evening Shadows                         Mona Ambegaonkar\n",
              "                                              ...       \n",
              "Hum Tumhare Hain Sanam                    Shah Rukh Khan\n",
              "Aankhen (2002 film)                     Amitabh Bachchan\n",
              "Saathiya (film)                             Vivek Oberoi\n",
              "Company (film)                                Ajay Devgn\n",
              "Awara Paagal Deewana                        Akshay Kumar\n",
              "Name: lead, Length: 1500, dtype: object"
            ]
          },
          "execution_count": 143,
          "metadata": {},
          "output_type": "execute_result"
        }
      ],
      "source": [
        "movie\n"
      ]
    },
    {
      "cell_type": "code",
      "execution_count": 150,
      "metadata": {},
      "outputs": [],
      "source": [
        "movies = movie.copy()\n",
        "movies.sort_values(ascending=True,inplace=True)"
      ]
    },
    {
      "cell_type": "code",
      "execution_count": 151,
      "metadata": {},
      "outputs": [
        {
          "name": "stderr",
          "output_type": "stream",
          "text": [
            "C:\\Users\\nikit\\AppData\\Local\\Temp\\ipykernel_20304\\3901301928.py:1: FutureWarning: Series.__getitem__ treating keys as positions is deprecated. In a future version, integer keys will always be treated as labels (consistent with DataFrame behavior). To access a value by position, use `ser.iloc[pos]`\n",
            "  movies[0]\n"
          ]
        },
        {
          "data": {
            "text/plain": [
              "'Aadar Jain'"
            ]
          },
          "execution_count": 151,
          "metadata": {},
          "output_type": "execute_result"
        }
      ],
      "source": [
        "movies[0]"
      ]
    },
    {
      "cell_type": "code",
      "execution_count": 154,
      "metadata": {
        "colab": {
          "base_uri": "https://localhost:8080/",
          "height": 515
        },
        "id": "UdfXS16jLVIo",
        "outputId": "7adcf453-a4a2-4984-a2a3-de2090e035f4"
      },
      "outputs": [
        {
          "name": "stderr",
          "output_type": "stream",
          "text": [
            "C:\\Users\\nikit\\AppData\\Local\\Temp\\ipykernel_20304\\988795955.py:1: FutureWarning: Series.__getitem__ treating keys as positions is deprecated. In a future version, integer keys will always be treated as labels (consistent with DataFrame behavior). To access a value by position, use `ser.iloc[pos]`\n",
            "  movie[-1]\n"
          ]
        },
        {
          "data": {
            "text/plain": [
              "'Meghan Jadhav'"
            ]
          },
          "execution_count": 154,
          "metadata": {},
          "output_type": "execute_result"
        }
      ],
      "source": [
        "movie[-1]"
      ]
    },
    {
      "cell_type": "code",
      "execution_count": 156,
      "metadata": {
        "colab": {
          "base_uri": "https://localhost:8080/"
        },
        "id": "-7Gr3pwlLgx8",
        "outputId": "c1cf02c2-9857-49f5-f49e-8019789fff6c"
      },
      "outputs": [
        {
          "name": "stderr",
          "output_type": "stream",
          "text": [
            "C:\\Users\\nikit\\AppData\\Local\\Temp\\ipykernel_20304\\1935637047.py:1: FutureWarning: Series.__getitem__ treating keys as positions is deprecated. In a future version, integer keys will always be treated as labels (consistent with DataFrame behavior). To access a value by position, use `ser.iloc[pos]`\n",
            "  marks_series[-1]\n"
          ]
        },
        {
          "data": {
            "text/plain": [
              "100"
            ]
          },
          "execution_count": 156,
          "metadata": {},
          "output_type": "execute_result"
        }
      ],
      "source": [
        "marks_series[-1]\n",
        "# negative index works only on string index"
      ]
    },
    {
      "cell_type": "code",
      "execution_count": 157,
      "metadata": {
        "colab": {
          "base_uri": "https://localhost:8080/"
        },
        "id": "0Aok361MQA8J",
        "outputId": "a31e2b7e-53a5-499f-ccb2-f9276a0b3139"
      },
      "outputs": [
        {
          "data": {
            "text/plain": [
              "match_no\n",
              "6      9\n",
              "7     34\n",
              "8      0\n",
              "9     21\n",
              "10     3\n",
              "11    10\n",
              "12    38\n",
              "13     3\n",
              "14    11\n",
              "15    50\n",
              "16     2\n",
              "Name: runs, dtype: int64"
            ]
          },
          "execution_count": 157,
          "metadata": {},
          "output_type": "execute_result"
        }
      ],
      "source": [
        "# slicing\n",
        "vk[5:16]"
      ]
    },
    {
      "cell_type": "code",
      "execution_count": 160,
      "metadata": {},
      "outputs": [
        {
          "data": {
            "text/plain": [
              "match_no\n",
              "215    7\n",
              "Name: runs, dtype: int64"
            ]
          },
          "execution_count": 160,
          "metadata": {},
          "output_type": "execute_result"
        }
      ],
      "source": [
        "vk.tail(1)"
      ]
    },
    {
      "cell_type": "code",
      "execution_count": 163,
      "metadata": {},
      "outputs": [
        {
          "data": {
            "text/plain": [
              "match_no\n",
              "215    7\n",
              "Name: runs, dtype: int64"
            ]
          },
          "execution_count": 163,
          "metadata": {},
          "output_type": "execute_result"
        }
      ],
      "source": [
        "vk[-1:]"
      ]
    },
    {
      "cell_type": "code",
      "execution_count": 158,
      "metadata": {
        "colab": {
          "base_uri": "https://localhost:8080/"
        },
        "id": "Liu7rQJbQ9GW",
        "outputId": "c205b3f2-e431-4e2c-8a52-57b701b806e7"
      },
      "outputs": [
        {
          "data": {
            "text/plain": [
              "match_no\n",
              "211     0\n",
              "212    20\n",
              "213    73\n",
              "214    25\n",
              "215     7\n",
              "Name: runs, dtype: int64"
            ]
          },
          "execution_count": 158,
          "metadata": {},
          "output_type": "execute_result"
        }
      ],
      "source": [
        "# negative slicing\n",
        "vk[-5:]"
      ]
    },
    {
      "cell_type": "code",
      "execution_count": 164,
      "metadata": {},
      "outputs": [
        {
          "data": {
            "text/plain": [
              "match_no\n",
              "1     1\n",
              "3    13\n",
              "5     1\n",
              "6     9\n",
              "Name: runs, dtype: int64"
            ]
          },
          "execution_count": 164,
          "metadata": {},
          "output_type": "execute_result"
        }
      ],
      "source": [
        "vk[[1,3,5,6]]"
      ]
    },
    {
      "cell_type": "code",
      "execution_count": null,
      "metadata": {
        "colab": {
          "base_uri": "https://localhost:8080/"
        },
        "id": "BE4kLq1vMSes",
        "outputId": "ff5de4e4-5b80-484c-9241-72de04792aa8"
      },
      "outputs": [],
      "source": [
        "movies[::2]"
      ]
    },
    {
      "cell_type": "code",
      "execution_count": 165,
      "metadata": {
        "colab": {
          "base_uri": "https://localhost:8080/"
        },
        "id": "QjB-8CydQA_W",
        "outputId": "9bcace4d-f461-4a12-83f4-ebc6d620d943"
      },
      "outputs": [
        {
          "data": {
            "text/plain": [
              "'Emraan Hashmi'"
            ]
          },
          "execution_count": 165,
          "metadata": {},
          "output_type": "execute_result"
        }
      ],
      "source": [
        "movie['Why Cheat India']"
      ]
    },
    {
      "cell_type": "code",
      "execution_count": null,
      "metadata": {
        "colab": {
          "base_uri": "https://localhost:8080/",
          "height": 36
        },
        "id": "m4y-6vjTQBCP",
        "outputId": "0da130b4-7e28-457e-884c-9be1ca736d26"
      },
      "outputs": [],
      "source": [
        "# indexing with labels -> fancy indexing\n",
        "movies['2 States (2014 film)']"
      ]
    },
    {
      "cell_type": "markdown",
      "metadata": {
        "id": "NFElpr-tR5en"
      },
      "source": [
        "### Editing Series"
      ]
    },
    {
      "cell_type": "code",
      "execution_count": 166,
      "metadata": {},
      "outputs": [
        {
          "data": {
            "text/plain": [
              "maths       67\n",
              "english     57\n",
              "science     89\n",
              "hindi      100\n",
              "Name: fake report, dtype: int64"
            ]
          },
          "execution_count": 166,
          "metadata": {},
          "output_type": "execute_result"
        }
      ],
      "source": [
        "marks_series"
      ]
    },
    {
      "cell_type": "code",
      "execution_count": 169,
      "metadata": {
        "colab": {
          "base_uri": "https://localhost:8080/"
        },
        "id": "bMaxSAmfR8JQ",
        "outputId": "15df7b1b-d1f4-42dd-c6ac-d155afd18b0e"
      },
      "outputs": [
        {
          "name": "stderr",
          "output_type": "stream",
          "text": [
            "C:\\Users\\nikit\\AppData\\Local\\Temp\\ipykernel_20304\\1201433309.py:2: FutureWarning: Series.__setitem__ treating keys as positions is deprecated. In a future version, integer keys will always be treated as labels (consistent with DataFrame behavior). To set a value by position, use `ser.iloc[pos] = value`\n",
            "  marks_series[0] = 99\n",
            "C:\\Users\\nikit\\AppData\\Local\\Temp\\ipykernel_20304\\1201433309.py:3: FutureWarning: Series.__setitem__ treating keys as positions is deprecated. In a future version, integer keys will always be treated as labels (consistent with DataFrame behavior). To set a value by position, use `ser.iloc[pos] = value`\n",
            "  marks_series[2] = 99\n"
          ]
        }
      ],
      "source": [
        "# using indexing\n",
        "marks_series[0] = 99\n",
        "marks_series[2] = 99"
      ]
    },
    {
      "cell_type": "code",
      "execution_count": 170,
      "metadata": {},
      "outputs": [
        {
          "data": {
            "text/plain": [
              "maths       99\n",
              "english     57\n",
              "science     99\n",
              "hindi      100\n",
              "Name: fake report, dtype: int64"
            ]
          },
          "execution_count": 170,
          "metadata": {},
          "output_type": "execute_result"
        }
      ],
      "source": [
        "marks_series"
      ]
    },
    {
      "cell_type": "code",
      "execution_count": 171,
      "metadata": {},
      "outputs": [],
      "source": [
        "marks_series['marathi'] = 75"
      ]
    },
    {
      "cell_type": "code",
      "execution_count": 172,
      "metadata": {},
      "outputs": [
        {
          "data": {
            "text/plain": [
              "maths       99\n",
              "english     57\n",
              "science     99\n",
              "hindi      100\n",
              "marathi     75\n",
              "Name: fake report, dtype: int64"
            ]
          },
          "execution_count": 172,
          "metadata": {},
          "output_type": "execute_result"
        }
      ],
      "source": [
        "# what if an index does not exist\n",
        "marks_series"
      ]
    },
    {
      "cell_type": "code",
      "execution_count": 173,
      "metadata": {
        "id": "p2sikMnPR8MU"
      },
      "outputs": [],
      "source": [
        "# what if an index does not exist\n",
        "marks_series['evs'] = 100"
      ]
    },
    {
      "cell_type": "code",
      "execution_count": 174,
      "metadata": {
        "colab": {
          "base_uri": "https://localhost:8080/"
        },
        "id": "rmwOXl0yNjA6",
        "outputId": "66228db5-7b15-46b0-e5d8-8fc97ecee7dd"
      },
      "outputs": [
        {
          "data": {
            "text/plain": [
              "maths       99\n",
              "english     57\n",
              "science     99\n",
              "hindi      100\n",
              "marathi     75\n",
              "evs        100\n",
              "Name: fake report, dtype: int64"
            ]
          },
          "execution_count": 174,
          "metadata": {},
          "output_type": "execute_result"
        }
      ],
      "source": [
        "marks_series"
      ]
    },
    {
      "cell_type": "code",
      "execution_count": 175,
      "metadata": {},
      "outputs": [
        {
          "data": {
            "text/plain": [
              "0     13\n",
              "1     24\n",
              "2     56\n",
              "3     78\n",
              "4    100\n",
              "dtype: int64"
            ]
          },
          "execution_count": 175,
          "metadata": {},
          "output_type": "execute_result"
        }
      ],
      "source": [
        "runs"
      ]
    },
    {
      "cell_type": "code",
      "execution_count": 179,
      "metadata": {},
      "outputs": [],
      "source": [
        "runs[0:2] = [100,100]"
      ]
    },
    {
      "cell_type": "code",
      "execution_count": 178,
      "metadata": {
        "colab": {
          "base_uri": "https://localhost:8080/"
        },
        "id": "bsvV3kz0R8Ps",
        "outputId": "2b6e97f9-2374-4f6e-f832-146eb3339f99"
      },
      "outputs": [],
      "source": [
        "# slicing\n",
        "runs[2:4] = [88,67]"
      ]
    },
    {
      "cell_type": "code",
      "execution_count": 181,
      "metadata": {},
      "outputs": [
        {
          "data": {
            "text/plain": [
              "0    100\n",
              "1    100\n",
              "2     88\n",
              "3     67\n",
              "4    100\n",
              "dtype: int64"
            ]
          },
          "execution_count": 181,
          "metadata": {},
          "output_type": "execute_result"
        }
      ],
      "source": [
        "runs"
      ]
    },
    {
      "cell_type": "code",
      "execution_count": 182,
      "metadata": {
        "colab": {
          "base_uri": "https://localhost:8080/"
        },
        "id": "UbXMK59FSJp7",
        "outputId": "75f69728-d376-468f-8843-604f4454ea6c"
      },
      "outputs": [],
      "source": [
        "# fancy indexing\n",
        "runs[[0,1,2]] = [98,110,112]"
      ]
    },
    {
      "cell_type": "code",
      "execution_count": 183,
      "metadata": {},
      "outputs": [
        {
          "data": {
            "text/plain": [
              "0     98\n",
              "1    110\n",
              "2    112\n",
              "3     67\n",
              "4    100\n",
              "dtype: int64"
            ]
          },
          "execution_count": 183,
          "metadata": {},
          "output_type": "execute_result"
        }
      ],
      "source": [
        "runs"
      ]
    },
    {
      "cell_type": "code",
      "execution_count": 184,
      "metadata": {
        "colab": {
          "base_uri": "https://localhost:8080/"
        },
        "id": "D1gyqD5bSa_1",
        "outputId": "56b096fb-686b-4240-8b0f-c07de0e34e53"
      },
      "outputs": [
        {
          "data": {
            "text/plain": [
              "movie\n",
              "1920 (film)                   Rajniesh Duggall\n",
              "1920: London                     Sharman Joshi\n",
              "1920: The Evil Returns             Vicky Ahuja\n",
              "1971 (2007 film)                Manoj Bajpayee\n",
              "2 States (2014 film)                Alia Bhatt\n",
              "                                   ...        \n",
              "Zindagi 50-50                      Veena Malik\n",
              "Zindagi Na Milegi Dobara        Hrithik Roshan\n",
              "Zindagi Tere Naam           Mithun Chakraborty\n",
              "Zokkomon                       Darsheel Safary\n",
              "Zor Lagaa Ke...Haiya!            Meghan Jadhav\n",
              "Name: lead, Length: 1500, dtype: object"
            ]
          },
          "execution_count": 184,
          "metadata": {},
          "output_type": "execute_result"
        }
      ],
      "source": [
        "# using index label\n",
        "movie['2 States (2014 film)'] = 'Alia Bhatt'\n",
        "movie"
      ]
    },
    {
      "cell_type": "markdown",
      "metadata": {
        "id": "DR5SayWPSv1D"
      },
      "source": [
        "### Copy and Views"
      ]
    },
    {
      "cell_type": "code",
      "execution_count": null,
      "metadata": {
        "id": "pVND-BTBgVlN"
      },
      "outputs": [],
      "source": []
    },
    {
      "cell_type": "markdown",
      "metadata": {
        "id": "6OVEN5eFUWA-"
      },
      "source": [
        "### Series with Python Functionalities"
      ]
    },
    {
      "cell_type": "code",
      "execution_count": 190,
      "metadata": {
        "colab": {
          "base_uri": "https://localhost:8080/"
        },
        "id": "zebKLTsNt12p",
        "outputId": "1fc18462-7d27-4029-fe3d-cea42f00013d"
      },
      "outputs": [
        {
          "data": {
            "text/plain": [
              "396"
            ]
          },
          "execution_count": 190,
          "metadata": {},
          "output_type": "execute_result"
        }
      ],
      "source": [
        "# len/type/dir/sorted/max/min\n",
        "print(len(subs))\n",
        "print(type(subs))\n",
        "print(dir(subs))\n",
        "print(sorted(subs))\n",
        "print(min(subs))\n",
        "print(max(subs))"
      ]
    },
    {
      "cell_type": "code",
      "execution_count": 191,
      "metadata": {
        "colab": {
          "base_uri": "https://localhost:8080/"
        },
        "id": "ZJmwrkkgt2x4",
        "outputId": "f0f07972-6f03-4a1f-fe81-311a4ca84926"
      },
      "outputs": [
        {
          "data": {
            "text/plain": [
              "[99, 57, 99, 100, 75, 100]"
            ]
          },
          "execution_count": 191,
          "metadata": {},
          "output_type": "execute_result"
        }
      ],
      "source": [
        "# type conversion\n",
        "list(marks_series)"
      ]
    },
    {
      "cell_type": "code",
      "execution_count": 192,
      "metadata": {
        "colab": {
          "base_uri": "https://localhost:8080/"
        },
        "id": "VPV0VndRP56t",
        "outputId": "eb5c5533-2589-49c2-f6f5-970f2818d10e"
      },
      "outputs": [
        {
          "data": {
            "text/plain": [
              "{'maths': 99,\n",
              " 'english': 57,\n",
              " 'science': 99,\n",
              " 'hindi': 100,\n",
              " 'marathi': 75,\n",
              " 'evs': 100}"
            ]
          },
          "execution_count": 192,
          "metadata": {},
          "output_type": "execute_result"
        }
      ],
      "source": [
        "dict(marks_series)"
      ]
    },
    {
      "cell_type": "code",
      "execution_count": 194,
      "metadata": {},
      "outputs": [
        {
          "data": {
            "text/plain": [
              "{57, 75, 99, 100}"
            ]
          },
          "execution_count": 194,
          "metadata": {},
          "output_type": "execute_result"
        }
      ],
      "source": [
        "set(marks_series)"
      ]
    },
    {
      "cell_type": "code",
      "execution_count": 195,
      "metadata": {},
      "outputs": [
        {
          "data": {
            "text/plain": [
              "(99, 57, 99, 100, 75, 100)"
            ]
          },
          "execution_count": 195,
          "metadata": {},
          "output_type": "execute_result"
        }
      ],
      "source": [
        "tuple(marks_series)"
      ]
    },
    {
      "cell_type": "code",
      "execution_count": null,
      "metadata": {},
      "outputs": [],
      "source": []
    },
    {
      "cell_type": "code",
      "execution_count": null,
      "metadata": {},
      "outputs": [],
      "source": []
    },
    {
      "cell_type": "code",
      "execution_count": null,
      "metadata": {
        "colab": {
          "base_uri": "https://localhost:8080/"
        },
        "id": "ScG8OTsIt3yS",
        "outputId": "8f002760-75d0-44be-d43f-a21b3b5ee84f"
      },
      "outputs": [],
      "source": [
        "# membership operator\n",
        "\n",
        "'2 States (2014 film)' in movies"
      ]
    },
    {
      "cell_type": "code",
      "execution_count": null,
      "metadata": {
        "colab": {
          "base_uri": "https://localhost:8080/"
        },
        "id": "R8woF_08QP7D",
        "outputId": "550f3d87-af4a-49c1-a321-359c88877695"
      },
      "outputs": [],
      "source": [
        "'Alia Bhatt' in movies.values"
      ]
    },
    {
      "cell_type": "code",
      "execution_count": null,
      "metadata": {
        "colab": {
          "base_uri": "https://localhost:8080/"
        },
        "id": "IGjHY4OAQLCC",
        "outputId": "a1394b4a-a632-48a5-c73c-633a20956da3"
      },
      "outputs": [],
      "source": [
        "movies"
      ]
    },
    {
      "cell_type": "code",
      "execution_count": 196,
      "metadata": {},
      "outputs": [
        {
          "name": "stdout",
          "output_type": "stream",
          "text": [
            "Aadar Jain\n",
            "Aadil Chahal\n",
            "Aahana Kumra\n",
            "Aamir Bashir\n",
            "Aamir Khan\n",
            "Aamir Khan\n",
            "Aamir Khan\n",
            "Aamir Khan\n",
            "Aamir Khan\n",
            "Aamir Khan\n",
            "Aamir Khan\n",
            "Aamir Khan\n",
            "Aamir Khan\n",
            "Aamir Khan\n",
            "Aanchal Dwivedi\n",
            "Aarav Khanna\n",
            "Aarti Chhabria\n",
            "Aashish Bhatt\n",
            "Abhay Deol\n",
            "Abhay Deol\n",
            "Abhay Deol\n",
            "Abhay Deol\n",
            "Abhay Deol\n",
            "Abhay Deol\n",
            "Abhay Deol\n",
            "Abhimanyu Dasani\n",
            "Abhishek Bachchan\n",
            "Abhishek Bachchan\n",
            "Abhishek Bachchan\n",
            "Abhishek Bachchan\n",
            "Abhishek Bachchan\n",
            "Abhishek Bachchan\n",
            "Abhishek Bachchan\n",
            "Abhishek Bachchan\n",
            "Abhishek Bachchan\n",
            "Abhishek Bachchan\n",
            "Abhishek Bharate\n",
            "Adhvik Mahajan\n",
            "Adhyayan Suman\n",
            "Adhyayan Suman\n",
            "Adhyayan Suman\n",
            "Adil Hussain\n",
            "Adil Hussain\n",
            "Aditya Narayan\n",
            "Aditya Roy Kapoor\n",
            "Aditya Roy Kapoor\n",
            "Aditya Roy Kapoor\n",
            "Aditya Srivastava\n",
            "Aftab Shivdasani\n",
            "Aftab Shivdasani\n",
            "Aftab Shivdasani\n",
            "Aftab Shivdasani\n",
            "Aftab Shivdasani\n",
            "Aftab Shivdasani\n",
            "Aftab Shivdasani\n",
            "Aftab Shivdasani\n",
            "Aftab Shivdasani\n",
            "Aftab Shivdasani\n",
            "Aftab Shivdasani\n",
            "Ahraz Ahmed\n",
            "Aida Elkashef\n",
            "Aisha Ahmed\n",
            "Aishwarya Devan\n",
            "Aishwarya Rai Bachchan\n",
            "Aishwarya Rai Bachchan\n",
            "Aishwarya Rai Bachchan\n",
            "Ajay Devgn\n",
            "Ajay Devgn\n",
            "Ajay Devgn\n",
            "Ajay Devgn\n",
            "Ajay Devgn\n",
            "Ajay Devgn\n",
            "Ajay Devgn\n",
            "Ajay Devgn\n",
            "Ajay Devgn\n",
            "Ajay Devgn\n",
            "Ajay Devgn\n",
            "Ajay Devgn\n",
            "Ajay Devgn\n",
            "Ajay Devgn\n",
            "Ajay Devgn\n",
            "Ajay Devgn\n",
            "Ajay Devgn\n",
            "Ajay Devgn\n",
            "Ajay Devgn\n",
            "Ajay Devgn\n",
            "Ajay Devgn\n",
            "Ajay Devgn\n",
            "Ajay Devgn\n",
            "Ajay Devgn\n",
            "Ajay Devgn\n",
            "Ajay Devgn\n",
            "Ajay Devgn\n",
            "Ajay Devgn\n",
            "Ajay Devgn\n",
            "Ajay Devgn\n",
            "Ajay Devgn\n",
            "Ajay Devgn\n",
            "Ajay Devgn\n",
            "Ajay Devgn\n",
            "Ajay Devgn\n",
            "Ajay Devgn\n",
            "Ajay Devgn\n",
            "Ajay Devgn\n",
            "Akanksha\n",
            "Akanksha Puri\n",
            "Akash\n",
            "Akshay Anand\n",
            "Akshay Kapoor\n",
            "Akshay Kapoor\n",
            "Akshay Kumar\n",
            "Akshay Kumar\n",
            "Akshay Kumar\n",
            "Akshay Kumar\n",
            "Akshay Kumar\n",
            "Akshay Kumar\n",
            "Akshay Kumar\n",
            "Akshay Kumar\n",
            "Akshay Kumar\n",
            "Akshay Kumar\n",
            "Akshay Kumar\n",
            "Akshay Kumar\n",
            "Akshay Kumar\n",
            "Akshay Kumar\n",
            "Akshay Kumar\n",
            "Akshay Kumar\n",
            "Akshay Kumar\n",
            "Akshay Kumar\n",
            "Akshay Kumar\n",
            "Akshay Kumar\n",
            "Akshay Kumar\n",
            "Akshay Kumar\n",
            "Akshay Kumar\n",
            "Akshay Kumar\n",
            "Akshay Kumar\n",
            "Akshay Kumar\n",
            "Akshay Kumar\n",
            "Akshay Kumar\n",
            "Akshay Kumar\n",
            "Akshay Kumar\n",
            "Akshay Kumar\n",
            "Akshay Kumar\n",
            "Akshay Kumar\n",
            "Akshay Kumar\n",
            "Akshay Kumar\n",
            "Akshay Kumar\n",
            "Akshay Kumar\n",
            "Akshay Kumar\n",
            "Akshay Kumar\n",
            "Akshay Kumar\n",
            "Akshay Kumar\n",
            "Akshay Kumar\n",
            "Akshay Kumar\n",
            "Akshay Kumar\n",
            "Akshay Kumar\n",
            "Akshay Kumar\n",
            "Akshay Kumar\n",
            "Akshay Kumar\n",
            "Akshay Oberoi\n",
            "Akshay Oberoi\n",
            "Akshaye Khanna\n",
            "Akshaye Khanna\n",
            "Akshaye Khanna\n",
            "Akshaye Khanna\n",
            "Akshaye Khanna\n",
            "Akshaye Khanna\n",
            "Akshaye Khanna\n",
            "Ali Asgar\n",
            "Ali Asgar\n",
            "Ali Zafar\n",
            "Ali Zafar\n",
            "Ali Zafar\n",
            "Alia Bhatt\n",
            "Alia Bhatt\n",
            "Alia Bhatt\n",
            "Alia Bhatt\n",
            "Alieesa P Badresia\n",
            "Amar Upadhyaya\n",
            "Amardeep Insan\n",
            "Amarjeet\n",
            "Amit Hingorani\n",
            "Amit Sadh\n",
            "Amita Pathak\n",
            "Amitabh Bachchan\n",
            "Amitabh Bachchan\n",
            "Amitabh Bachchan\n",
            "Amitabh Bachchan\n",
            "Amitabh Bachchan\n",
            "Amitabh Bachchan\n",
            "Amitabh Bachchan\n",
            "Amitabh Bachchan\n",
            "Amitabh Bachchan\n",
            "Amitabh Bachchan\n",
            "Amitabh Bachchan\n",
            "Amitabh Bachchan\n",
            "Amitabh Bachchan\n",
            "Amitabh Bachchan\n",
            "Amitabh Bachchan\n",
            "Amitabh Bachchan\n",
            "Amitabh Bachchan\n",
            "Amitabh Bachchan\n",
            "Amitabh Bachchan\n",
            "Amitabh Bachchan\n",
            "Amitabh Bachchan\n",
            "Amitabh Bachchan\n",
            "Amitabh Bachchan\n",
            "Amitabh Bachchan\n",
            "Amitabh Bachchan\n",
            "Amitabh Bachchan\n",
            "Amitabh Bachchan\n",
            "Amitabh Bachchan\n",
            "Amitabh Bachchan\n",
            "Amitabh Bachchan\n",
            "Amitabh Bachchan\n",
            "Amitabh Bachchan\n",
            "Amitabh Bachchan\n",
            "Amitabh Bachchan\n",
            "Amitabh Bachchan\n",
            "Amitabh Bachchan\n",
            "Amitabh Bachchan\n",
            "Amitabh Bachchan\n",
            "Amitabh Bachchan\n",
            "Amitabh Bachchan\n",
            "Amitabh Bachchan\n",
            "Amitabh Bachchan\n",
            "Amitabh Bachchan\n",
            "Amitabh Bachchan\n",
            "Amitabh Bachchan\n",
            "Amyra Dastur\n",
            "Anay\n",
            "Aniket Vishwasrao\n",
            "Anil Kapoor\n",
            "Anil Kapoor\n",
            "Anil Kapoor\n",
            "Anil Kapoor\n",
            "Anil Kapoor\n",
            "Anil Kapoor\n",
            "Anil Kapoor\n",
            "Anil Kapoor\n",
            "Anil Kapoor\n",
            "Anil Kapoor\n",
            "Anil Kapoor\n",
            "Anisa Butt\n",
            "Anita\n",
            "Anjori Alagh\n",
            "Ankit\n",
            "Annu Kapoor\n",
            "Anshuman Jha\n",
            "Antara Mali\n",
            "Antara Mali\n",
            "Anuj Sachdeva\n",
            "Anuj Saxena\n",
            "Anupam Kher\n",
            "Anupam Kher\n",
            "Anupam Kher\n",
            "Anupam Kher\n",
            "Anupam Kher\n",
            "Anupam Kher\n",
            "Anupam Kher\n",
            "Anupam Kher\n",
            "Anupam Kher\n",
            "Anupam Kher\n",
            "Anupam Kher\n",
            "Anupam Kher\n",
            "Anupam Kher\n",
            "Anushka Sharma\n",
            "Anushka Sharma\n",
            "Anushka Sharma\n",
            "Anya Anand\n",
            "Apoorva Arora\n",
            "Arbaaz Khan\n",
            "Arbaaz Khan\n",
            "Arbaaz Khan\n",
            "Archana Joglekar\n",
            "Arjun Kapoor\n",
            "Arjun Kapoor\n",
            "Arjun Kapoor\n",
            "Arjun Kapoor\n",
            "Arjun Kapoor\n",
            "Arjun Kapoor\n",
            "Arjun Mathur\n",
            "Arjun Mathur\n",
            "Arjun Rampal\n",
            "Arjun Rampal\n",
            "Arjun Rampal\n",
            "Arjun Rampal\n",
            "Arjun Rampal\n",
            "Arjun Rampal\n",
            "Arjun Rampal\n",
            "Arjun Rampal\n",
            "Arjun Rampal\n",
            "Arjun Rampal\n",
            "Arjun Rampal\n",
            "Arjun Rampal\n",
            "Arjun Rampal\n",
            "Arjun Rampal\n",
            "Armaan Jain\n",
            "Arsh Bajwa\n",
            "Arshad Warsi\n",
            "Arshad Warsi\n",
            "Arshad Warsi\n",
            "Arshad Warsi\n",
            "Arshad Warsi\n",
            "Arshad Warsi\n",
            "Arshad Warsi\n",
            "Arshad Warsi\n",
            "Arshad Warsi\n",
            "Arshad Warsi\n",
            "Arun Bakshi\n",
            "Arunoday Singh\n",
            "Arvind Swamy\n",
            "Arvinder Bhatti\n",
            "Arya Babbar\n",
            "Aryan Vaid\n",
            "Aseel Adel\n",
            "Asha Bhosle\n",
            "Ashish Bisht\n",
            "Ashmit Patel\n",
            "Ashmit Patel\n",
            "Ashmit Patel\n",
            "Ashok Banthia\n",
            "Ashok Insan\n",
            "Ashutosh Rana\n",
            "Ashutosh Rana\n",
            "Asrani\n",
            "Asrani\n",
            "Asrani\n",
            "Atmaram Bhende\n",
            "Attin Bhalla\n",
            "Atul Kulkarni\n",
            "Atul Kulkarni\n",
            "Auroshika Dey\n",
            "Avinash Dhyani\n",
            "Avinash Tiwary\n",
            "Ayesha Jhulka\n",
            "Ayesha Takia\n",
            "Ayushmann Khurrana\n",
            "Ayushmann Khurrana\n",
            "Ayushmann Khurrana\n",
            "Ayushmann Khurrana\n",
            "Ayushmann Khurrana\n",
            "Ayushmann Khurrana\n",
            "Ayushmann Khurrana\n",
            "Ayushmann Khurrana\n",
            "Ayushmann Khurrana\n",
            "Ayushmann Khurrana\n",
            "Ayushmann Khurrana\n",
            "Ayushmann Khurrana\n",
            "Babbu Mann\n",
            "Barkha Madan\n",
            "Barun Sobti\n",
            "Barun Sobti\n",
            "Bhavesh Kumar\n",
            "Bhavita Anand\n",
            "Bhushan Agarwal\n",
            "Bidita Bag\n",
            "Bipasha Basu\n",
            "Bipasha Basu\n",
            "Bipasha Basu\n",
            "Bipasha Basu\n",
            "Bipasha Basu\n",
            "Bipasha Basu\n",
            "Bipasha Basu\n",
            "Bipasha Basu\n",
            "Bobby Darling\n",
            "Bobby Deol\n",
            "Bobby Deol\n",
            "Bobby Deol\n",
            "Bobby Deol\n",
            "Bobby Deol\n",
            "Bobby Deol\n",
            "Bobby Deol\n",
            "Bobby Deol\n",
            "Bobby Deol\n",
            "Boman Irani\n",
            "Boman Irani\n",
            "Boman Irani\n",
            "Boman Irani\n",
            "Cary Elwes\n",
            "Chandan Roy Sanyal\n",
            "Charanpreet Insan\n",
            "Chirag Paswan\n",
            "Chiranjeevi\n",
            "Danny Denzongpa\n",
            "Darsheel Safary\n",
            "Darsheel Safary\n",
            "Deepak Dobriyal\n",
            "Deepak Dobriyal\n",
            "Deepika Amin\n",
            "Deepika Padukone\n",
            "Deepika Padukone\n",
            "Deepika Padukone\n",
            "Deepika Padukone\n",
            "Deepika Padukone\n",
            "Deepika Padukone\n",
            "Deepshika Nagpal\n",
            "Deepti Naval\n",
            "Dev Anand\n",
            "Dev Anand\n",
            "Dhanush\n",
            "Dharmendra\n",
            "Dharmendra\n",
            "Dharmendra\n",
            "Dharmendra\n",
            "Dharmendra\n",
            "Dharmendra\n",
            "Dharmesh Yelande\n",
            "Dia Mirza\n",
            "Diana Penty\n",
            "Diganth\n",
            "Diljit Dosanjh\n",
            "Dimple Kapadia\n",
            "Dino Morea\n",
            "Dino Morea\n",
            "Dino Morea\n",
            "Dino Morea\n",
            "Dino Morea\n",
            "Dino Morea\n",
            "Diwakar Pathak\n",
            "Dwij Yadav\n",
            "Edwin Fernandes\n",
            "Eesha Agarwal\n",
            "Elisha Kriis\n",
            "Emraan Hashmi\n",
            "Emraan Hashmi\n",
            "Emraan Hashmi\n",
            "Emraan Hashmi\n",
            "Emraan Hashmi\n",
            "Emraan Hashmi\n",
            "Emraan Hashmi\n",
            "Emraan Hashmi\n",
            "Emraan Hashmi\n",
            "Emraan Hashmi\n",
            "Emraan Hashmi\n",
            "Emraan Hashmi\n",
            "Emraan Hashmi\n",
            "Emraan Hashmi\n",
            "Emraan Hashmi\n",
            "Emraan Hashmi\n",
            "Emraan Hashmi\n",
            "Emraan Hashmi\n",
            "Emraan Hashmi\n",
            "Emraan Hashmi\n",
            "Emraan Hashmi\n",
            "Fardeen Khan\n",
            "Fardeen Khan\n",
            "Fardeen Khan\n",
            "Fardeen Khan\n",
            "Fardeen Khan\n",
            "Fardeen Khan\n",
            "Fardeen Khan\n",
            "Fardeen Khan\n",
            "Farhan Akhtar\n",
            "Farhan Akhtar\n",
            "Farhan Akhtar\n",
            "Farhan Akhtar\n",
            "Farhan Akhtar\n",
            "Farooq Shaikh\n",
            "Farooq Shaikh\n",
            "Farooq Shaikh\n",
            "Farooq Shaikh\n",
            "Feroz Khan\n",
            "Freny Bhagat\n",
            "Ganesh Acharya\n",
            "Garima Agarwal\n",
            "Gautam Gupta\n",
            "Gavie Chahal\n",
            "Geetanjali Thapa\n",
            "Geetika Vidya Ohlyan\n",
            "Girish Taurani\n",
            "Gopi Desai\n",
            "Govinda\n",
            "Govinda\n",
            "Govinda\n",
            "Govinda\n",
            "Govinda\n",
            "Govinda\n",
            "Govinda\n",
            "Gul Panag\n",
            "Gul Panag\n",
            "Gul Panag\n",
            "Gulshan Devaiah\n",
            "Gulshan Grover\n",
            "Gurdas Maan\n",
            "Gurdas Maan\n",
            "Gurmeet Choudhary\n",
            "Gurmeet Ram Rahim Singh\n",
            "Gurmeet Ram Rahim Singh\n",
            "Harish Chabbra\n",
            "Harman Baweja\n",
            "Harman Baweja\n",
            "Harman Baweja\n",
            "Harman Baweja\n",
            "Harshvardhan Deo\n",
            "Harshvardhan Kapoor\n",
            "Harshvardhan Kapoor\n",
            "Hazel Croney\n",
            "Hazel Croney\n",
            "Hema Malini\n",
            "Hemant Gopal\n",
            "Himansh Kohli\n",
            "Himansh Kohli\n",
            "Himanshu Bhatt\n",
            "Himanshu Malik\n",
            "Himesh Reshammiya\n",
            "Himesh Reshammiya\n",
            "Himesh Reshammiya\n",
            "Himesh Reshammiya\n",
            "Hrishitaa Bhatt\n",
            "Hrithik Roshan\n",
            "Hrithik Roshan\n",
            "Hrithik Roshan\n",
            "Hrithik Roshan\n",
            "Hrithik Roshan\n",
            "Hrithik Roshan\n",
            "Hrithik Roshan\n",
            "Hrithik Roshan\n",
            "Hrithik Roshan\n",
            "Hrithik Roshan\n",
            "Hrithik Roshan\n",
            "Hrithik Roshan\n",
            "Hugh Bonneville\n",
            "Ileana D'Cruz\n",
            "Imaaduddin Shah\n",
            "Imran Khan\n",
            "Imran Khan\n",
            "Imran Khan\n",
            "Imran Khan\n",
            "Imran Khan\n",
            "Inaamulhaq\n",
            "Indrapal Ahuja\n",
            "Ira Dubey\n",
            "Irrfan Khan\n",
            "Irrfan Khan\n",
            "Irrfan Khan\n",
            "Irrfan Khan\n",
            "Irrfan Khan\n",
            "Irrfan Khan\n",
            "Irrfan Khan\n",
            "Irrfan Khan\n",
            "Irrfan Khan\n",
            "Irrfan Khan\n",
            "Irrfan Khan\n",
            "Irrfan Khan\n",
            "Irrfan Khan\n",
            "Irrfan Khan\n",
            "Isha Koppikar\n",
            "Isha Koppikar\n",
            "Isha Koppikar\n",
            "Ishaan Khattar\n",
            "Ishaan Khattar\n",
            "Ishaan Manhaas\n",
            "Ishrat Ali\n",
            "J.D. Chakravarthi\n",
            "Jackie Shroff\n",
            "Jackie Shroff\n",
            "Jackie Shroff\n",
            "Jackie Shroff\n",
            "Jackie Shroff\n",
            "Jackie Shroff\n",
            "Jackky Bhagnani\n",
            "Jackky Bhagnani\n",
            "Jackky Bhagnani\n",
            "Jackky Bhagnani\n",
            "Jacqueline Fernandez\n",
            "Jacqueline Fernandez\n",
            "Jahangir Khan\n",
            "Jaideep Ahlawat\n",
            "Jason Lewis\n",
            "Jatin Grewal\n",
            "Javed Jaffrey\n",
            "Jay Bhanushali\n",
            "Jaya Bachchan\n",
            "Jayesh Raj\n",
            "Jayshree Arora\n",
            "Jaz Pandher\n",
            "Jazzy Doe\n",
            "Jeetendra\n",
            "Jeetendra\n",
            "Jimmy Sharma\n",
            "Jimmy Sheirgill\n",
            "Jimmy Sheirgill\n",
            "Jimmy Sheirgill\n",
            "Jimmy Sheirgill\n",
            "Jimmy Sheirgill\n",
            "Jimmy Sheirgill\n",
            "Jimmy Sheirgill\n",
            "Jimmy Sheirgill\n",
            "Jimmy Sheirgill\n",
            "Jimmy Sheirgill\n",
            "Jimmy Sheirgill\n",
            "Jimmy Sheirgill\n",
            "Jimmy Sheirgill\n",
            "Jimmy Sheirgill\n",
            "Jimmy Sheirgill\n",
            "Jimmy Sheirgill\n",
            "John Abraham\n",
            "John Abraham\n",
            "John Abraham\n",
            "John Abraham\n",
            "John Abraham\n",
            "John Abraham\n",
            "John Abraham\n",
            "John Abraham\n",
            "John Abraham\n",
            "John Abraham\n",
            "John Abraham\n",
            "John Abraham\n",
            "John Abraham\n",
            "John Abraham\n",
            "John Abraham\n",
            "John Abraham\n",
            "John Abraham\n",
            "John Abraham\n",
            "Joy Mukherjee\n",
            "Juanna Sanghvi\n",
            "Juhi Babbar\n",
            "Juhi Chawla\n",
            "Juhi Chawla\n",
            "Juhi Chawla\n",
            "Juhi Chawla\n",
            "Juhi Chawla\n",
            "Julia Datt\n",
            "Kainaz Motivala\n",
            "Kajal Aggarwal\n",
            "Kajol\n",
            "Kal Penn\n",
            "Kalki Koechlin\n",
            "Kalki Koechlin\n",
            "Kalki Koechlin\n",
            "Kamal Adib\n",
            "Kamal Haasan\n",
            "Kamal Rashid Khan\n",
            "Kangana Ranaut\n",
            "Kangana Ranaut\n",
            "Kangana Ranaut\n",
            "Kangana Ranaut\n",
            "Kangana Ranaut\n",
            "Kangana Ranaut\n",
            "Kangana Ranaut\n",
            "Kangana Ranaut\n",
            "Kangana Ranaut\n",
            "Kangana Ranaut\n",
            "Kangana Ranaut\n",
            "Kangana Ranaut\n",
            "Kanika Batra\n",
            "Kannan Arunachalam\n",
            "Kapil Jhaveri\n",
            "Kapil Sharma\n",
            "Kapil Sharma\n",
            "Karan Deol\n",
            "Karan Kundrra\n",
            "Karan Sharma\n",
            "Karanvir Bohra\n",
            "Karanvir Bohra\n",
            "Kareena Kapoor\n",
            "Kareena Kapoor\n",
            "Kareena Kapoor\n",
            "Kareena Kapoor\n",
            "Kareena Kapoor\n",
            "Kareena Kapoor\n",
            "Kareena Kapoor\n",
            "Karisma Kapoor\n",
            "Kartik Aaryan\n",
            "Kartik Aaryan\n",
            "Kartik Aaryan\n",
            "Kartik Aaryan\n",
            "Kartik Aaryan\n",
            "Kartik Aaryan\n",
            "Kartik Aaryan\n",
            "Kartik Elangovan\n",
            "Kashmira Shah\n",
            "Kavin Dave\n",
            "Kay Kay Menon\n",
            "Kay Kay Menon\n",
            "Kay Kay Menon\n",
            "Kay Kay Menon\n",
            "Kay Kay Menon\n",
            "Kay Kay Menon\n",
            "Kay Kay Menon\n",
            "Kay Kay Menon\n",
            "Kay Kay Menon\n",
            "Kay Kay Menon\n",
            "Kay Kay Menon\n",
            "Kiara Advani\n",
            "Kiran Bhatia\n",
            "Kiron Kher\n",
            "Kiron Kher\n",
            "Kiron Kher\n",
            "Kirti Kulhari\n",
            "Konkona Sen Sharma\n",
            "Krishna Abhishek\n",
            "Krishna Chaturvedi\n",
            "Kriti Kharbanda\n",
            "Krrish Chhabria\n",
            "Kunaal Roy Kapur\n",
            "Kunal Kapoor\n",
            "Kunal Kapoor\n",
            "Kunal Khemu\n",
            "Kunal Khemu\n",
            "Kunal Khemu\n",
            "Kunal Khemu\n",
            "Kunal Khemu\n",
            "Lee Byford\n",
            "Leeza Mangaldas\n",
            "Lewis Tan\n",
            "Lillete Dubey\n",
            "Linda Arsenio\n",
            "Lucky Ali\n",
            "Madhavan\n",
            "Madhavan\n",
            "Madhavan\n",
            "Madhavan\n",
            "Madhuri Dixit\n",
            "Madhuri Dixit\n",
            "Madhuri Dixit\n",
            "Mahek Chahal\n",
            "Mahima Chaudhry\n",
            "Mahima Chaudhry\n",
            "Makrand Deshpande\n",
            "Malaika Arora\n",
            "Mallika Sherawat\n",
            "Mallika Sherawat\n",
            "Mallika Sherawat\n",
            "Mallika Sherawat\n",
            "Manav Kaul\n",
            "Mandar Jadhav\n",
            "Manish Anand\n",
            "Manish Chaudhary\n",
            "Manish Paul\n",
            "Manish Paul\n",
            "Manisha Kelkar\n",
            "Manisha Koirala\n",
            "Manisha Koirala\n",
            "Manisha Koirala\n",
            "Manisha Koirala\n",
            "Manisha Koirala\n",
            "Manisha Koirala\n",
            "Mann Bagga\n",
            "Mannara Chopra\n",
            "Manoj Amarnani\n",
            "Manoj Babani\n",
            "Manoj Bajpayee\n",
            "Manoj Bajpayee\n",
            "Manoj Bajpayee\n",
            "Manoj Bajpayee\n",
            "Manoj Bajpayee\n",
            "Manoj Bajpayee\n",
            "Manoj Bajpayee\n",
            "Manoj Bajpayee\n",
            "Manoj Bajpayee\n",
            "Manoj Bajpayee\n",
            "Manoj Bajpayee\n",
            "Manoj Bajpayee\n",
            "Manoj Bajpayee\n",
            "Manoj Bajpayee\n",
            "Manu Rishi Chadha\n",
            "Master Shams\n",
            "Meenakshi Dixit\n",
            "Meghan Jadhav\n",
            "Menekka Arora\n",
            "Mikaal\n",
            "Mimoh Chakraborty\n",
            "Mimoh Chakraborty\n",
            "Mimoh Chakraborty\n",
            "Mischa Barton\n",
            "Mithun Chakraborty\n",
            "Mithun Chakraborty\n",
            "Mithun Chakraborty\n",
            "Mithun Chakraborty\n",
            "Mithun Chakraborty\n",
            "Mithun Chakraborty\n",
            "Mithun Chakraborty\n",
            "Mithun Chakraborty\n",
            "Mohammad Amir Naji\n",
            "Mohan Azaad\n",
            "Mohinder Gujral\n",
            "Mohit Ahlawat\n",
            "Mohit Ahlawat\n",
            "Mohit Baghel\n",
            "Mohsin\n",
            "Mona Ambegaonkar\n",
            "Mona Ambegaonkar\n",
            "Monali Thakur\n",
            "Mouli Ganguly\n",
            "Mugdha Godse\n",
            "Mukesh Khanna\n",
            "Muzamil Ibrahim\n",
            "Nafisa Ali\n",
            "Naman Jain\n",
            "Nana Patekar\n",
            "Nana Patekar\n",
            "Nana Patekar\n",
            "Nana Patekar\n",
            "Nana Patekar\n",
            "Nana Patekar\n",
            "Nana Patekar\n",
            "Nandita Das\n",
            "Naresh Sharma\n",
            "Nargis Fakhri\n",
            "Naseeruddin Shah\n",
            "Naseeruddin Shah\n",
            "Naseeruddin Shah\n",
            "Naseeruddin Shah\n",
            "Naseeruddin Shah\n",
            "Naseeruddin Shah\n",
            "Naseeruddin Shah\n",
            "Naseeruddin Shah\n",
            "Naseeruddin Shah\n",
            "Naseeruddin Shah\n",
            "Naseeruddin Shah\n",
            "Naseeruddin Shah\n",
            "Nassar Abdulla\n",
            "Nassar Abdulla\n",
            "Nassar Abdulla\n",
            "Natalia Janoszek\n",
            "Nauheed Cyrusi\n",
            "Naushaad Abbas\n",
            "Naveen Bawa\n",
            "Naveen Kasturia\n",
            "Nawazuddin Siddiqui\n",
            "Nawazuddin Siddiqui\n",
            "Nawazuddin Siddiqui\n",
            "Nawazuddin Siddiqui\n",
            "Nawazuddin Siddiqui\n",
            "Nawazuddin Siddiqui\n",
            "Nawazuddin Siddiqui\n",
            "Nawazuddin Siddiqui\n",
            "Nawazuddin Siddiqui\n",
            "Nawazuddin Siddiqui\n",
            "Nawazuddin Siddiqui\n",
            "Nayna Bandhopadhyay\n",
            "Neha Dhupia\n",
            "Neha Dhupia\n",
            "Neha Dhupia\n",
            "Neha Sharma\n",
            "Neil Nitin Mukesh\n",
            "Neil Nitin Mukesh\n",
            "Neil Nitin Mukesh\n",
            "Neil Nitin Mukesh\n",
            "Neil Nitin Mukesh\n",
            "Neil Nitin Mukesh\n",
            "Neil Nitin Mukesh\n",
            "Niharica Raizada\n",
            "Nikhil Dwivedi\n",
            "Nikhil Dwivedi\n",
            "Nishant Dahiya\n",
            "Nishikant Kamat\n",
            "Nora Fatehi\n",
            "Nushrat Bharucha\n",
            "Om Puri\n",
            "Om Puri\n",
            "Om Puri\n",
            "Om Puri\n",
            "Omkar Bhatkar\n",
            "Omkar Das Manikpuri\n",
            "Omkar Das Manikpuri\n",
            "Onjolee Nair\n",
            "Pankaj Kapur\n",
            "Pankaj Kapur\n",
            "Pankaj Tripathi\n",
            "Pankaj Tripathi\n",
            "Paoli Dam\n",
            "Paresh Rawal\n",
            "Paresh Rawal\n",
            "Paresh Rawal\n",
            "Paresh Rawal\n",
            "Paresh Rawal\n",
            "Paresh Rawal\n",
            "Paresh Rawal\n",
            "Paresh Rawal\n",
            "Parthaa Akerkar\n",
            "Partho A. Gupte\n",
            "Parveen Kaur\n",
            "Parzaan Dastur\n",
            "Patralekhaa Paul\n",
            "Paul Sidhu\n",
            "Poonam Pandey\n",
            "Prabhas\n",
            "Prabhu Deva\n",
            "Prabhu Deva\n",
            "Prabhu Deva\n",
            "Prakash Belawadi\n",
            "Prashant Narayanan\n",
            "Prateik\n",
            "Prateik\n",
            "Prateik\n",
            "Prateik\n",
            "Preity Zinta\n",
            "Prince Shah\n",
            "Prisha Aneja\n",
            "Prit Kamani\n",
            "Prithviraj Kapoor\n",
            "Priyanka Chopra\n",
            "Priyanka Chopra\n",
            "Priyanka Chopra\n",
            "Priyanka Chopra\n",
            "Priyanka Chopra\n",
            "Priyanka Chopra\n",
            "Priyanka Chopra\n",
            "Priyanshu Chatterjee\n",
            "Priyanshu Chatterjee\n",
            "Pulkit Samrat\n",
            "Pulkit Samrat\n",
            "Pulkit Samrat\n",
            "Pulkit Samrat\n",
            "Pulkit Samrat\n",
            "Pulkit Samrat\n",
            "Puneet Singh Ratn\n",
            "Purab Kohli\n",
            "Puru Chibber\n",
            "RJ Balaji\n",
            "Radhika Apte\n",
            "Radhika Apte\n",
            "Radhika Apte\n",
            "Raghuvir Yadav\n",
            "Rahul Bagga\n",
            "Rahul Bagga\n",
            "Rahul Bagga\n",
            "Rahul Bhat\n",
            "Rahul Bhat\n",
            "Rahul Bose\n",
            "Rahul Bose\n",
            "Rahul Bose\n",
            "Rahul Bose\n",
            "Rahul Dev\n",
            "Rahul Jaiswal\n",
            "Rahul Khanna\n",
            "Raima Sen\n",
            "Raj Arjun\n",
            "Raj Singh Chaudhary\n",
            "Raj Tara\n",
            "Rajat Barmecha\n",
            "Rajat Kapoor\n",
            "Rajat Kapoor\n",
            "Rajeev Khandelwal\n",
            "Rajeev Khandelwal\n",
            "Rajeev Khandelwal\n",
            "Rajendra Prasad\n",
            "Rajesh Khanna\n",
            "Rajesh Khanna\n",
            "Rajesh Tailang\n",
            "Rajit Kapoor\n",
            "Rajkummar Rao\n",
            "Rajkummar Rao\n",
            "Rajkummar Rao\n",
            "Rajkummar Rao\n",
            "Rajkummar Rao\n",
            "Rajkummar Rao\n",
            "Rajkummar Rao\n",
            "Rajkummar Rao\n",
            "Rajkummar Rao\n",
            "Rajkummar Rao\n",
            "Rajkummar Rao\n",
            "Rajniesh Duggall\n",
            "Rajniesh Duggall\n",
            "Rajniesh Duggall\n",
            "Rajpal Yadav\n",
            "Rajpal Yadav\n",
            "Rajveer Ankur Singh\n",
            "Rakesh Bedi\n",
            "Rakhee Gulzar\n",
            "Ram Kapoor\n",
            "Ram Kapoor\n",
            "Rana Daggubati\n",
            "Ranbir Kapoor\n",
            "Ranbir Kapoor\n",
            "Ranbir Kapoor\n",
            "Ranbir Kapoor\n",
            "Ranbir Kapoor\n",
            "Ranbir Kapoor\n",
            "Ranbir Kapoor\n",
            "Ranbir Kapoor\n",
            "Ranbir Kapoor\n",
            "Ranbir Kapoor\n",
            "Ranbir Kapoor\n",
            "Randeep Hooda\n",
            "Randeep Hooda\n",
            "Randeep Hooda\n",
            "Randeep Hooda\n",
            "Randeep Hooda\n",
            "Rani Mukerji\n",
            "Rani Mukerji\n",
            "Rani Mukerji\n",
            "Rani Mukerji\n",
            "Rani Mukerji\n",
            "Rani Mukerji\n",
            "Rani Mukerji\n",
            "Rani Mukerji\n",
            "Ranveer Singh\n",
            "Ranveer Singh\n",
            "Ranveer Singh\n",
            "Ranveer Singh\n",
            "Ranveer Singh\n",
            "Ranveer Singh\n",
            "Ranveer Singh\n",
            "Ranveer Singh\n",
            "Ranveer Singh\n",
            "Ranvir Shorey\n",
            "Ranvir Shorey\n",
            "Raqesh Bapat\n",
            "Rasika Agashe\n",
            "Rati Agnihotri\n",
            "Rati Agnihotri\n",
            "Rati Agnihotri\n",
            "Rati Agnihotri\n",
            "Raveena Tandon\n",
            "Raveena Tandon\n",
            "Raveena Tandon\n",
            "Raveena Tandon\n",
            "Ravi Kishan\n",
            "Reef Karim\n",
            "Rekha\n",
            "Rekha\n",
            "Rekha\n",
            "Rekha\n",
            "Rekha\n",
            "Rekha\n",
            "Rekha\n",
            "Reshmi Ghosh\n",
            "Rhea Chakraborty\n",
            "Rhea Chakraborty\n",
            "Richa Chadha\n",
            "Richa Chadha\n",
            "Richa Chadha\n",
            "Rina Charaniya\n",
            "Rishi Kapoor\n",
            "Rishi Kapoor\n",
            "Rishi Kapoor\n",
            "Rishi Kapoor\n",
            "Rishi Kapoor\n",
            "Rishi Kapoor\n",
            "Rishi Kapoor\n",
            "Rishi Kapoor\n",
            "Rishi Kapoor\n",
            "Rishi Kapoor\n",
            "Rishi Kapoor\n",
            "Rishi Verma\n",
            "Riteish Deshmukh\n",
            "Riteish Deshmukh\n",
            "Riteish Deshmukh\n",
            "Riteish Deshmukh\n",
            "Riteish Deshmukh\n",
            "Riteish Deshmukh\n",
            "Riteish Deshmukh\n",
            "Rituparna Sengupta\n",
            "Riya Vij\n",
            "Rohit Roy\n",
            "Ronit Roy\n",
            "Rupa Bhimani\n",
            "Rushali Arora\n",
            "Russell Geoffrey Banks\n",
            "Saahil Chadha\n",
            "Saahil Prem\n",
            "Saayli Buva\n",
            "Sachiin Joshi\n",
            "Sachiin Joshi\n",
            "Sachin Khedekar\n",
            "Sachin Khedekar\n",
            "Sachin Tendulkar\n",
            "Sadashiv Amrapurkar\n",
            "Sadashiv Amrapurkar\n",
            "Sadhana Singh\n",
            "Sagar Bhangade\n",
            "Sahil Anand\n",
            "Sahil Anand\n",
            "Sahil Khan\n",
            "Saif Ali Khan\n",
            "Saif Ali Khan\n",
            "Saif Ali Khan\n",
            "Saif Ali Khan\n",
            "Saif Ali Khan\n",
            "Saif Ali Khan\n",
            "Saif Ali Khan\n",
            "Saif Ali Khan\n",
            "Saif Ali Khan\n",
            "Saif Ali Khan\n",
            "Saif Ali Khan\n",
            "Saif Ali Khan\n",
            "Saif Ali Khan\n",
            "Saif Ali Khan\n",
            "Saif Ali Khan\n",
            "Saif Ali Khan\n",
            "Saif Ali Khan\n",
            "Saif Ali Khan\n",
            "Salil Acharya\n",
            "Salman Khan\n",
            "Salman Khan\n",
            "Salman Khan\n",
            "Salman Khan\n",
            "Salman Khan\n",
            "Salman Khan\n",
            "Salman Khan\n",
            "Salman Khan\n",
            "Salman Khan\n",
            "Salman Khan\n",
            "Salman Khan\n",
            "Salman Khan\n",
            "Salman Khan\n",
            "Salman Khan\n",
            "Salman Khan\n",
            "Salman Khan\n",
            "Salman Khan\n",
            "Salman Khan\n",
            "Salman Khan\n",
            "Salman Khan\n",
            "Salman Khan\n",
            "Salman Khan\n",
            "Salman Khan\n",
            "Salman Khan\n",
            "Salman Khan\n",
            "Salman Khan\n",
            "Salman Khan\n",
            "Salman Khan\n",
            "Salman Khan\n",
            "Salman Khan\n",
            "Salman Khan\n",
            "Sameera Reddy\n",
            "Samir Aftab\n",
            "Sammir Dattani\n",
            "Sampat Pal Devi\n",
            "Sanaya Irani\n",
            "Sanjay Dutt\n",
            "Sanjay Dutt\n",
            "Sanjay Dutt\n",
            "Sanjay Dutt\n",
            "Sanjay Dutt\n",
            "Sanjay Dutt\n",
            "Sanjay Dutt\n",
            "Sanjay Dutt\n",
            "Sanjay Dutt\n",
            "Sanjay Dutt\n",
            "Sanjay Dutt\n",
            "Sanjay Dutt\n",
            "Sanjay Dutt\n",
            "Sanjay Dutt\n",
            "Sanjay Dutt\n",
            "Sanjay Dutt\n",
            "Sanjay Dutt\n",
            "Sanjay Dutt\n",
            "Sanjay Dutt\n",
            "Sanjay Dutt\n",
            "Sanjay Dutt\n",
            "Sanjay Dutt\n",
            "Sanjay Dutt\n",
            "Sanjay Dutt\n",
            "Sanjay Dutt\n",
            "Sanjay Dutt\n",
            "Sanjay Mishra\n",
            "Sanjay Mishra\n",
            "Sanjay Mishra\n",
            "Sanjay Singh\n",
            "Sanjay Suri\n",
            "Sanjay Suri\n",
            "Sanjay Suri\n",
            "Sanjeev Bhaskar\n",
            "Sanjeev Kumar\n",
            "Sanya Malhotra\n",
            "Saqib Saleem\n",
            "Saqib Saleem\n",
            "Sara Arjun\n",
            "Sara Loren\n",
            "Sara Loren\n",
            "Sarika\n",
            "Sarita Joshi\n",
            "Sasha Aagha\n",
            "Satish Kaushik\n",
            "Saurav Chakraborty\n",
            "Seema Azmi\n",
            "Sendhil Ramamurthy\n",
            "Shabana Azmi\n",
            "Shabana Azmi\n",
            "Shabana Azmi\n",
            "Shabana Azmi\n",
            "Shabana Azmi\n",
            "Shadab Kamal\n",
            "Shah Rukh Khan\n",
            "Shah Rukh Khan\n",
            "Shah Rukh Khan\n",
            "Shah Rukh Khan\n",
            "Shah Rukh Khan\n",
            "Shah Rukh Khan\n",
            "Shah Rukh Khan\n",
            "Shah Rukh Khan\n",
            "Shah Rukh Khan\n",
            "Shah Rukh Khan\n",
            "Shah Rukh Khan\n",
            "Shah Rukh Khan\n",
            "Shah Rukh Khan\n",
            "Shah Rukh Khan\n",
            "Shah Rukh Khan\n",
            "Shah Rukh Khan\n",
            "Shah Rukh Khan\n",
            "Shah Rukh Khan\n",
            "Shah Rukh Khan\n",
            "Shah Rukh Khan\n",
            "Shah Rukh Khan\n",
            "Shah Rukh Khan\n",
            "Shahbaaz Khan\n",
            "Shahid Kapoor\n",
            "Shahid Kapoor\n",
            "Shahid Kapoor\n",
            "Shahid Kapoor\n",
            "Shahid Kapoor\n",
            "Shahid Kapoor\n",
            "Shahid Kapoor\n",
            "Shahid Kapoor\n",
            "Shahid Kapoor\n",
            "Shahid Kapoor\n",
            "Shahid Kapoor\n",
            "Shahid Kapoor\n",
            "Shahid Kapoor\n",
            "Shahid Kapoor\n",
            "Shahid Kapoor\n",
            "Shahid Kapoor\n",
            "Shahid Kapoor\n",
            "Shakti Anand\n",
            "Shakti Kapoor\n",
            "Shakti Kapoor\n",
            "Shamim Khan\n",
            "Sharib Hashmi\n",
            "Sharman Joshi\n",
            "Sharman Joshi\n",
            "Sharman Joshi\n",
            "Sharman Joshi\n",
            "Sharman Joshi\n",
            "Sharman Joshi\n",
            "Sharman Joshi\n",
            "Sharman Joshi\n",
            "Shashank Arora\n",
            "Shashank Udapurkar\n",
            "Shatrughan Sinha\n",
            "Shaurya Singh\n",
            "Shawar Ali\n",
            "Shawar Ali\n",
            "Shefali Shah\n",
            "Sherlyn Chopra\n",
            "Shikhi Gupta\n",
            "Shilpa Shetty Kundra\n",
            "Shilpa Shetty Kundra\n",
            "Shiney Ahuja\n",
            "Shiney Ahuja\n",
            "Shiv Darshan\n",
            "Shiv Darshan\n",
            "Shiv Panditt\n",
            "Shraddha Kapoor\n",
            "Shraddha Kapoor\n",
            "Shraddha Kapoor\n",
            "Shraddha Kapoor\n",
            "Shreyas Talpade\n",
            "Shreyas Talpade\n",
            "Shreyas Talpade\n",
            "Shreyas Talpade\n",
            "Shreyas Talpade\n",
            "Shreyas Talpade\n",
            "Shreyas Talpade\n",
            "Shreyas Talpade\n",
            "Shruti Haasan\n",
            "Shubham\n",
            "Siddhanth Kapoor\n",
            "Siddharth\n",
            "Siddharth Gupta\n",
            "Siddharth Koirala\n",
            "Siddhartha Gupta\n",
            "Sidhant Gupta\n",
            "Sidharth Malhotra\n",
            "Sidharth Malhotra\n",
            "Sidharth Malhotra\n",
            "Sidharth Malhotra\n",
            "Sidharth Malhotra\n",
            "Sidharth Malhotra\n",
            "Sidharth Malhotra\n",
            "Sikander Kher\n",
            "Simer Motiani\n",
            "Smitha Gondkar\n",
            "Soha Ali Khan\n",
            "Soha Ali Khan\n",
            "Sohail Khan\n",
            "Sohail Khan\n",
            "Sohail Khan\n",
            "Sohail Khan\n",
            "Sohum Shah\n",
            "Somesh Agarwal\n",
            "Sonakshi Sinha\n",
            "Sonam Kapoor\n",
            "Sonam Kapoor\n",
            "Sonam Kapoor\n",
            "Sonarika Bhadoria\n",
            "Sonu Sood\n",
            "Sooraj Balaji\n",
            "Soundarya Sharma\n",
            "Sridevi\n",
            "Sridevi\n",
            "Sudeep\n",
            "Sudesh Berry\n",
            "Sudha Chandran\n",
            "Suhaas Ahuja\n",
            "Sukhesh Arora\n",
            "Sulabha Arya\n",
            "Sumeet Vyas\n",
            "Sumit Arora\n",
            "Sumit Nijhawan\n",
            "Sunidhi Chauhan\n",
            "Sunil Grover\n",
            "Sunil Pal\n",
            "Sunil Shetty\n",
            "Sunil Shetty\n",
            "Sunil Shetty\n",
            "Sunil Shetty\n",
            "Sunil Shetty\n",
            "Sunil Shetty\n",
            "Sunil Shetty\n",
            "Sunny Deol\n",
            "Sunny Deol\n",
            "Sunny Deol\n",
            "Sunny Deol\n",
            "Sunny Deol\n",
            "Sunny Deol\n",
            "Sunny Deol\n",
            "Sunny Deol\n",
            "Sunny Deol\n",
            "Sunny Deol\n",
            "Sunny Deol\n",
            "Sunny Deol\n",
            "Sunny Deol\n",
            "Sunny Deol\n",
            "Sunny Deol\n",
            "Sunny Deol\n",
            "Sunny Deol\n",
            "Sunny Gill\n",
            "Sunny Leone\n",
            "Sunny Leone\n",
            "Sunny Leone\n",
            "Sunny Leone\n",
            "Sunny Leone\n",
            "Sunny Singh Nijjar\n",
            "Supriya Pathak\n",
            "Suraj Pancholi\n",
            "Suraj Pancholi\n",
            "Sushama Deshpande\n",
            "Sushant Singh Rajput\n",
            "Sushant Singh Rajput\n",
            "Sushant Singh Rajput\n",
            "Sushant Singh Rajput\n",
            "Sushant Singh Rajput\n",
            "Sushmita Sen\n",
            "Sushmita Sen\n",
            "Sushmita Sen\n",
            "Sushmita Sen\n",
            "Swanand Kirkire\n",
            "Swara Bhaskar\n",
            "Swara Bhaskar\n",
            "Swara Bhaskar\n",
            "Taapsee Pannu\n",
            "Taapsee Pannu\n",
            "Taapsee Pannu\n",
            "Taapsee Pannu\n",
            "Taapsee Pannu\n",
            "Taapsee Pannu\n",
            "Tabu\n",
            "Tabu\n",
            "Tabu\n",
            "Tabu\n",
            "Tabu\n",
            "Tabu\n",
            "Talha Arshad Reshi\n",
            "Tanima Bhattacharya\n",
            "Tanishaa Mukerji\n",
            "Tannishtha Chatterjee\n",
            "Tannishtha Chatterjee\n",
            "Tanuj Virwani\n",
            "Tanuj Virwani\n",
            "Tanuja\n",
            "Tanushree Dutta\n",
            "Tarun Arora\n",
            "Tiger Shroff\n",
            "Tiger Shroff\n",
            "Tiger Shroff\n",
            "Tiger Shroff\n",
            "Tiger Shroff\n",
            "Tinnu Anand\n",
            "Tisca Chopra\n",
            "Tom Alter\n",
            "Tulip Joshi\n",
            "Tushar Jalota\n",
            "Tusshar Kapoor\n",
            "Tusshar Kapoor\n",
            "Tusshar Kapoor\n",
            "Tusshar Kapoor\n",
            "Tusshar Kapoor\n",
            "Tusshar Kapoor\n",
            "Tusshar Kapoor\n",
            "Tusshar Kapoor\n",
            "Tusshar Kapoor\n",
            "Tusshar Kapoor\n",
            "Tusshar Kapoor\n",
            "Tusshar Kapoor\n",
            "Tusshar Kapoor\n",
            "Tusshar Kapoor\n",
            "Tusshar Kapoor\n",
            "Tusshar Kapoor\n",
            "Uday Chopra\n",
            "Urmila Matondkar\n",
            "Urmila Matondkar\n",
            "Urmila Matondkar\n",
            "Urmila Matondkar\n",
            "Urvashi Rautela\n",
            "Utkarsh Sharma\n",
            "V. Ravichandran\n",
            "Vaani Kapoor\n",
            "Vardhan Puri\n",
            "Varun Bhagwat\n",
            "Varun Dhawan\n",
            "Varun Dhawan\n",
            "Varun Dhawan\n",
            "Varun Dhawan\n",
            "Varun Dhawan\n",
            "Varun Dhawan\n",
            "Varun Dhawan\n",
            "Vatsal Sheth\n",
            "Vatsal Sheth\n",
            "Veena Malik\n",
            "Vickrant Mahajan\n",
            "Vicky Ahuja\n",
            "Vicky Ahuja\n",
            "Vicky Ahuja\n",
            "Vicky Kaushal\n",
            "Vicky Kaushal\n",
            "Victor Banerjee\n",
            "Victor Banerjee\n",
            "Vidya Balan\n",
            "Vidya Balan\n",
            "Vidya Balan\n",
            "Vidya Balan\n",
            "Vidya Balan\n",
            "Vidya Balan\n",
            "Vidyut Jammwal\n",
            "Vidyut Jammwal\n",
            "Vidyut Jammwal\n",
            "Viineet Kumar\n",
            "Vijay Raaz\n",
            "Vijay Raaz\n",
            "Vijay Varma\n",
            "Vikaas Kalantari\n",
            "Vikas Kalantri\n",
            "Vikram Aditya\n",
            "Vikram Dasu\n",
            "Vikrum Kumar\n",
            "Vinay Anand\n",
            "Vinay Pathak\n",
            "Vinay Pathak\n",
            "Vinay Pathak\n",
            "Vinay Pathak\n",
            "Vinay Pathak\n",
            "Vinay Pathak\n",
            "Vinay Pathak\n",
            "Vinay Pathak\n",
            "Vinay Pathak\n",
            "Vinay Pathak\n",
            "Vinay Pathak\n",
            "Vinay Virmani\n",
            "Vinod Acharya\n",
            "Vinod Khanna\n",
            "Vinod Khanna\n",
            "Vinod Khanna\n",
            "Vipin Sharma\n",
            "Vir Das\n",
            "Vira Sathidar\n",
            "Vishwa Mohan Badola\n",
            "Vivek Oberoi\n",
            "Vivek Oberoi\n",
            "Vivek Oberoi\n",
            "Vivek Oberoi\n",
            "Vivek Oberoi\n",
            "Vivek Oberoi\n",
            "Vivek Oberoi\n",
            "Vivek Oberoi\n",
            "Vivek Oberoi\n",
            "Vivek Oberoi\n",
            "Vivek Sudershan\n",
            "Waheeda Rehman\n",
            "Wamiqa Gabbi\n",
            "Yash Acharya\n",
            "Yash Soni\n",
            "Yashpal Sharma\n",
            "Yogesh Raj Mishra\n",
            "Yudhveer Bakoliya\n",
            "Zaheer Iqbal\n",
            "Zaira Wasim\n",
            "Zaira Wasim\n",
            "Zara Sheikh\n",
            "Zareen Khan\n",
            "Zayed Khan\n",
            "Zayed Khan\n",
            "Zayed Khan\n",
            "Zeenat Aman\n",
            "Zeenat Aman\n",
            "Zeenat Aman\n",
            "Zeenat Aman\n",
            "Zulfi Sayed\n"
          ]
        }
      ],
      "source": [
        "# looping\n",
        "for i in movies:\n",
        "  print(i)"
      ]
    },
    {
      "cell_type": "code",
      "execution_count": 197,
      "metadata": {
        "colab": {
          "base_uri": "https://localhost:8080/"
        },
        "id": "IXnzfjhxt41A",
        "outputId": "fdd25164-e07d-4c86-fdb5-28b2c74ab4c3"
      },
      "outputs": [
        {
          "name": "stdout",
          "output_type": "stream",
          "text": [
            "Qaidi Band\n",
            "Roar: Tigers of the Sundarbans\n",
            "Lipstick Under My Burkha\n",
            "Raat Gayi Baat Gayi?\n",
            "Talaash: The Answer Lies Within\n",
            "Dangal (film)\n",
            "Thugs of Hindostan\n",
            "Dhoom 3\n",
            "Fanaa (2006 film)\n",
            "Ghajini (2008 film)\n",
            "Rang De Basanti\n",
            "PK (film)\n",
            "Mangal Pandey: The Rising\n",
            "3 Idiots\n",
            "Buddha in a Traffic Jam\n",
            "Chillar Party\n",
            "Ssukh\n",
            "Umrika\n",
            "One by Two (2014 film)\n",
            "Oye Lucky! Lucky Oye!\n",
            "Ahista Ahista (2006 film)\n",
            "Socha Na Tha\n",
            "Ek Chalis Ki Last Local\n",
            "Nanu Ki Jaanu\n",
            "Manorama Six Feet Under\n",
            "Mard Ko Dard Nahi Hota\n",
            "Dostana (2008 film)\n",
            "Jhoom Barabar Jhoom\n",
            "Raavan\n",
            "Run (2004 film)\n",
            "Dum Maaro Dum (film)\n",
            "Bunty Aur Babli\n",
            "Dhoom\n",
            "Game (2011 film)\n",
            "Mumbai Se Aaya Mera Dost\n",
            "Bluffmaster!\n",
            "Love Sonia\n",
            "Contract (2008 film)\n",
            "Heartless (2014 film)\n",
            "Dehraadun Diary\n",
            "Luckhnowi Ishq\n",
            "Dobaara: See Your Evil\n",
            "Hotel Salvation\n",
            "Shaapit\n",
            "Fitoor\n",
            "Daawat-e-Ishq\n",
            "Aashiqui 2\n",
            "Kaalo\n",
            "Life Mein Kabhie Kabhiee\n",
            "Masti (2004 film)\n",
            "Koi Aap Sa\n",
            "Muskaan\n",
            "De Taali\n",
            "Footpath (2003 film)\n",
            "Aloo Chaat (film)\n",
            "Ankahee (2006 film)\n",
            "Red: The Dark Side\n",
            "Suno Sasurjee\n",
            "Jaane Hoga Kya\n",
            "Summer 2007\n",
            "Ship of Theseus (film)\n",
            "3 Storeys\n",
            "Kaashi in Search of Ganga\n",
            "Jazbaa\n",
            "Umrao Jaan (2006 film)\n",
            "Kuch Naa Kaho\n",
            "U Me Aur Hum\n",
            "Drishyam (2015 film)\n",
            "Golmaal Again\n",
            "Himmatwala (2013 film)\n",
            "Golmaal Returns\n",
            "Golmaal: Fun Unlimited\n",
            "Raid (2018 film)\n",
            "Raincoat (film)\n",
            "Rascals (2011 film)\n",
            "Halla Bol\n",
            "Zameer: The Fire Within\n",
            "Dil Toh Baccha Hai Ji\n",
            "Blackmail (2005 film)\n",
            "Zameen (2003 film)\n",
            "Yuva\n",
            "Cash (2007 film)\n",
            "Bhoot (film)\n",
            "Tango Charlie\n",
            "Omkara (2006 film)\n",
            "Chori Chori (2003 film)\n",
            "Aakrosh (2010 film)\n",
            "Once Upon a Time in Mumbaai\n",
            "Kaal (2005 film)\n",
            "Shikhar (film)\n",
            "Apaharan\n",
            "Company (film)\n",
            "Main Aisa Hi Hoon\n",
            "Parwana (2003 film)\n",
            "De De Pyaar De\n",
            "Son of Sardaar\n",
            "Toonpur Ka Super Hero\n",
            "Gangaajal\n",
            "Total Dhamaal\n",
            "Singham\n",
            "Dharti Kahe Pukar Ke (2006 film)\n",
            "Shivaay\n",
            "Qayamat: City Under Threat\n",
            "Sunday (2008 film)\n",
            "Malik Ek\n",
            "Calendar Girls (2015 film)\n",
            "Bloody Isshq\n",
            "Jaane Kyun De Yaaron\n",
            "Popcorn Khao! Mast Ho Jao\n",
            "Alag\n",
            "Humko Deewana Kar Gaye\n",
            "Airlift (film)\n",
            "Singh Is Bliing\n",
            "Singh Is Kinng\n",
            "Insan\n",
            "Desi Boyz\n",
            "Mere Jeevan Saathi (2006 film)\n",
            "Police Force: An Inside Story\n",
            "Deewane Huye Paagal\n",
            "Toilet: Ek Prem Katha\n",
            "Action Replayy\n",
            "Phir Hera Pheri\n",
            "De Dana Dan\n",
            "Special 26\n",
            "Meri Biwi Ka Jawaab Nahin\n",
            "Mission Mangal\n",
            "Thank You (2011 film)\n",
            "Boss (2013 Hindi film)\n",
            "Brothers (2015 film)\n",
            "Namastey London\n",
            "Khatta Meetha (2010 film)\n",
            "Aitraaz\n",
            "Tees Maar Khan (2010 film)\n",
            "Tashan (film)\n",
            "The Shaukeens\n",
            "Kesari (film)\n",
            "Bhagam Bhag\n",
            "Once Upon ay Time in Mumbai Dobaara!\n",
            "Joker (2012 film)\n",
            "Bhool Bhulaiyaa\n",
            "Housefull 4\n",
            "Garam Masala (2005 film)\n",
            "Good Newwz\n",
            "Andaaz\n",
            "Entertainment (2014 film)\n",
            "Andaaz\n",
            "Holiday: A Soldier Is Never Off Duty\n",
            "Housefull 2\n",
            "Dosti: Friends Forever\n",
            "Awara Paagal Deewana\n",
            "Baby (2015 Hindi film)\n",
            "Gabbar Is Back\n",
            "Welcome (2007 film)\n",
            "Gold (2018 film)\n",
            "Blue (2009 film)\n",
            "Housefull (2010 film)\n",
            "Gabbar Is Back\n",
            "Hatya (2004 film)\n",
            "Pizza (2014 film)\n",
            "Isi Life Mein\n",
            "Section 375\n",
            "36 China Town\n",
            "Aap Ki Khatir (2006 film)\n",
            "Hulchul (2004 film)\n",
            "Gandhi My Father\n",
            "Hungama (2003 film)\n",
            "Shaadi Se Pehle\n",
            "Bhola in Bollywood\n",
            "Amavas\n",
            "Chashme Baddoor (2013 film)\n",
            "Tere Bin Laden\n",
            "Total Siyapaa\n",
            "Raazi\n",
            "Highway (2014 Hindi film)\n",
            "Dear Zindagi\n",
            "Student of the Year\n",
            "Mumbhai Connection\n",
            "Dhund (2003 film)\n",
            "Jattu Engineer\n",
            "Iqraar by Chance\n",
            "Kaise Kahoon Ke... Pyaar Hai\n",
            "Jack and Dil\n",
            "Haal-e-Dil\n",
            "Dil Jo Bhi Kahey...\n",
            "God Tussi Great Ho\n",
            "Boom (film)\n",
            "Ki & Ka\n",
            "Bol Bachchan\n",
            "Shamitabh\n",
            "Kyun! Ho Gaya Na...\n",
            "Shootout at Lokhandwala\n",
            "Dev (2004 film)\n",
            "Teen Patti (film)\n",
            "Ek Ajnabee\n",
            "Te3n\n",
            "Rann (film)\n",
            "Family (2006 film)\n",
            "Cheeni Kum\n",
            "Nishabd\n",
            "Kabhi Alvida Naa Kehna\n",
            "Kaante\n",
            "Sarkar 3\n",
            "Deewaar (2004 film)\n",
            "Paa (film)\n",
            "Sarkar Raj\n",
            "Darna Zaroori Hai\n",
            "Satyagraha (film)\n",
            "Khakee\n",
            "Eklavya: The Royal Guard\n",
            "Sarkar (2005 film)\n",
            "Bhoothnath Returns\n",
            "Baabul (2006 film)\n",
            "Bhoothnath\n",
            "Armaan (2003 film)\n",
            "Viruddh... Family Comes First\n",
            "Aarakshan\n",
            "Bbuddah... Hoga Terra Baap\n",
            "Baghban (2003 film)\n",
            "Aankhen (2002 film)\n",
            "Aetbaar\n",
            "Badla (2019 film)\n",
            "Begum Jaan\n",
            "Ab Tumhare Hawale Watan Saathiyo\n",
            "Aladin (film)\n",
            "The Last Lear\n",
            "Black (2005 film)\n",
            "Waqt: The Race Against Time\n",
            "Aag (2007 film)\n",
            "Rajma Chawal\n",
            "Happy Husbands (2011 film)\n",
            "Hava Aney Dey\n",
            "Bewafaa (2005 film)\n",
            "Calcutta Mail\n",
            "Mubarakan\n",
            "Race 3\n",
            "Dil Dhadakne Do\n",
            "Chocolate (2005 film)\n",
            "My Wife's Murder\n",
            "Musafir (2004 film)\n",
            "No Entry\n",
            "Tezz\n",
            "Welcome Back (film)\n",
            "Baat Bann Gayi\n",
            "Ek Se Bure Do\n",
            "Manjunath (film)\n",
            "Right Here Right Now (film)\n",
            "Badlapur Boys\n",
            "Yeh Hai Bakrapur\n",
            "Naach (2004 film)\n",
            "Main Madhuri Dixit Banna Chahti Hoon\n",
            "Love Shagun\n",
            "Chase (2010 film)\n",
            "Khosla Ka Ghosla\n",
            "Ekkees Toppon Ki Salaami\n",
            "Mr. Bhatti on Chutti\n",
            "Yeh Mera India\n",
            "Maine Gandhi Ko Nahin Mara\n",
            "Shukriya: Till Death Do Us Apart\n",
            "Meerabai Not Out\n",
            "The Accidental Prime Minister (film)\n",
            "Hum Hai Raahi Car Ke\n",
            "Sahi Dhandhe Galat Bande\n",
            "Dirty Politics (film)\n",
            "One Day: Justice Delivered\n",
            "Singham Returns\n",
            "Phillauri (film)\n",
            "NH10 (film)\n",
            "Sui Dhaaga\n",
            "Yeh Khula Aasmaan\n",
            "Bubble Gum (film)\n",
            "Prem Kaa Game\n",
            "Dus Kahaniyaan\n",
            "Jeena Isi Ka Naam Hai (film)\n",
            "Married 2 America\n",
            "2 States (2014 film)\n",
            "Aurangzeb (film)\n",
            "Ishaqzaade\n",
            "Namaste England\n",
            "India's Most Wanted (film)\n",
            "Tevar\n",
            "Brij Mohan Amar Rahe\n",
            "Coffee Bloom\n",
            "Humko Tumse Pyaar Hai\n",
            "Vaada (film)\n",
            "Chakravyuh (2012 film)\n",
            "Familywala\n",
            "Daddy (2017 film)\n",
            "Roy (film)\n",
            "Rock On!!\n",
            "Dil Ka Rishta\n",
            "Yakeen (2005 film)\n",
            "Asambhav\n",
            "Inkaar (2013 film)\n",
            "Elaan (2005 film)\n",
            "I See You (2006 film)\n",
            "Fox (film)\n",
            "Lekar Hum Deewana Dil\n",
            "Running Shaadi\n",
            "Sehar\n",
            "F.A.L.T.U\n",
            "Kuchh Meetha Ho Jaye\n",
            "Hum Tum Aur Ghost\n",
            "Jolly LLB\n",
            "Kisse Pyaar Karoon\n",
            "Fraud Saiyaan\n",
            "Waisa Bhi Hota Hai Part II\n",
            "Guddu Rangeela\n",
            "Welcome 2 Karachi\n",
            "Aanch\n",
            "Mirch\n",
            "Dear Dad (film)\n",
            "Lucky Kabootar\n",
            "Thoda Tum Badlo Thoda Hum\n",
            "Chaahat – Ek Nasha\n",
            "Dreams (2006 film)\n",
            "Mai (2013 film)\n",
            "Shab (film)\n",
            "Inteha (2003 film)\n",
            "Super Model (film)\n",
            "Nirdosh\n",
            "Cigarette Ki Tarah\n",
            "MSG: The Warrior Lion Heart\n",
            "Monica (film)\n",
            "Shabnam Mausi\n",
            "Balwinder Singh Famous Ho Gaya\n",
            "Ata Pata Laapata\n",
            "Chal Chala Chal\n",
            "Fruit and Nut (film)\n",
            "Om (2003 film)\n",
            "88 Antop Hill\n",
            "Bumm Bumm Bole\n",
            "NH-8 Road to Nidhivan\n",
            "Fredrick (film)\n",
            "Laila Majnu (2018 film)\n",
            "Double Cross (2005 film)\n",
            "Dor (film)\n",
            "Bala (2019 film)\n",
            "Nautanki Saala!\n",
            "Shubh Mangal Saavdhan\n",
            "Dream Girl (2019 film)\n",
            "Dum Laga Ke Haisha\n",
            "Article 15 (film)\n",
            "Badhaai Ho\n",
            "Meri Pyaari Bindu\n",
            "Andhadhun\n",
            "Vicky Donor\n",
            "Bareilly Ki Barfi\n",
            "Bewakoofiyaan\n",
            "Hawayein\n",
            "Soch Lo\n",
            "Main Aur Mr. Riight\n",
            "22 Yards\n",
            "P Se Pyaar F Se Faraar\n",
            "Thoda Lutf Thoda Ishq\n",
            "Ek Second... Jo Zindagi Badal De?\n",
            "From Sydney with Love\n",
            "Jodi Breakers\n",
            "Jism (2003 film)\n",
            "Creature 3D\n",
            "Pankh\n",
            "Alone (2015 Hindi film)\n",
            "Madhoshi\n",
            "Chehraa\n",
            "Corporate (2006 film)\n",
            "Apna Sapna Money Money\n",
            "Naqaab\n",
            "Barsaat (2005 film)\n",
            "Chamku\n",
            "Ek: The Power of One\n",
            "Vaada Raha\n",
            "Help (film)\n",
            "Bardaasht\n",
            "Shakalaka Boom Boom\n",
            "Kismat (2004 film)\n",
            "Jhalki\n",
            "PM Narendra Modi\n",
            "Santa Banta Pvt Ltd\n",
            "Well Done Abba\n",
            "Delhi Safari\n",
            "Prague (2013 film)\n",
            "MSG-2 The Messenger\n",
            "Miley Naa Miley Hum\n",
            "Jai Chiranjeeva\n",
            "Bioscopewala\n",
            "Zokkomon\n",
            "Taare Zameen Par\n",
            "Chor Chor Super Chor\n",
            "Not a Love Story (2011 film)\n",
            "Gone Kesh\n",
            "Piku\n",
            "Finding Fanny\n",
            "Break Ke Baad\n",
            "Chennai Express\n",
            "Raabta (film)\n",
            "Padmaavat\n",
            "Yeh Dooriyan\n",
            "Memories in March\n",
            "Mr Prime Minister\n",
            "Chargesheet (film)\n",
            "Raanjhanaa\n",
            "Tell Me O Kkhuda\n",
            "Second Hand Husband\n",
            "Apne\n",
            "Yamla Pagla Deewana: Phir Se\n",
            "Life in a... Metro\n",
            "Johnny Gaddaar\n",
            "Nawabzaade\n",
            "Koi Mere Dil Mein Hai\n",
            "Happy Bhag Jayegi\n",
            "Wedding Pullav\n",
            "Arjun Patiala\n",
            "Gollu Aur Pappu\n",
            "Bhram\n",
            "Ishq Hai Tumse\n",
            "Anamika (2008 film)\n",
            "Raaz (2002 film)\n",
            "Gumnaam – The Mystery\n",
            "Insaaf: The Justice\n",
            "Dude Where's the Party?\n",
            "Nanhe Jaisalmer\n",
            "The Pink Mirror\n",
            "Kahin Hai Mera Pyar\n",
            "Wake Up India\n",
            "Zeher\n",
            "The Train (2007 film)\n",
            "Dil Diya Hai\n",
            "Crook (film)\n",
            "Awarapan\n",
            "Tumsa Nahin Dekha: A Love Story\n",
            "Aksar\n",
            "Rush (2012 film)\n",
            "Jannat (film)\n",
            "Jawani Diwani: A Youthful Joyride\n",
            "Mr. X (2015 film)\n",
            "Raaz: Reboot\n",
            "Aashiq Banaya Aapne\n",
            "Tum Mile\n",
            "Ungli\n",
            "Raja Natwarlal\n",
            "Azhar (film)\n",
            "Ek Thi Daayan\n",
            "Shanghai (2012 film)\n",
            "Why Cheat India\n",
            "Murder 2\n",
            "Just Married (2007 film)\n",
            "Shaadi No. 1\n",
            "Darling (2007 Indian film)\n",
            "Pyare Mohan\n",
            "Jai Veeru\n",
            "Acid Factory\n",
            "Ek Khiladi Ek Haseena (film)\n",
            "Khushi (2003 Hindi film)\n",
            "Shaadi Ke Side Effects\n",
            "Luck by Chance\n",
            "Rock On 2\n",
            "Bhaag Milkha Bhaag\n",
            "Lucknow Central\n",
            "Accident on Hill Road\n",
            "Children of War (2014 film)\n",
            "Listen... Amaya\n",
            "Lahore (film)\n",
            "Janasheen\n",
            "Shirin Farhad Ki Toh Nikal Padi\n",
            "Hey Bro\n",
            "Risknamaa\n",
            "Go (2007 film)\n",
            "Yeh Hai India\n",
            "Kuchh Bheege Alfaaz\n",
            "Soni (film)\n",
            "Loveshhuda\n",
            "Om-Dar-B-Dar\n",
            "Naughty @ 40\n",
            "Jahan Jaaeyega Hamen Paaeyega\n",
            "Sandwich (2006 film)\n",
            "Money Hai Toh Honey Hai\n",
            "FryDay\n",
            "Aa Gaya Hero\n",
            "Life Partner\n",
            "Turning 30\n",
            "Fatso!\n",
            "Hello Darling\n",
            "Hunterrr\n",
            "I Am Kalam\n",
            "Sukhmani: Hope for Life\n",
            "Waris Shah: Ishq Daa Waaris\n",
            "Khamoshiyan\n",
            "Hind Ka Napak Ko Jawab: MSG Lion Heart 2\n",
            "MSG: The Messenger\n",
            "Jalpari: The Desert Mermaid\n",
            "Victory (2009 film)\n",
            "What's Your Raashee?\n",
            "Dishkiyaoon\n",
            "Love Story 2050\n",
            "Jigariyaa\n",
            "Mirzya (film)\n",
            "Bhavesh Joshi Superhero\n",
            "Khel Toh Ab Shuru Hoga\n",
            "Mittal v/s Mittal\n",
            "Ek Thi Rani Aisi Bhi\n",
            "Calapor (film)\n",
            "Sweetiee Weds NRI\n",
            "Dil Jo Na Keh Saka\n",
            "Login (film)\n",
            "Khwahish\n",
            "Karzzzz\n",
            "The Xposé\n",
            "Damadamm!\n",
            "Aap Kaa Surroor\n",
            "Aasma: The Sky Is the Limit\n",
            "Main Prem Ki Diwani Hoon\n",
            "Guzaarish (film)\n",
            "Kites (film)\n",
            "Super 30 (film)\n",
            "Mohenjo Daro (film)\n",
            "Jodhaa Akbar\n",
            "Bang Bang!\n",
            "Agneepath (2012 film)\n",
            "Dhoom 2\n",
            "Zindagi Na Milegi Dobara\n",
            "Lakshya (film)\n",
            "Kaabil\n",
            "Viceroy's House (film)\n",
            "Rustom (film)\n",
            "Dil Dosti Etc\n",
            "Gori Tere Pyaar Mein\n",
            "Matru Ki Bijlee Ka Mandola\n",
            "I Hate Luv Storys\n",
            "Mere Brother Ki Dulhan\n",
            "Delhi Belly (film)\n",
            "Firaaq\n",
            "Ya Rab\n",
            "Dilliwali Zaalim Girlfriend\n",
            "Apna Asmaan\n",
            "Dil Kabaddi\n",
            "Hindi Medium\n",
            "Rog\n",
            "The Killer (2006 film)\n",
            "Paan Singh Tomar (film)\n",
            "Talvar (film)\n",
            "Madaari\n",
            "Qarib Qarib Singlle\n",
            "The Lunchbox\n",
            "Qissa (film)\n",
            "Billu\n",
            "Karwaan\n",
            "Maqbool\n",
            "Shabri\n",
            "Ek Vivaah... Aisa Bhi\n",
            "Girlfriend (2004 film)\n",
            "Dhadak\n",
            "Beyond the Clouds (2017 film)\n",
            "Aashiqui.in\n",
            "Darwaaza Bandh Rakho\n",
            "Bhoot Returns\n",
            "Paltan (film)\n",
            "Hari Puttar: A Comedy of Terrors\n",
            "Baaz: A Bird in Danger\n",
            "Dobara\n",
            "Kisaan\n",
            "Bhoot Unkle\n",
            "Ajab Gazabb Love\n",
            "Youngistaan\n",
            "Mitron\n",
            "Rangrezz\n",
            "Saaho\n",
            "Bangistan\n",
            "Staying Alive (2012 film)\n",
            "Meeruthiya Gangsters\n",
            "My Bollywood Bride\n",
            "Chetna: The Excitement\n",
            "Jajantaram Mamantaram\n",
            "Hate Story 2\n",
            "Sunglass (film)\n",
            "Flat 211\n",
            "Drona (2008 film)\n",
            "Indian Babu\n",
            "Blood Brothers (2007 Indian film)\n",
            "Zamaanat\n",
            "Prateeksha\n",
            "Ek Kahani Julie Ki\n",
            "Charas (2004 film)\n",
            "Shortcut Safari\n",
            "Umar (film)\n",
            "Hastey Hastey\n",
            "Saheb Biwi Aur Gangster\n",
            "Shorgul\n",
            "Saheb Biwi Aur Gangster Returns\n",
            "Chhodon Naa Yaar\n",
            "Fugly (film)\n",
            "Agnipankh\n",
            "Darr @ the Mall\n",
            "Family of Thakurganj\n",
            "Strangers (2007 Hindi film)\n",
            "Phamous\n",
            "Haasil\n",
            "A Flat (film)\n",
            "Dishoom\n",
            "Madras Cafe\n",
            "Kabul Express\n",
            "Jhootha Hi Sahi\n",
            "Force 2\n",
            "Saaya (2003 film)\n",
            "Force (2011 film)\n",
            "Paap\n",
            "Karam (film)\n",
            "Goal (2007 Hindi film)\n",
            "Batla House\n",
            "Parmanu: The Story of Pokhran\n",
            "No Smoking (2007 film)\n",
            "Little Zizou\n",
            "Aashayein\n",
            "Satyameva Jayate (2018 film)\n",
            "Rocky Handsome\n",
            "New York (2009 film)\n",
            "Love in Bombay\n",
            "Heyy Babyy\n",
            "Kash Aap Hamare Hote\n",
            "Bas Ek Pal\n",
            "7½ Phere\n",
            "Krazzy 4\n",
            "I Am (2010 Indian film)\n",
            "Main Krishna Hoon\n",
            "Rakhtbeej\n",
            "Ragini MMS\n",
            "Do Lafzon Ki Kahani (film)\n",
            "Helicopter Eela\n",
            "The Namesake (film)\n",
            "Ribbon (film)\n",
            "Margarita with a Straw\n",
            "Shaitan (film)\n",
            "Jurm (2005 film)\n",
            "Vishwaroopam\n",
            "Deshdrohi\n",
            "Rangoon (2017 Hindi film)\n",
            "Judgementall Hai Kya\n",
            "Simran (film)\n",
            "Revolver Rani\n",
            "Raaz: The Mystery Continues\n",
            "Gangster (2006 film)\n",
            "Manikarnika: The Queen of Jhansi\n",
            "Tanu Weds Manu: Returns\n",
            "Rajjo\n",
            "Queen (2014 film)\n",
            "Woh Lamhe...\n",
            "Tanu Weds Manu: Returns\n",
            "Station (2014 film)\n",
            "Koyelaanchal\n",
            "Dil Pardesi Ho Gayaa\n",
            "Kis Kisko Pyaar Karoon\n",
            "Firangi\n",
            "Pal Pal Dil Ke Paas\n",
            "Horror Story (film)\n",
            "Sadda Adda\n",
            "Hume Tumse Pyaar Kitna\n",
            "Mumbai 125 KM\n",
            "Chup Chup Ke\n",
            "Fida\n",
            "Ek Main Aur Ekk Tu\n",
            "Heroine (2012 film)\n",
            "Milenge Milenge\n",
            "Chameli (film)\n",
            "Agent Vinod (2012 film)\n",
            "Dangerous Ishhq\n",
            "Pyaar Ka Punchnama 2\n",
            "Pyaar Ka Punchnama\n",
            "Pati Patni Aur Woh (2019 film)\n",
            "Guest iin London\n",
            "Akaash Vani\n",
            "Kaanchi: The Unbreakable\n",
            "Sonu Ke Titu Ki Sweety\n",
            "The Blueberry Hunt\n",
            "Revati (film)\n",
            "Bumboo\n",
            "Ankur Arora Murder Case\n",
            "Sirf (film)\n",
            "Gulaal (film)\n",
            "Vodka Diaries\n",
            "Sankat City\n",
            "The Stoneman Murders\n",
            "Hazaaron Khwaishein Aisi\n",
            "Black Friday (2007 film)\n",
            "Rahasya\n",
            "Via Darjeeling\n",
            "Life Ki Toh Lag Gayi\n",
            "Machine (2017 film)\n",
            "?: A Question Mark\n",
            "Mummy Punjabi\n",
            "Saas Bahu Aur Sensex\n",
            "Khamosh Pani\n",
            "Indu Sarkar\n",
            "Page 3 (film)\n",
            "Aur Pappu Paas Ho Gaya\n",
            "Ishq Forever\n",
            "Pagalpanti (2019 film)\n",
            "Dhanak\n",
            "The Final Exit\n",
            "Raag Desh (film)\n",
            "Kaun Kitne Paani Mein\n",
            "Kalyug (2005 film)\n",
            "Traffic Signal (film)\n",
            "99 (2009 film)\n",
            "Bhaag Johnny\n",
            "Guddu Ki Gun\n",
            "Hate Story 4\n",
            "W (2014 film)\n",
            "Kurbaan (2009 film)\n",
            "Always Kabhi Kabhi\n",
            "Mumbai Salsa\n",
            "Kasak (2005 film)\n",
            "Irudhi Suttru\n",
            "Ramji Londonwaley\n",
            "Tanu Weds Manu\n",
            "Nothing but Life\n",
            "Gulaab Gang\n",
            "Dedh Ishqiya\n",
            "Aaja Nachle\n",
            "Karar: The Deal\n",
            "Sarhad Paar\n",
            "Souten: The Other Woman\n",
            "Hawaa Hawaai\n",
            "Dolly Ki Doli\n",
            "Maan Gaye Mughal-e-Azam\n",
            "Kis Kis Ki Kismat\n",
            "Hisss\n",
            "Murder (2004 film)\n",
            "Albert Pinto Ko Gussa Kyun Aata Hai?\n",
            "Say Salaam India\n",
            "Ishqeria\n",
            "Blood Money (2012 film)\n",
            "Ranbanka\n",
            "Mickey Virus\n",
            "Bandook\n",
            "Tulsi (film)\n",
            "Dear Maya\n",
            "Market (2003 film)\n",
            "Escape from Taliban\n",
            "Paisa Vasool\n",
            "Anjaane (2005 film)\n",
            "The Silent Heroes\n",
            "Zid (2014 film)\n",
            "Life Is Beautiful (2014 film)\n",
            "Bachche Kachche Sachche\n",
            "1971 (2007 film)\n",
            "Traffic (2016 film)\n",
            "Missing (2018 film)\n",
            "Ramayana: The Epic\n",
            "Saat Uchakkey\n",
            "Gali Guleiyan\n",
            "Krishna Aur Kans\n",
            "Rukh (film)\n",
            "Gangs of Wasseypur\n",
            "Gangs of Wasseypur – Part 2\n",
            "Inteqam: The Perfect Game\n",
            "Chittagong (film)\n",
            "Swami (2007 film)\n",
            "Jail (2009 film)\n",
            "What the Fish\n",
            "Thanks Maa\n",
            "P Se PM Tak\n",
            "Zor Lagaa Ke...Haiya!\n",
            "MP3: Mera Pehla Pehla Pyaar\n",
            "U R My Jaan\n",
            "Haunted – 3D\n",
            "Jimmy (2008 film)\n",
            "Ishqedarriyaan\n",
            "Bhopal: A Prayer for Rain\n",
            "Baabarr\n",
            "Classic – Dance of Love\n",
            "Guru (2007 film)\n",
            "Luck (2009 film)\n",
            "Zindagi Tere Naam\n",
            "Chandni Chowk to China\n",
            "Phir Kabhi\n",
            "Don Muthu Swami\n",
            "Children of Heaven\n",
            "Gauri: The Unborn\n",
            "Paranthe Wali Gali\n",
            "Shiva (2006 film)\n",
            "James (2005 film)\n",
            "Uvaa\n",
            "Mumbai Mast Kallander\n",
            "Buddha Mar Gaya\n",
            "Evening Shadows\n",
            "Lakshmi (2014 film)\n",
            "68 Pages\n",
            "Bezubaan Ishq\n",
            "Hanuman (2005 film)\n",
            "Dhokha\n",
            "Yamla Pagla Deewana\n",
            "Hawaizaada\n",
            "Ab Tak Chhappan 2\n",
            "Taxi No. 9211\n",
            "Paathshaala\n",
            "Wedding Anniversary\n",
            "Hattrick (film)\n",
            "Shagird (2011 film)\n",
            "Tum Milo Toh Sahi\n",
            "Ek Alag Mausam\n",
            "Gattu\n",
            "5 Weddings\n",
            "Irada (2017 film)\n",
            "Dharam Sankat Mein\n",
            "Barah Aana\n",
            "Being Cyrus\n",
            "The Tashkent Files\n",
            "Chaalis Chauraasi\n",
            "Jackpot (2013 film)\n",
            "John Day (film)\n",
            "3 Deewarein\n",
            "Waiting (2015 film)\n",
            "Ramprasad Ki Tehrvi\n",
            "Hope Aur Hum\n",
            "The Film\n",
            "Jigyaasa\n",
            "Paanch Ghantey Mien Paanch Crore\n",
            "Chicken Curry Law\n",
            "Anwar (2007 film)\n",
            "Bin Bulaye Baraati\n",
            "Aabra Ka Daabra\n",
            "Sulemani Keeda\n",
            "Photograph (film)\n",
            "Haraamkhor\n",
            "Babumoshai Bandookbaaz\n",
            "Raman Raghav 2.0\n",
            "Manto (2018 film)\n",
            "Thackeray (film)\n",
            "Freaky Ali\n",
            "Manjhi – The Mountain Man\n",
            "The Bypass\n",
            "Motichoor Chaknachoor\n",
            "Titli (2014 film)\n",
            "Panchlait\n",
            "Sheesha (2005 film)\n",
            "Moh Maya Money\n",
            "Julie (2004 film)\n",
            "Tum Bin II\n",
            "Bypass Road (film)\n",
            "Tera Kya Hoga Johnny\n",
            "Dassehra\n",
            "Aa Dekhen Zara\n",
            "Lafangey Parindey\n",
            "3G (film)\n",
            "Shortcut Romeo\n",
            "Waarrior Savitri\n",
            "Tamanchey\n",
            "Hate Story\n",
            "Titoo MBA\n",
            "Julie 2\n",
            "My Birthday Song\n",
            "Love Sex Aur Dhokha\n",
            "Na Ghar Ke Na Ghaat Ke\n",
            "Teen Thay Bhai\n",
            "Dhoop\n",
            "Kagaar: Life on the Edge\n",
            "Humne Jeena Seekh Liya\n",
            "Peepli Live\n",
            "Aalaap (film)\n",
            "Holiday (2006 film)\n",
            "Dharm (film)\n",
            "The Blue Umbrella (2005 film)\n",
            "Global Baba\n",
            "Anaarkali of Aarah\n",
            "Halkaa\n",
            "Mere Baap Pehle Aap\n",
            "Table No. 21\n",
            "Mumbai Meri Jaan\n",
            "Malamaal Weekly\n",
            "Road to Sangam\n",
            "Dhoondte Reh Jaaoge\n",
            "Yun Hota Toh Kya Hota\n",
            "OMG – Oh My God!\n",
            "Tere Bin Laden: Dead or Alive\n",
            "Stanley Ka Dabba\n",
            "Chinar Daastaan-E-Ishq\n",
            "Sikandar (2009 film)\n",
            "Love Games (film)\n",
            "Aakhari Decision\n",
            "Nasha (film)\n",
            "Action Jackson (2014 film)\n",
            "Mercury (film)\n",
            "Khamoshi (2019 film)\n",
            "ABCD 2\n",
            "Aval (2017 film)\n",
            "Mr. Singh Mrs. Mehta\n",
            "Issaq\n",
            "Ekk Deewana Tha\n",
            "My Friend Pinto\n",
            "Dhobi Ghat (film)\n",
            "Ishkq in Paris\n",
            "Rebellious Flower\n",
            "Yadvi – The Dignified Princess\n",
            "Hum Chaar\n",
            "Mughal-e-Azam\n",
            "7 Khoon Maaf\n",
            "Pyaar Impossible!\n",
            "Anjaana Anjaani\n",
            "Fashion (2008 film)\n",
            "Mary Kom (film)\n",
            "Jaane Kahan Se Aayi Hai\n",
            "Jai Gangaajal\n",
            "Aapko Pehle Bhi Kahin Dekha Hai\n",
            "Utthaan\n",
            "Fukrey\n",
            "Bittoo Boss\n",
            "O Teri\n",
            "Veerey Ki Wedding\n",
            "Fukrey Returns\n",
            "Junooniyat\n",
            "Satya 2\n",
            "Jal (film)\n",
            "Meinu Ek Ladki Chaahiye\n",
            "Devi (2016 film)\n",
            "Baazaar\n",
            "Bombairiya\n",
            "Phobia (2016 film)\n",
            "Dear Friend Hitler\n",
            "Miss Tanakpur Haazir Ho\n",
            "Pihu\n",
            "Mastram\n",
            "Union Leader (film)\n",
            "Ugly (film)\n",
            "Ek Din 24 Ghante\n",
            "The Japanese Wife\n",
            "Mumbai Matinee\n",
            "Pyaar Ke Side Effects\n",
            "Adharm (2006 film)\n",
            "Khap (film)\n",
            "Raqeeb\n",
            "Bollywood Diaries\n",
            "Raees (film)\n",
            "Antardwand\n",
            "Eight: The Power of Shani\n",
            "Udaan (2010 film)\n",
            "Phas Gaye Re Obama\n",
            "Mantra (2016 film)\n",
            "Fever (2016 film)\n",
            "Pranaam\n",
            "Samrat & Co.\n",
            "Quick Gun Murugun\n",
            "Riyasat (film)\n",
            "Wafa: A Deadly Love Story\n",
            "Siddharth (2013 film)\n",
            "Deadline: Sirf 24 Ghante\n",
            "Trapped (2016 Hindi film)\n",
            "Shahid (film)\n",
            "Behen Hogi Teri\n",
            "Omerta (film)\n",
            "Kai Po Che!\n",
            "Shaadi Mein Zaroor Aana\n",
            "Newton (film)\n",
            "Stree (2018 film)\n",
            "Made in China (2019 film)\n",
            "CityLights (2014 film)\n",
            "Hamari Adhuri Kahani\n",
            "Phhir\n",
            "Direct Ishq\n",
            "1920 (film)\n",
            "Kushti (film)\n",
            "Main Meri Patni Aur Woh\n",
            "G Kutta Se\n",
            "Tom Dick and Harry (2006 film)\n",
            "Talaash: The Hunt Begins...\n",
            "Devaki (2005 film)\n",
            "Kuch Kuch Locha Hai\n",
            "The Ghazi Attack\n",
            "Rocket Singh: Salesman of the Year\n",
            "Yeh Jawaani Hai Deewani\n",
            "Ae Dil Hai Mushkil\n",
            "Ajab Prem Ki Ghazab Kahani\n",
            "Wake Up Sid\n",
            "Rockstar (2011 film)\n",
            "Bombay Velvet\n",
            "Barfi!\n",
            "Jagga Jasoos\n",
            "Sanju\n",
            "Bachna Ae Haseeno\n",
            "Sarbjit (film)\n",
            "Murder 3\n",
            "D (film)\n",
            "Rang Rasiya\n",
            "Laal Rang\n",
            "Aiyyaa\n",
            "Saawariya\n",
            "Laaga Chunari Mein Daag\n",
            "No One Killed Jessica\n",
            "Hichki\n",
            "Bombay Talkies (film)\n",
            "Mardaani\n",
            "Mardaani 2\n",
            "Gunday\n",
            "Kill Dil\n",
            "Band Baaja Baaraat\n",
            "Bajirao Mastani\n",
            "Simmba\n",
            "Lootera\n",
            "Gully Boy\n",
            "Goliyon Ki Raasleela Ram-Leela\n",
            "Ladies vs Ricky Bahl\n",
            "Honeymoon Travels Pvt. Ltd.\n",
            "The Film Emotional Atyachar\n",
            "Kaun Hai Jo Sapno Mein Aaya\n",
            "Mere Pyare Prime Minister\n",
            "Jai Jawaan Jai Kisaan (film)\n",
            "Spark (2014 film)\n",
            "Karma Aur Holi\n",
            "Aisa Kyon Hota Hai?\n",
            "Maatr\n",
            "Satta (film)\n",
            "Praan Jaye Par Shaan Na Jaye\n",
            "Stumped (film)\n",
            "Jeena Hai Toh Thok Daal\n",
            "Flavors (film)\n",
            "Sadiyaan\n",
            "Super Nani\n",
            "Krrish\n",
            "Bachke Rehna Re Baba\n",
            "Koi... Mil Gaya\n",
            "Kudiyon Ka Hai Zamana\n",
            "Yatra (2007 film)\n",
            "Bazaar E Husn\n",
            "Sonali Cable\n",
            "Jalebi (film)\n",
            "Chalk n Duster\n",
            "Masaan\n",
            "Jia Aur Jia\n",
            "JD (film)\n",
            "Sanam Re\n",
            "Love Ke Chakkar Mein\n",
            "Patiala House (film)\n",
            "Patel Ki Punjabi Shaadi\n",
            "All Is Well (2015 film)\n",
            "Do Dooni Chaar\n",
            "Don't Stop Dreaming\n",
            "D-Day (2013 film)\n",
            "Jhootha Kahin Ka\n",
            "Chintu Ji\n",
            "Pyaar Mein Twist\n",
            "Ishq Ke Parindey\n",
            "Tujhe Meri Kasam\n",
            "Kyaa Super Kool Hain Hum\n",
            "Banjo (2016 film)\n",
            "Out of Control (2003 film)\n",
            "Bank Chor\n",
            "Tere Naal Love Ho Gaya\n",
            "Marjaavaan\n",
            "Life Express (2010 film)\n",
            "Gippi\n",
            "Apartment (film)\n",
            "Dongari Ka Raja\n",
            "Chhota Bheem and the Throne of Bali\n",
            "Fun2shh... Dudes in the 10th Century\n",
            "United Six\n",
            "Thodi Life Thoda Magic\n",
            "Mad About Dance\n",
            "Bullet: Ek Dhamaka\n",
            "Aazaan\n",
            "Veerappan (2016 film)\n",
            "City of Gold (2010 film)\n",
            "Anuradha (2014 film)\n",
            "Sachin: A Billion Dreams\n",
            "Basti (film)\n",
            "Raja Bhaiya (film)\n",
            "Jugni (2016 film)\n",
            "Chal Pichchur Banate Hain\n",
            "Hai Apna Dil Toh Awara\n",
            "Babloo Happy Hai\n",
            "Ramaa: The Saviour\n",
            "Salaam Namaste\n",
            "Race 2\n",
            "Race (2008 film)\n",
            "Happy Ending (film)\n",
            "Ek Hasina Thi (film)\n",
            "Hum Tum\n",
            "Humshakals\n",
            "Roadside Romeo\n",
            "Kaalakaandi\n",
            "Ta Ra Rum Pum\n",
            "Go Goa Gone\n",
            "Cocktail (2012 film)\n",
            "Bullett Raja\n",
            "Parineeta (2005 film)\n",
            "Chef (2017 film)\n",
            "Love Aaj Kal\n",
            "Thoda Pyaar Thoda Magic\n",
            "Phantom (2015 film)\n",
            "3 A.M. (2014 film)\n",
            "Mujhse Shaadi Karogi\n",
            "Bodyguard (2011 Hindi film)\n",
            "Veer (2010 film)\n",
            "Tiger Zinda Hai\n",
            "Bajrangi Bhaijaan\n",
            "Tere Naam\n",
            "Garv: Pride & Honour\n",
            "Tubelight (2017 Hindi film)\n",
            "Kick (2014 film)\n",
            "Yuvvraaj\n",
            "Main Aurr Mrs Khanna\n",
            "Ek Tha Tiger\n",
            "Shaadi Karke Phas Gaya Yaar\n",
            "Dabangg 2\n",
            "Lucky: No Time for Love\n",
            "Jaan-E-Mann\n",
            "Wanted (2009 film)\n",
            "Partner (2007 film)\n",
            "Maine Pyaar Kyun Kiya?\n",
            "Salaam-e-Ishq: A Tribute to Love\n",
            "Marigold (2007 film)\n",
            "Prem Ratan Dhan Payo\n",
            "Dabangg 3\n",
            "Dil Ne Jise Apna Kahaa\n",
            "Jai Ho (film)\n",
            "Phir Milenge\n",
            "Sultan (2016 film)\n",
            "Saawan... The Love Season\n",
            "Kyon Ki\n",
            "London Dreams\n",
            "Dabangg\n",
            "Darna Mana Hai\n",
            "Chand Sa Roshan Chehra\n",
            "Mukhbiir\n",
            "Gulabi Gang (film)\n",
            "Ghost (2019 film)\n",
            "Zinda (film)\n",
            "Rakht\n",
            "Rudraksh (film)\n",
            "Saheb Biwi Aur Gangster 3\n",
            "Munna Bhai M.B.B.S.\n",
            "Lage Raho Munna Bhai\n",
            "Anthony Kaun Hai?\n",
            "Chatur Singh Two Star\n",
            "Tathastu\n",
            "Lamhaa\n",
            "Border (1997 film)\n",
            "Department (film)\n",
            "Plan (film)\n",
            "Dhamaal\n",
            "No Problem (2010 film)\n",
            "Policegiri\n",
            "All the Best: Fun Begins\n",
            "Prassthanam\n",
            "Shortkut\n",
            "Nehlle Pe Dehlla\n",
            "Knock Out (2010 film)\n",
            "Double Dhamaal\n",
            "Shabd (film)\n",
            "Dus\n",
            "Ek Aur Ek Gyarah\n",
            "LOC Kargil\n",
            "Kadvi Hawa\n",
            "Ankhon Dekhi\n",
            "Satrangee Parachute\n",
            "Murari the Mad Gentleman\n",
            "My Brother…Nikhil\n",
            "Jhankaar Beats\n",
            "Shaadi Ka Laddoo\n",
            "It's a Wonderful Afterlife\n",
            "Sholay\n",
            "Pataakha\n",
            "Mujhse Fraaandship Karoge\n",
            "Mere Dad Ki Maruti\n",
            "404 (film)\n",
            "Ishq Click\n",
            "Barkhaa\n",
            "Sacred Evil – A True Story\n",
            "Gangoobai\n",
            "Desi Kattey\n",
            "Dekh Tamasha Dekh\n",
            "Motu Patlu: King of Kings\n",
            "Bumper Draw\n",
            "Shor in the City\n",
            "Sorry Bhai!\n",
            "A Decent Arrangement\n",
            "Loins of Punjab Presents\n",
            "Morning Raga\n",
            "Tehzeeb (2003 film)\n",
            "B.A. Pass\n",
            "Happy New Year (2014 film)\n",
            "Main Hoon Na\n",
            "Chak De! India\n",
            "Om Shanti Om\n",
            "Fan (film)\n",
            "Chalte Chalte (2003 film)\n",
            "Jab Harry Met Sejal\n",
            "Paheli\n",
            "Jab Tak Hai Jaan\n",
            "Rab Ne Bana Di Jodi\n",
            "Ra.One\n",
            "Yeh Lamhe Judaai Ke\n",
            "Devdas (2002 Hindi film)\n",
            "Hum Tumhare Hain Sanam\n",
            "Don 2\n",
            "Don (2006 Hindi film)\n",
            "Swades\n",
            "Kal Ho Naa Ho\n",
            "Dilwale (2015 film)\n",
            "Veer-Zaara\n",
            "Zero (2018 film)\n",
            "My Name Is Khan\n",
            "Keep Safe Distance (film)\n",
            "Teri Meri Kahaani (film)\n",
            "Batti Gul Meter Chalu\n",
            "Jab We Met\n",
            "Vaah! Life Ho Toh Aisi!\n",
            "Mausam (2011 film)\n",
            "Shaandaar\n",
            "Ishq Vishk\n",
            "Phata Poster Nikhla Hero\n",
            "Kabir Singh\n",
            "Dil Maange More\n",
            "Kismat Konnection\n",
            "Vivah\n",
            "Fool & Final\n",
            "Dil Bole Hadippa!\n",
            "Kaminey\n",
            "Udta Punjab\n",
            "Chance Pe Dance\n",
            "I Love Desi\n",
            "Mumbai Can Dance Saala\n",
            "The Journey of Karma\n",
            "Sorry Daddy\n",
            "Filmistaan\n",
            "Dhol (film)\n",
            "Gang of Ghosts\n",
            "1920: London\n",
            "Xcuse Me\n",
            "Hello (2008 film)\n",
            "War Chhod Na Yaar\n",
            "Wajah Tum Ho\n",
            "Ferrari Ki Sawaari\n",
            "Brahman Naman\n",
            "Anna (2016 film)\n",
            "Aan: Men at Work\n",
            "Bhanwarey\n",
            "99.9 FM (film)\n",
            "Hawas (2004 film)\n",
            "Kucch Luv Jaisaa\n",
            "Red Swastik\n",
            "Valentine's Night\n",
            "Khamoshh... Khauff Ki Raat\n",
            "Fareb (2005 film)\n",
            "Khoya Khoya Chand\n",
            "Ghost (2012 film)\n",
            "Karle Pyaar Karle\n",
            "Ek Haseena Thi Ek Deewana Tha\n",
            "Mumbai Delhi Mumbai\n",
            "Baaghi (2016 film)\n",
            "Ok Jaanu\n",
            "Half Girlfriend (film)\n",
            "Haseena Parkar\n",
            "Setters (film)\n",
            "Bombay to Bangkok\n",
            "Paying Guests\n",
            "Iqbal (film)\n",
            "Welcome to Sajjanpur\n",
            "Wah Taj\n",
            "Aagey Se Right\n",
            "Click (2010 film)\n",
            "Ramaiya Vastavaiya\n",
            "Fuddu\n",
            "Yaaram (2019 film)\n",
            "Striker (2010 film)\n",
            "Kuku Mathur Ki Jhand Ho Gayi\n",
            "Fun – Can Be Dangerous Sometimes\n",
            "Karthik Calling Karthik\n",
            "Badmashiyaan\n",
            "Ek Villain\n",
            "Baar Baar Dekho\n",
            "Kapoor & Sons\n",
            "Aiyaary\n",
            "A Gentleman\n",
            "Jabariya Jodi\n",
            "Hasee Toh Phasee\n",
            "Woodstock Villa\n",
            "Khwaabb\n",
            "Main Hoon Part-Time Killer\n",
            "Chaarfutiya Chhokare\n",
            "31st October (film)\n",
            "Krishna Cottage\n",
            "Heroes (2008 film)\n",
            "Aryan: Unbreakable\n",
            "I Proud to Be an Indian\n",
            "Tumbbad\n",
            "Chand Ke Paar Chalo (film)\n",
            "Happy Phirr Bhag Jayegi\n",
            "Neerja\n",
            "The Zoya Factor (film)\n",
            "Khoobsurat (2014 film)\n",
            "Saansein\n",
            "Maximum (film)\n",
            "Magic Magic 3D\n",
            "Ranchi Diaries\n",
            "Mom (film)\n",
            "English Vinglish\n",
            "Phoonk 2\n",
            "Aaj Ka Andha Kanoon\n",
            "Babuji Ek Ticket Bambai\n",
            "Katti Batti\n",
            "Aligarh (film)\n",
            "Take It Easy (2015 film)\n",
            "High Jack (film)\n",
            "Angel (2011 film)\n",
            "Maazii\n",
            "Sons of Ram\n",
            "Coffee with D\n",
            "Bombay to Goa (2007 film)\n",
            "Daddy Cool (2009 Hindi film)\n",
            "Mere Dost Picture Abhi Baki Hai\n",
            "Padmashree Laloo Prasad Yadav\n",
            "Ek Se Badhkar Ek (2004 film)\n",
            "Red Alert: The War Within\n",
            "Fight Club – Members Only\n",
            "Enemmy\n",
            "Ghayal: Once Again\n",
            "Rok Sako To Rok Lo\n",
            "Teesri Aankh: The Hidden Camera\n",
            "Khuda Kasam\n",
            "Naksha\n",
            "Right Yaaa Wrong\n",
            "Khel – No Ordinary Game\n",
            "Bhaiaji Superhit\n",
            "Big Brother (2007 film)\n",
            "The Hero: Love Story of a Spy\n",
            "Mohalla Assi\n",
            "I Love NY (2015 film)\n",
            "Lakeer – Forbidden Lines\n",
            "Jaal: The Trap\n",
            "Singh Saab the Great\n",
            "Jo Bole So Nihaal (film)\n",
            "Poster Boys\n",
            "Jo Hum Chahein\n",
            "Bhoomi (film)\n",
            "Beiimaan Love\n",
            "Ragini MMS 2\n",
            "Noor (film)\n",
            "Ek Paheli Leela\n",
            "Ujda Chaman\n",
            "Khichdi: The Movie\n",
            "Hero (2015 Hindi film)\n",
            "Satellite Shankar\n",
            "Ajji\n",
            "M.S. Dhoni: The Untold Story\n",
            "Shuddh Desi Romance\n",
            "Detective Byomkesh Bakshy!\n",
            "Dil Bechara\n",
            "Sonchiriya\n",
            "Dulha Mil Gaya\n",
            "Samay: When Time Strikes\n",
            "Zindaggi Rocks\n",
            "Chingaari\n",
            "Crazy Cukkad Family\n",
            "Nil Battey Sannata\n",
            "Sabki Bajegi Band\n",
            "Machhli Jal Ki Rani Hai\n",
            "Saand Ki Aankh\n",
            "Naam Shabana\n",
            "Pink (2016 film)\n",
            "Manmarziyaan\n",
            "Dil Juunglee\n",
            "Mulk (film)\n",
            "Hawa (film)\n",
            "Toh Baat Pakki!\n",
            "Bhagmati (2005 film)\n",
            "Silsiilay\n",
            "Meenaxi: A Tale of Three Cities\n",
            "Haider (film)\n",
            "Hamid (film)\n",
            "Saankal\n",
            "Sssshhh...\n",
            "Rough Book\n",
            "Parched\n",
            "Purani Jeans\n",
            "Luv U Soniyo\n",
            "Rules: Pyaar Ka Superhit Formula\n",
            "Rokkk\n",
            "Sheen (film)\n",
            "Student of the Year 2\n",
            "Heropanti\n",
            "Munna Michael\n",
            "A Flying Jatt\n",
            "Baaghi 2\n",
            "Sooper Se Ooper\n",
            "Hyderabad Blues 2\n",
            "M Cream\n",
            "Matrubhoomi\n",
            "Showbiz (film)\n",
            "Good Boy Bad Boy\n",
            "Kucch To Hai\n",
            "One Two Three\n",
            "Gayab\n",
            "Kya Love Story Hai\n",
            "Shart: The Challenge\n",
            "Bajatey Raho\n",
            "Mastizaade\n",
            "Love U...Mr. Kalakaar!\n",
            "C Kkompany\n",
            "Hum Tum Shabana\n",
            "Yeh Dil\n",
            "Kyaa Kool Hai Hum\n",
            "Kyaa Kool Hain Hum 3\n",
            "Chaar Din Ki Chandni\n",
            "Aggar (film)\n",
            "Neal 'n' Nikki\n",
            "Speed (2007 film)\n",
            "Banaras (2006 film)\n",
            "Naina (2005 film)\n",
            "Pinjar (film)\n",
            "Great Grand Masti\n",
            "Genius (2018 Hindi film)\n",
            "Luv U Alia\n",
            "Befikre\n",
            "Yeh Saali Aashiqui\n",
            "Allah Ke Banday\n",
            "Judwaa 2\n",
            "Badlapur (film)\n",
            "October (2018 film)\n",
            "Humpty Sharma Ki Dulhania\n",
            "Main Tera Hero\n",
            "Badrinath Ki Dulhania\n",
            "Kalank\n",
            "Hostel (2011 film)\n",
            "Taarzan: The Wonder Car\n",
            "Zindagi 50-50\n",
            "Challo Driver\n",
            "1920: The Evil Returns\n",
            "Vaastu Shastra (film)\n",
            "Battalion 609\n",
            "Uri: The Surgical Strike\n",
            "Love per Square Foot\n",
            "Tahaan\n",
            "Joggers' Park (film)\n",
            "Tumhari Sulu\n",
            "Ishqiya\n",
            "The Dirty Picture\n",
            "Bobby Jasoos\n",
            "Kahaani\n",
            "Ghanchakkar (film)\n",
            "Commando 3 (film)\n",
            "Junglee (2019 film)\n",
            "Commando: A One Man Army\n",
            "Mukkabaaz\n",
            "Kya Dilli Kya Lahore\n",
            "Raghu Romeo\n",
            "Monsoon Shootout\n",
            "Dil Bechara Pyaar Ka Maara\n",
            "Nayee Padosan\n",
            "Vidyaarthi\n",
            "Green Card Fever\n",
            "Trump Card (film)\n",
            "Netaji Subhas Chandra Bose: The Forgotten Hero\n",
            "Tere Mere Phere\n",
            "Island City (2015 film)\n",
            "Khajoor Pe Atke\n",
            "Chalo Dilli\n",
            "Dasvidaniya\n",
            "Utt Pataang\n",
            "Kaagaz Ke Fools\n",
            "Gour Hari Dastaan\n",
            "Oh My God (2008 film)\n",
            "Bheja Fry (film)\n",
            "Bheja Fry 2\n",
            "Breakaway (2011 film)\n",
            "Zed Plus\n",
            "Risk (2007 film)\n",
            "Players (2012 film)\n",
            "Pehchaan: The Face of Truth\n",
            "7 Hours to Go\n",
            "Amit Sahni Ki List\n",
            "Court (film)\n",
            "Saare Jahaan Se Mehnga\n",
            "Saathiya (film)\n",
            "Home Delivery\n",
            "Mission Istaanbul\n",
            "Dum (2003 Hindi film)\n",
            "Kismat Love Paisa Dilli\n",
            "Zila Ghaziabad\n",
            "Grand Masti\n",
            "Jayantabhai Ki Luv Story\n",
            "Prince (2010 film)\n",
            "Kisna: The Warrior Poet\n",
            "Impatient Vivek\n",
            "Delhi-6\n",
            "Sixteen (2013 Indian film)\n",
            "Mere Genie Uncle\n",
            "Days of Tafree\n",
            "Aisa Yeh Jahaan\n",
            "Daas Dev\n",
            "Arjun: The Warrior Prince\n",
            "Notebook (2019 film)\n",
            "Secret Superstar\n",
            "The Sky Is Pink\n",
            "Honour Killing (film)\n",
            "Aksar 2\n",
            "Love Breakups Zindagi\n",
            "Chura Liyaa Hai Tumne\n",
            "Sharafat Gayi Tel Lene\n",
            "Sallu Ki Shaadi\n",
            "Dunno Y... Na Jaane Kyon\n",
            "Dil Toh Deewana Hai\n",
            "Strings of Passion\n",
            "Taj Mahal: An Eternal Love Story\n"
          ]
        }
      ],
      "source": [
        "# looping\n",
        "for i in movies.index:\n",
        "  print(i)"
      ]
    },
    {
      "cell_type": "code",
      "execution_count": 198,
      "metadata": {
        "colab": {
          "base_uri": "https://localhost:8080/"
        },
        "id": "XPYoq68WuBZ_",
        "outputId": "37e4b69d-1071-4735-a5cc-1db0c1b096a6"
      },
      "outputs": [
        {
          "data": {
            "text/plain": [
              "maths       1\n",
              "english    43\n",
              "science     1\n",
              "hindi       0\n",
              "marathi    25\n",
              "evs         0\n",
              "Name: fake report, dtype: int64"
            ]
          },
          "execution_count": 198,
          "metadata": {},
          "output_type": "execute_result"
        }
      ],
      "source": [
        "# Arithmetic Operators(Broadcasting)\n",
        "100 - marks_series"
      ]
    },
    {
      "cell_type": "code",
      "execution_count": 200,
      "metadata": {
        "colab": {
          "base_uri": "https://localhost:8080/"
        },
        "id": "L3uIP0BJuEKf",
        "outputId": "5071a9e3-ef90-4e09-d880-785518914f78"
      },
      "outputs": [
        {
          "data": {
            "text/plain": [
              "match_no\n",
              "1      False\n",
              "2      False\n",
              "3      False\n",
              "4      False\n",
              "5      False\n",
              "       ...  \n",
              "211    False\n",
              "212    False\n",
              "213     True\n",
              "214    False\n",
              "215    False\n",
              "Name: runs, Length: 215, dtype: bool"
            ]
          },
          "execution_count": 200,
          "metadata": {},
          "output_type": "execute_result"
        }
      ],
      "source": [
        "# Relational Operators\n",
        "\n",
        "vk >= 50"
      ]
    },
    {
      "cell_type": "markdown",
      "metadata": {
        "id": "nrtnwvD0O515"
      },
      "source": [
        "### Boolean Indexing on Series"
      ]
    },
    {
      "cell_type": "code",
      "execution_count": 201,
      "metadata": {
        "colab": {
          "base_uri": "https://localhost:8080/"
        },
        "id": "XcyU25jLO9ft",
        "outputId": "a239891b-0493-4eb0-85b5-301f599fa2f0"
      },
      "outputs": [
        {
          "data": {
            "text/plain": [
              "match_no\n",
              "15      50\n",
              "34      58\n",
              "41      71\n",
              "44      56\n",
              "45      67\n",
              "52      70\n",
              "57      57\n",
              "68      73\n",
              "71      51\n",
              "73      58\n",
              "74      65\n",
              "80      57\n",
              "81      93\n",
              "82      99\n",
              "85      56\n",
              "97      67\n",
              "99      73\n",
              "103     51\n",
              "104     62\n",
              "110     82\n",
              "116     75\n",
              "117     79\n",
              "119     80\n",
              "120    100\n",
              "122     52\n",
              "123    108\n",
              "126    109\n",
              "127     75\n",
              "128    113\n",
              "129     54\n",
              "131     54\n",
              "132     62\n",
              "134     64\n",
              "137     55\n",
              "141     58\n",
              "144     57\n",
              "145     92\n",
              "148     68\n",
              "152     70\n",
              "160     84\n",
              "162     67\n",
              "164    100\n",
              "175     72\n",
              "178     90\n",
              "182     50\n",
              "188     72\n",
              "197     51\n",
              "198     53\n",
              "209     58\n",
              "213     73\n",
              "Name: runs, dtype: int64"
            ]
          },
          "execution_count": 201,
          "metadata": {},
          "output_type": "execute_result"
        }
      ],
      "source": [
        "# Find no of 50's and 100's scored by kohli\n",
        "vk[vk >= 50]"
      ]
    },
    {
      "cell_type": "code",
      "execution_count": 204,
      "metadata": {},
      "outputs": [
        {
          "data": {
            "text/plain": [
              "5"
            ]
          },
          "execution_count": 204,
          "metadata": {},
          "output_type": "execute_result"
        }
      ],
      "source": [
        "vk[vk>=100].size"
      ]
    },
    {
      "cell_type": "code",
      "execution_count": 205,
      "metadata": {
        "colab": {
          "base_uri": "https://localhost:8080/"
        },
        "id": "37QxNConO904",
        "outputId": "82600c80-6242-41cd-b904-1831912b41da"
      },
      "outputs": [
        {
          "data": {
            "text/plain": [
              "9"
            ]
          },
          "execution_count": 205,
          "metadata": {},
          "output_type": "execute_result"
        }
      ],
      "source": [
        "# find number of ducks\n",
        "vk[vk == 0].size"
      ]
    },
    {
      "cell_type": "code",
      "execution_count": null,
      "metadata": {
        "colab": {
          "base_uri": "https://localhost:8080/"
        },
        "id": "p-Hft0kSvBn2",
        "outputId": "40c5162c-bf00-4be3-b07f-9e6a1ab1d3c2"
      },
      "outputs": [],
      "source": [
        "# Count number of day when I had more than 200 subs a day\n",
        "subs[subs > 200].size"
      ]
    },
    {
      "cell_type": "code",
      "execution_count": 215,
      "metadata": {
        "colab": {
          "base_uri": "https://localhost:8080/"
        },
        "id": "fZM3OCApvsZe",
        "outputId": "4dedb12e-c01e-4209-93a1-7614a4fb9a25"
      },
      "outputs": [
        {
          "data": {
            "text/plain": [
              "lead\n",
              "Akshay Kumar        48\n",
              "Amitabh Bachchan    45\n",
              "Ajay Devgn          38\n",
              "Salman Khan         31\n",
              "Sanjay Dutt         26\n",
              "Shah Rukh Khan      22\n",
              "Emraan Hashmi       21\n",
              "Name: count, dtype: int64"
            ]
          },
          "execution_count": 215,
          "metadata": {},
          "output_type": "execute_result"
        }
      ],
      "source": [
        "# find actors who have done more than 20 movies\n",
        "num_movies = movies.value_counts()\n",
        "num_movies\n",
        "num_movies[num_movies > 20]"
      ]
    },
    {
      "cell_type": "markdown",
      "metadata": {
        "id": "PQjv9hm-42Jr"
      },
      "source": [
        "### Plotting Graphs on Series"
      ]
    },
    {
      "cell_type": "code",
      "execution_count": 216,
      "metadata": {
        "colab": {
          "base_uri": "https://localhost:8080/",
          "height": 283
        },
        "id": "WVEQvPTw40KE",
        "outputId": "8e7a69f1-792a-4a0e-ad83-4875ecde1108"
      },
      "outputs": [
        {
          "data": {
            "text/plain": [
              "<Axes: >"
            ]
          },
          "execution_count": 216,
          "metadata": {},
          "output_type": "execute_result"
        },
        {
          "data": {
            "image/png": "[encoded data removed]",
            "text/plain": [
              "<Figure size 640x480 with 1 Axes>"
            ]
          },
          "metadata": {},
          "output_type": "display_data"
        }
      ],
      "source": [
        "subs.plot()"
      ]
    },
    {
      "cell_type": "code",
      "execution_count": 218,
      "metadata": {},
      "outputs": [
        {
          "data": {
            "text/plain": [
              "215"
            ]
          },
          "execution_count": 218,
          "metadata": {},
          "output_type": "execute_result"
        }
      ],
      "source": [
        "vk.count()"
      ]
    },
    {
      "cell_type": "code",
      "execution_count": 217,
      "metadata": {},
      "outputs": [
        {
          "data": {
            "text/plain": [
              "<Axes: xlabel='match_no'>"
            ]
          },
          "execution_count": 217,
          "metadata": {},
          "output_type": "execute_result"
        },
        {
          "data": {
            "image/png": "[encoded data removed]",
            "text/plain": [
              "<Figure size 640x480 with 1 Axes>"
            ]
          },
          "metadata": {},
          "output_type": "display_data"
        }
      ],
      "source": [
        "vk.plot()"
      ]
    },
    {
      "cell_type": "code",
      "execution_count": 220,
      "metadata": {
        "colab": {
          "base_uri": "https://localhost:8080/",
          "height": 266
        },
        "id": "lGhMdpmkTm-z",
        "outputId": "e21c52dc-b3cb-4a40-c2cf-2a09b7cd61f1"
      },
      "outputs": [
        {
          "data": {
            "text/plain": [
              "lead\n",
              "Akshay Kumar          48\n",
              "Amitabh Bachchan      45\n",
              "Ajay Devgn            38\n",
              "Salman Khan           31\n",
              "Sanjay Dutt           26\n",
              "Shah Rukh Khan        22\n",
              "Emraan Hashmi         21\n",
              "John Abraham          18\n",
              "Saif Ali Khan         18\n",
              "Sunny Deol            17\n",
              "Shahid Kapoor         17\n",
              "Tusshar Kapoor        16\n",
              "Jimmy Sheirgill       16\n",
              "Manoj Bajpayee        14\n",
              "Irrfan Khan           14\n",
              "Arjun Rampal          14\n",
              "Anupam Kher           13\n",
              "Ayushmann Khurrana    12\n",
              "Naseeruddin Shah      12\n",
              "Hrithik Roshan        12\n",
              "Name: count, dtype: int64"
            ]
          },
          "execution_count": 220,
          "metadata": {},
          "output_type": "execute_result"
        }
      ],
      "source": [
        "movies.value_counts().head(20)\n"
      ]
    },
    {
      "cell_type": "markdown",
      "metadata": {
        "id": "3fl2mDQgPsz_"
      },
      "source": [
        "### Some Important Series Methods"
      ]
    },
    {
      "cell_type": "code",
      "execution_count": 221,
      "metadata": {},
      "outputs": [
        {
          "data": {
            "text/plain": [
              "<Axes: xlabel='lead'>"
            ]
          },
          "execution_count": 221,
          "metadata": {},
          "output_type": "execute_result"
        },
        {
          "data": {
            "image/png": "[encoded data removed]",
            "text/plain": [
              "<Figure size 640x480 with 1 Axes>"
            ]
          },
          "metadata": {},
          "output_type": "display_data"
        }
      ],
      "source": [
        "movies.value_counts().head(20).plot(kind=\"bar\")"
      ]
    }
  ],
  "metadata": {
    "colab": {
      "provenance": []
    },
    "kernelspec": {
      "display_name": "Python 3",
      "name": "python3"
    },
    "language_info": {
      "codemirror_mode": {
        "name": "ipython",
        "version": 3
      },
      "file_extension": ".py",
      "mimetype": "text/x-python",
      "name": "python",
      "nbconvert_exporter": "python",
      "pygments_lexer": "ipython3",
      "version": "3.12.1"
    }
  },
  "nbformat": 4,
  "nbformat_minor": 0
}
